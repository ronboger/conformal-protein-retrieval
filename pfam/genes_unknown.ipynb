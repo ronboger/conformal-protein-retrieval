{
 "cells": [
  {
   "cell_type": "code",
   "execution_count": 1,
   "metadata": {},
   "outputs": [
    {
     "data": {
      "application/javascript": "\n            setTimeout(function() {\n                var nbb_cell_id = 1;\n                var nbb_unformatted_code = \"%load_ext nb_black\";\n                var nbb_formatted_code = \"%load_ext nb_black\";\n                var nbb_cells = Jupyter.notebook.get_cells();\n                for (var i = 0; i < nbb_cells.length; ++i) {\n                    if (nbb_cells[i].input_prompt_number == nbb_cell_id) {\n                        if (nbb_cells[i].get_text() == nbb_unformatted_code) {\n                             nbb_cells[i].set_text(nbb_formatted_code);\n                        }\n                        break;\n                    }\n                }\n            }, 500);\n            ",
      "text/plain": [
       "<IPython.core.display.Javascript object>"
      ]
     },
     "metadata": {},
     "output_type": "display_data"
    }
   ],
   "source": [
    "%load_ext nb_black"
   ]
  },
  {
   "cell_type": "code",
   "execution_count": 2,
   "metadata": {},
   "outputs": [
    {
     "data": {
      "application/javascript": "\n            setTimeout(function() {\n                var nbb_cell_id = 2;\n                var nbb_unformatted_code = \"import numpy as np\\nimport matplotlib.pyplot as plt\\nimport pandas as pd\\nimport seaborn as sns\";\n                var nbb_formatted_code = \"import numpy as np\\nimport matplotlib.pyplot as plt\\nimport pandas as pd\\nimport seaborn as sns\";\n                var nbb_cells = Jupyter.notebook.get_cells();\n                for (var i = 0; i < nbb_cells.length; ++i) {\n                    if (nbb_cells[i].input_prompt_number == nbb_cell_id) {\n                        if (nbb_cells[i].get_text() == nbb_unformatted_code) {\n                             nbb_cells[i].set_text(nbb_formatted_code);\n                        }\n                        break;\n                    }\n                }\n            }, 500);\n            ",
      "text/plain": [
       "<IPython.core.display.Javascript object>"
      ]
     },
     "metadata": {},
     "output_type": "display_data"
    }
   ],
   "source": [
    "import numpy as np\n",
    "import matplotlib.pyplot as plt\n",
    "import pandas as pd\n",
    "import seaborn as sns"
   ]
  },
  {
   "cell_type": "code",
   "execution_count": 3,
   "metadata": {},
   "outputs": [
    {
     "data": {
      "application/javascript": "\n            setTimeout(function() {\n                var nbb_cell_id = 3;\n                var nbb_unformatted_code = \"from protein_conformal.util import *\";\n                var nbb_formatted_code = \"from protein_conformal.util import *\";\n                var nbb_cells = Jupyter.notebook.get_cells();\n                for (var i = 0; i < nbb_cells.length; ++i) {\n                    if (nbb_cells[i].input_prompt_number == nbb_cell_id) {\n                        if (nbb_cells[i].get_text() == nbb_unformatted_code) {\n                             nbb_cells[i].set_text(nbb_formatted_code);\n                        }\n                        break;\n                    }\n                }\n            }, 500);\n            ",
      "text/plain": [
       "<IPython.core.display.Javascript object>"
      ]
     },
     "metadata": {},
     "output_type": "display_data"
    }
   ],
   "source": [
    "from protein_conformal.util import *"
   ]
  },
  {
   "cell_type": "code",
   "execution_count": 4,
   "metadata": {},
   "outputs": [
    {
     "data": {
      "application/javascript": "\n            setTimeout(function() {\n                var nbb_cell_id = 4;\n                var nbb_unformatted_code = \"# query_embeddings = np.load('/data/ron/protein-conformal/data/gene_unknown/all_aa_seqs.npy')\\nquery_embeddings = np.load('/data/ron/protein-conformal/data/gene_unknown/unknown_aa_seqs.npy')\";\n                var nbb_formatted_code = \"# query_embeddings = np.load('/data/ron/protein-conformal/data/gene_unknown/all_aa_seqs.npy')\\nquery_embeddings = np.load(\\n    \\\"/data/ron/protein-conformal/data/gene_unknown/unknown_aa_seqs.npy\\\"\\n)\";\n                var nbb_cells = Jupyter.notebook.get_cells();\n                for (var i = 0; i < nbb_cells.length; ++i) {\n                    if (nbb_cells[i].input_prompt_number == nbb_cell_id) {\n                        if (nbb_cells[i].get_text() == nbb_unformatted_code) {\n                             nbb_cells[i].set_text(nbb_formatted_code);\n                        }\n                        break;\n                    }\n                }\n            }, 500);\n            ",
      "text/plain": [
       "<IPython.core.display.Javascript object>"
      ]
     },
     "metadata": {},
     "output_type": "display_data"
    }
   ],
   "source": [
    "# query_embeddings = np.load('/data/ron/protein-conformal/data/gene_unknown/all_aa_seqs.npy')\n",
    "query_embeddings = np.load('/data/ron/protein-conformal/data/gene_unknown/unknown_aa_seqs.npy')"
   ]
  },
  {
   "cell_type": "code",
   "execution_count": 5,
   "metadata": {},
   "outputs": [
    {
     "data": {
      "text/plain": [
       "(149, 512)"
      ]
     },
     "execution_count": 5,
     "metadata": {},
     "output_type": "execute_result"
    },
    {
     "data": {
      "application/javascript": "\n            setTimeout(function() {\n                var nbb_cell_id = 5;\n                var nbb_unformatted_code = \"query_embeddings.shape\";\n                var nbb_formatted_code = \"query_embeddings.shape\";\n                var nbb_cells = Jupyter.notebook.get_cells();\n                for (var i = 0; i < nbb_cells.length; ++i) {\n                    if (nbb_cells[i].input_prompt_number == nbb_cell_id) {\n                        if (nbb_cells[i].get_text() == nbb_unformatted_code) {\n                             nbb_cells[i].set_text(nbb_formatted_code);\n                        }\n                        break;\n                    }\n                }\n            }, 500);\n            ",
      "text/plain": [
       "<IPython.core.display.Javascript object>"
      ]
     },
     "metadata": {},
     "output_type": "display_data"
    }
   ],
   "source": [
    "query_embeddings.shape"
   ]
  },
  {
   "cell_type": "code",
   "execution_count": 50,
   "metadata": {},
   "outputs": [
    {
     "data": {
      "application/javascript": "\n            setTimeout(function() {\n                var nbb_cell_id = 50;\n                var nbb_unformatted_code = \"# query_fastas, query_metadata = read_fasta('/data/ron/protein-conformal/data/gene_unknown/all_aa_seqs.fasta')\\nquery_fastas, query_metadata = read_fasta('/data/ron/protein-conformal/data/gene_unknown/unknown_aa_seqs.fasta')\";\n                var nbb_formatted_code = \"# query_fastas, query_metadata = read_fasta('/data/ron/protein-conformal/data/gene_unknown/all_aa_seqs.fasta')\\nquery_fastas, query_metadata = read_fasta(\\n    \\\"/data/ron/protein-conformal/data/gene_unknown/unknown_aa_seqs.fasta\\\"\\n)\";\n                var nbb_cells = Jupyter.notebook.get_cells();\n                for (var i = 0; i < nbb_cells.length; ++i) {\n                    if (nbb_cells[i].input_prompt_number == nbb_cell_id) {\n                        if (nbb_cells[i].get_text() == nbb_unformatted_code) {\n                             nbb_cells[i].set_text(nbb_formatted_code);\n                        }\n                        break;\n                    }\n                }\n            }, 500);\n            ",
      "text/plain": [
       "<IPython.core.display.Javascript object>"
      ]
     },
     "metadata": {},
     "output_type": "display_data"
    }
   ],
   "source": [
    "# query_fastas, query_metadata = read_fasta('/data/ron/protein-conformal/data/gene_unknown/all_aa_seqs.fasta')\n",
    "query_fastas, query_metadata = read_fasta('/data/ron/protein-conformal/data/gene_unknown/unknown_aa_seqs.fasta')"
   ]
  },
  {
   "cell_type": "code",
   "execution_count": 7,
   "metadata": {},
   "outputs": [
    {
     "data": {
      "application/javascript": "\n            setTimeout(function() {\n                var nbb_cell_id = 7;\n                var nbb_unformatted_code = \"embeddings = np.load('/data/ron/protein-vec/src_run/protein_vec_embeddings/lookup_embeddings.npy')\\nlookup_proteins_meta = pd.read_csv('/data/ron/protein-vec/src_run/protein_vec_embeddings/lookup_embeddings_meta_data.tsv', sep=\\\"\\\\t\\\")\";\n                var nbb_formatted_code = \"embeddings = np.load(\\n    \\\"/data/ron/protein-vec/src_run/protein_vec_embeddings/lookup_embeddings.npy\\\"\\n)\\nlookup_proteins_meta = pd.read_csv(\\n    \\\"/data/ron/protein-vec/src_run/protein_vec_embeddings/lookup_embeddings_meta_data.tsv\\\",\\n    sep=\\\"\\\\t\\\",\\n)\";\n                var nbb_cells = Jupyter.notebook.get_cells();\n                for (var i = 0; i < nbb_cells.length; ++i) {\n                    if (nbb_cells[i].input_prompt_number == nbb_cell_id) {\n                        if (nbb_cells[i].get_text() == nbb_unformatted_code) {\n                             nbb_cells[i].set_text(nbb_formatted_code);\n                        }\n                        break;\n                    }\n                }\n            }, 500);\n            ",
      "text/plain": [
       "<IPython.core.display.Javascript object>"
      ]
     },
     "metadata": {},
     "output_type": "display_data"
    }
   ],
   "source": [
    "embeddings = np.load('/data/ron/protein-vec/src_run/protein_vec_embeddings/lookup_embeddings.npy')\n",
    "lookup_proteins_meta = pd.read_csv('/data/ron/protein-vec/src_run/protein_vec_embeddings/lookup_embeddings_meta_data.tsv', sep=\"\\t\")"
   ]
  },
  {
   "cell_type": "code",
   "execution_count": 8,
   "metadata": {},
   "outputs": [
    {
     "data": {
      "application/javascript": "\n            setTimeout(function() {\n                var nbb_cell_id = 8;\n                var nbb_unformatted_code = \"column = 'Pfam'\\ncol_lookup = lookup_proteins_meta[~lookup_proteins_meta[column].isnull()]\\ncol_lookup_embeddings = embeddings[col_lookup.index]\\ncol_meta_data = col_lookup[column].values\\n\\n# load database\\nlookup_database = load_database(col_lookup_embeddings)\";\n                var nbb_formatted_code = \"column = \\\"Pfam\\\"\\ncol_lookup = lookup_proteins_meta[~lookup_proteins_meta[column].isnull()]\\ncol_lookup_embeddings = embeddings[col_lookup.index]\\ncol_meta_data = col_lookup[column].values\\n\\n# load database\\nlookup_database = load_database(col_lookup_embeddings)\";\n                var nbb_cells = Jupyter.notebook.get_cells();\n                for (var i = 0; i < nbb_cells.length; ++i) {\n                    if (nbb_cells[i].input_prompt_number == nbb_cell_id) {\n                        if (nbb_cells[i].get_text() == nbb_unformatted_code) {\n                             nbb_cells[i].set_text(nbb_formatted_code);\n                        }\n                        break;\n                    }\n                }\n            }, 500);\n            ",
      "text/plain": [
       "<IPython.core.display.Javascript object>"
      ]
     },
     "metadata": {},
     "output_type": "display_data"
    }
   ],
   "source": [
    "column = 'Pfam'\n",
    "col_lookup = lookup_proteins_meta[~lookup_proteins_meta[column].isnull()]\n",
    "col_lookup_embeddings = embeddings[col_lookup.index]\n",
    "col_meta_data = col_lookup[column].values\n",
    "\n",
    "# load database\n",
    "lookup_database = load_database(col_lookup_embeddings)"
   ]
  },
  {
   "cell_type": "code",
   "execution_count": 9,
   "metadata": {},
   "outputs": [
    {
     "data": {
      "application/javascript": "\n            setTimeout(function() {\n                var nbb_cell_id = 9;\n                var nbb_unformatted_code = \"# Query for the 1st nearest neighbor\\nk = 10\\nD, I = query(lookup_database, query_embeddings, k)\";\n                var nbb_formatted_code = \"# Query for the 1st nearest neighbor\\nk = 10\\nD, I = query(lookup_database, query_embeddings, k)\";\n                var nbb_cells = Jupyter.notebook.get_cells();\n                for (var i = 0; i < nbb_cells.length; ++i) {\n                    if (nbb_cells[i].input_prompt_number == nbb_cell_id) {\n                        if (nbb_cells[i].get_text() == nbb_unformatted_code) {\n                             nbb_cells[i].set_text(nbb_formatted_code);\n                        }\n                        break;\n                    }\n                }\n            }, 500);\n            ",
      "text/plain": [
       "<IPython.core.display.Javascript object>"
      ]
     },
     "metadata": {},
     "output_type": "display_data"
    }
   ],
   "source": [
    "# Query for the 1st nearest neighbor\n",
    "k = 10\n",
    "D, I = query(lookup_database, query_embeddings, k)"
   ]
  },
  {
   "cell_type": "code",
   "execution_count": 10,
   "metadata": {},
   "outputs": [
    {
     "data": {
      "application/javascript": "\n            setTimeout(function() {\n                var nbb_cell_id = 10;\n                var nbb_unformatted_code = \"D_max = np.max(D, axis=1)\";\n                var nbb_formatted_code = \"D_max = np.max(D, axis=1)\";\n                var nbb_cells = Jupyter.notebook.get_cells();\n                for (var i = 0; i < nbb_cells.length; ++i) {\n                    if (nbb_cells[i].input_prompt_number == nbb_cell_id) {\n                        if (nbb_cells[i].get_text() == nbb_unformatted_code) {\n                             nbb_cells[i].set_text(nbb_formatted_code);\n                        }\n                        break;\n                    }\n                }\n            }, 500);\n            ",
      "text/plain": [
       "<IPython.core.display.Javascript object>"
      ]
     },
     "metadata": {},
     "output_type": "display_data"
    }
   ],
   "source": [
    "D_max = np.max(D, axis=1)"
   ]
  },
  {
   "cell_type": "code",
   "execution_count": 11,
   "metadata": {},
   "outputs": [
    {
     "data": {
      "application/javascript": "\n            setTimeout(function() {\n                var nbb_cell_id = 11;\n                var nbb_unformatted_code = \"fdr = np.load('/data/ron/protein-conformal/data/pfam_fdr.npy', allow_pickle=True)\";\n                var nbb_formatted_code = \"fdr = np.load(\\\"/data/ron/protein-conformal/data/pfam_fdr.npy\\\", allow_pickle=True)\";\n                var nbb_cells = Jupyter.notebook.get_cells();\n                for (var i = 0; i < nbb_cells.length; ++i) {\n                    if (nbb_cells[i].input_prompt_number == nbb_cell_id) {\n                        if (nbb_cells[i].get_text() == nbb_unformatted_code) {\n                             nbb_cells[i].set_text(nbb_formatted_code);\n                        }\n                        break;\n                    }\n                }\n            }, 500);\n            ",
      "text/plain": [
       "<IPython.core.display.Javascript object>"
      ]
     },
     "metadata": {},
     "output_type": "display_data"
    }
   ],
   "source": [
    "fdr = np.load('/data/ron/protein-conformal/data/pfam_fdr_2024-06-25.npy', allow_pickle=True)"
   ]
  },
  {
   "cell_type": "code",
   "execution_count": 12,
   "metadata": {},
   "outputs": [
    {
     "data": {
      "application/javascript": "\n            setTimeout(function() {\n                var nbb_cell_id = 12;\n                var nbb_unformatted_code = \"fdr = fdr.item()\";\n                var nbb_formatted_code = \"fdr = fdr.item()\";\n                var nbb_cells = Jupyter.notebook.get_cells();\n                for (var i = 0; i < nbb_cells.length; ++i) {\n                    if (nbb_cells[i].input_prompt_number == nbb_cell_id) {\n                        if (nbb_cells[i].get_text() == nbb_unformatted_code) {\n                             nbb_cells[i].set_text(nbb_formatted_code);\n                        }\n                        break;\n                    }\n                }\n            }, 500);\n            ",
      "text/plain": [
       "<IPython.core.display.Javascript object>"
      ]
     },
     "metadata": {},
     "output_type": "display_data"
    }
   ],
   "source": [
    "fdr = fdr.item()"
   ]
  },
  {
   "cell_type": "code",
   "execution_count": 13,
   "metadata": {},
   "outputs": [
    {
     "data": {
      "text/plain": [
       "dict_keys(['risks', 'tprs', 'lhats', 'fdr_cals'])"
      ]
     },
     "execution_count": 13,
     "metadata": {},
     "output_type": "execute_result"
    },
    {
     "data": {
      "application/javascript": "\n            setTimeout(function() {\n                var nbb_cell_id = 13;\n                var nbb_unformatted_code = \"fdr.keys()\";\n                var nbb_formatted_code = \"fdr.keys()\";\n                var nbb_cells = Jupyter.notebook.get_cells();\n                for (var i = 0; i < nbb_cells.length; ++i) {\n                    if (nbb_cells[i].input_prompt_number == nbb_cell_id) {\n                        if (nbb_cells[i].get_text() == nbb_unformatted_code) {\n                             nbb_cells[i].set_text(nbb_formatted_code);\n                        }\n                        break;\n                    }\n                }\n            }, 500);\n            ",
      "text/plain": [
       "<IPython.core.display.Javascript object>"
      ]
     },
     "metadata": {},
     "output_type": "display_data"
    }
   ],
   "source": [
    "fdr.keys()"
   ]
  },
  {
   "cell_type": "code",
   "execution_count": null,
   "metadata": {},
   "outputs": [],
   "source": [
    "np.mean(fdr['lhats'])"
   ]
  },
  {
   "cell_type": "code",
   "execution_count": 73,
   "metadata": {},
   "outputs": [
    {
     "data": {
      "application/javascript": "\n            setTimeout(function() {\n                var nbb_cell_id = 73;\n                var nbb_unformatted_code = \"# l_hat = np.mean(fdr['lhats'])\\nl_hat = 0.9999820198675599\\nl_hat = 0.999980225003127\";\n                var nbb_formatted_code = \"# l_hat = np.mean(fdr['lhats'])\\nl_hat = 0.9999820198675599\\nl_hat = 0.999980225003127\";\n                var nbb_cells = Jupyter.notebook.get_cells();\n                for (var i = 0; i < nbb_cells.length; ++i) {\n                    if (nbb_cells[i].input_prompt_number == nbb_cell_id) {\n                        if (nbb_cells[i].get_text() == nbb_unformatted_code) {\n                             nbb_cells[i].set_text(nbb_formatted_code);\n                        }\n                        break;\n                    }\n                }\n            }, 500);\n            ",
      "text/plain": [
       "<IPython.core.display.Javascript object>"
      ]
     },
     "metadata": {},
     "output_type": "display_data"
    }
   ],
   "source": [
    "# l_hat = 0.999980225003127 # mean result\n",
    "l_hat = np.mean(fdr['lhats'])"
   ]
  },
  {
   "cell_type": "code",
   "execution_count": 74,
   "metadata": {},
   "outputs": [
    {
     "data": {
      "text/plain": [
       "59"
      ]
     },
     "execution_count": 74,
     "metadata": {},
     "output_type": "execute_result"
    },
    {
     "data": {
      "application/javascript": "\n            setTimeout(function() {\n                var nbb_cell_id = 74;\n                var nbb_unformatted_code = \"(D_max > l_hat).sum()\";\n                var nbb_formatted_code = \"(D_max > l_hat).sum()\";\n                var nbb_cells = Jupyter.notebook.get_cells();\n                for (var i = 0; i < nbb_cells.length; ++i) {\n                    if (nbb_cells[i].input_prompt_number == nbb_cell_id) {\n                        if (nbb_cells[i].get_text() == nbb_unformatted_code) {\n                             nbb_cells[i].set_text(nbb_formatted_code);\n                        }\n                        break;\n                    }\n                }\n            }, 500);\n            ",
      "text/plain": [
       "<IPython.core.display.Javascript object>"
      ]
     },
     "metadata": {},
     "output_type": "display_data"
    }
   ],
   "source": [
    "(D_max > l_hat).sum()"
   ]
  },
  {
   "cell_type": "code",
   "execution_count": 38,
   "metadata": {},
   "outputs": [
    {
     "data": {
      "application/javascript": "\n            setTimeout(function() {\n                var nbb_cell_id = 38;\n                var nbb_unformatted_code = \"filtered_I = I[D_max > l_hat]\";\n                var nbb_formatted_code = \"filtered_I = I[D_max > l_hat]\";\n                var nbb_cells = Jupyter.notebook.get_cells();\n                for (var i = 0; i < nbb_cells.length; ++i) {\n                    if (nbb_cells[i].input_prompt_number == nbb_cell_id) {\n                        if (nbb_cells[i].get_text() == nbb_unformatted_code) {\n                             nbb_cells[i].set_text(nbb_formatted_code);\n                        }\n                        break;\n                    }\n                }\n            }, 500);\n            ",
      "text/plain": [
       "<IPython.core.display.Javascript object>"
      ]
     },
     "metadata": {},
     "output_type": "display_data"
    }
   ],
   "source": [
    "filtered_I = I[D_max > l_hat]"
   ]
  },
  {
   "cell_type": "code",
   "execution_count": 39,
   "metadata": {},
   "outputs": [
    {
     "data": {
      "application/javascript": "\n            setTimeout(function() {\n                var nbb_cell_id = 39;\n                var nbb_unformatted_code = \"first_entries = filtered_I[:, 0]\";\n                var nbb_formatted_code = \"first_entries = filtered_I[:, 0]\";\n                var nbb_cells = Jupyter.notebook.get_cells();\n                for (var i = 0; i < nbb_cells.length; ++i) {\n                    if (nbb_cells[i].input_prompt_number == nbb_cell_id) {\n                        if (nbb_cells[i].get_text() == nbb_unformatted_code) {\n                             nbb_cells[i].set_text(nbb_formatted_code);\n                        }\n                        break;\n                    }\n                }\n            }, 500);\n            ",
      "text/plain": [
       "<IPython.core.display.Javascript object>"
      ]
     },
     "metadata": {},
     "output_type": "display_data"
    }
   ],
   "source": [
    "first_entries = filtered_I[:, 0]"
   ]
  },
  {
   "cell_type": "code",
   "execution_count": 62,
   "metadata": {},
   "outputs": [
    {
     "data": {
      "application/javascript": "\n            setTimeout(function() {\n                var nbb_cell_id = 62;\n                var nbb_unformatted_code = \"df_hits = col_lookup.iloc[first_entries].drop(columns='Unnamed: 0').reset_index(drop=True)\\ndf_hits['query sequence'] = np.array(query_fastas)[D_max > l_hat]\\ndf_hits['query_name'] = np.array(query_metadata)[D_max > l_hat]\\n# Define the columns you want to appear first\\nfirst_columns = ['query_name', 'query sequence']\\n\\n# Get the remaining columns excluding the ones you want first\\nremaining_columns = [col for col in df_hits.columns if col not in first_columns]\\n\\n# Combine the lists to get the new column order\\nnew_column_order = first_columns + remaining_columns\\n\\n# Reindex the DataFrame with the new column order\\ndf_hits = df_hits[new_column_order]\";\n                var nbb_formatted_code = \"df_hits = (\\n    col_lookup.iloc[first_entries].drop(columns=\\\"Unnamed: 0\\\").reset_index(drop=True)\\n)\\ndf_hits[\\\"query sequence\\\"] = np.array(query_fastas)[D_max > l_hat]\\ndf_hits[\\\"query_name\\\"] = np.array(query_metadata)[D_max > l_hat]\\n# Define the columns you want to appear first\\nfirst_columns = [\\\"query_name\\\", \\\"query sequence\\\"]\\n\\n# Get the remaining columns excluding the ones you want first\\nremaining_columns = [col for col in df_hits.columns if col not in first_columns]\\n\\n# Combine the lists to get the new column order\\nnew_column_order = first_columns + remaining_columns\\n\\n# Reindex the DataFrame with the new column order\\ndf_hits = df_hits[new_column_order]\";\n                var nbb_cells = Jupyter.notebook.get_cells();\n                for (var i = 0; i < nbb_cells.length; ++i) {\n                    if (nbb_cells[i].input_prompt_number == nbb_cell_id) {\n                        if (nbb_cells[i].get_text() == nbb_unformatted_code) {\n                             nbb_cells[i].set_text(nbb_formatted_code);\n                        }\n                        break;\n                    }\n                }\n            }, 500);\n            ",
      "text/plain": [
       "<IPython.core.display.Javascript object>"
      ]
     },
     "metadata": {},
     "output_type": "display_data"
    }
   ],
   "source": [
    "df_hits = col_lookup.iloc[first_entries].drop(columns='Unnamed: 0').reset_index(drop=True)\n",
    "df_hits['query sequence'] = np.array(query_fastas)[D_max > l_hat]\n",
    "df_hits['query_name'] = np.array(query_metadata)[D_max > l_hat]\n",
    "# Define the columns you want to appear first\n",
    "first_columns = ['query_name', 'query sequence']\n",
    "\n",
    "# Get the remaining columns excluding the ones you want first\n",
    "remaining_columns = [col for col in df_hits.columns if col not in first_columns]\n",
    "\n",
    "# Combine the lists to get the new column order\n",
    "new_column_order = first_columns + remaining_columns\n",
    "\n",
    "# Reindex the DataFrame with the new column order\n",
    "df_hits = df_hits[new_column_order]"
   ]
  },
  {
   "cell_type": "code",
   "execution_count": 66,
   "metadata": {},
   "outputs": [
    {
     "data": {
      "application/javascript": "\n            setTimeout(function() {\n                var nbb_cell_id = 66;\n                var nbb_unformatted_code = \"# from Bio import pairwise2\\n# from Bio.pairwise2 import format_alignment\\nfrom Bio.Align import PairwiseAligner\";\n                var nbb_formatted_code = \"# from Bio import pairwise2\\n# from Bio.pairwise2 import format_alignment\\nfrom Bio.Align import PairwiseAligner\";\n                var nbb_cells = Jupyter.notebook.get_cells();\n                for (var i = 0; i < nbb_cells.length; ++i) {\n                    if (nbb_cells[i].input_prompt_number == nbb_cell_id) {\n                        if (nbb_cells[i].get_text() == nbb_unformatted_code) {\n                             nbb_cells[i].set_text(nbb_formatted_code);\n                        }\n                        break;\n                    }\n                }\n            }, 500);\n            ",
      "text/plain": [
       "<IPython.core.display.Javascript object>"
      ]
     },
     "metadata": {},
     "output_type": "display_data"
    }
   ],
   "source": [
    "# from Bio import pairwise2\n",
    "# from Bio.pairwise2 import format_alignment\n",
    "from Bio.Align import PairwiseAligner\n"
   ]
  },
  {
   "cell_type": "code",
   "execution_count": 67,
   "metadata": {},
   "outputs": [
    {
     "data": {
      "application/javascript": "\n            setTimeout(function() {\n                var nbb_cell_id = 67;\n                var nbb_unformatted_code = \"# Define the sequence identity function using Bio.Align.PairwiseAligner\\ndef seq_identity(seq1, seq2):\\n    \\\"\\\"\\\"\\n    Calculate the sequence identity between two sequences using pairwise alignment.\\n    \\n    Parameters:\\n    seq1 (str): First sequence\\n    seq2 (str): Second sequence\\n    \\n    Returns:\\n    float: Sequence identity percentage\\n    \\\"\\\"\\\"\\n    aligner = PairwiseAligner()\\n    alignments = aligner.align(seq1, seq2)\\n    best_alignment = alignments[0]\\n    seq1_aligned, seq2_aligned = best_alignment.aligned\\n    \\n    # Calculate identity\\n    matches = sum(a == b for a, b in zip(seq1, seq2) if a == b)\\n    length = max(len(seq1), len(seq2))\\n    return matches / length * 100\";\n                var nbb_formatted_code = \"# Define the sequence identity function using Bio.Align.PairwiseAligner\\ndef seq_identity(seq1, seq2):\\n    \\\"\\\"\\\"\\n    Calculate the sequence identity between two sequences using pairwise alignment.\\n\\n    Parameters:\\n    seq1 (str): First sequence\\n    seq2 (str): Second sequence\\n\\n    Returns:\\n    float: Sequence identity percentage\\n    \\\"\\\"\\\"\\n    aligner = PairwiseAligner()\\n    alignments = aligner.align(seq1, seq2)\\n    best_alignment = alignments[0]\\n    seq1_aligned, seq2_aligned = best_alignment.aligned\\n\\n    # Calculate identity\\n    matches = sum(a == b for a, b in zip(seq1, seq2) if a == b)\\n    length = max(len(seq1), len(seq2))\\n    return matches / length * 100\";\n                var nbb_cells = Jupyter.notebook.get_cells();\n                for (var i = 0; i < nbb_cells.length; ++i) {\n                    if (nbb_cells[i].input_prompt_number == nbb_cell_id) {\n                        if (nbb_cells[i].get_text() == nbb_unformatted_code) {\n                             nbb_cells[i].set_text(nbb_formatted_code);\n                        }\n                        break;\n                    }\n                }\n            }, 500);\n            ",
      "text/plain": [
       "<IPython.core.display.Javascript object>"
      ]
     },
     "metadata": {},
     "output_type": "display_data"
    }
   ],
   "source": [
    "# Define the sequence identity function using Bio.Align.PairwiseAligner\n",
    "def seq_identity(seq1, seq2):\n",
    "    \"\"\"\n",
    "    Calculate the sequence identity between two sequences using pairwise alignment.\n",
    "    \n",
    "    Parameters:\n",
    "    seq1 (str): First sequence\n",
    "    seq2 (str): Second sequence\n",
    "    \n",
    "    Returns:\n",
    "    float: Sequence identity percentage\n",
    "    \"\"\"\n",
    "    aligner = PairwiseAligner()\n",
    "    alignments = aligner.align(seq1, seq2)\n",
    "    best_alignment = alignments[0]\n",
    "    seq1_aligned, seq2_aligned = best_alignment.aligned\n",
    "    \n",
    "    # Calculate identity\n",
    "    matches = sum(a == b for a, b in zip(seq1, seq2) if a == b)\n",
    "    length = max(len(seq1), len(seq2))\n",
    "    return matches / length * 100"
   ]
  },
  {
   "cell_type": "code",
   "execution_count": 68,
   "metadata": {},
   "outputs": [
    {
     "data": {
      "application/javascript": "\n            setTimeout(function() {\n                var nbb_cell_id = 68;\n                var nbb_unformatted_code = \"df_hits['seq_identity'] = df_hits.apply(lambda x: seq_identity(x['query sequence'], x['Sequence']), axis=1)\";\n                var nbb_formatted_code = \"df_hits[\\\"seq_identity\\\"] = df_hits.apply(\\n    lambda x: seq_identity(x[\\\"query sequence\\\"], x[\\\"Sequence\\\"]), axis=1\\n)\";\n                var nbb_cells = Jupyter.notebook.get_cells();\n                for (var i = 0; i < nbb_cells.length; ++i) {\n                    if (nbb_cells[i].input_prompt_number == nbb_cell_id) {\n                        if (nbb_cells[i].get_text() == nbb_unformatted_code) {\n                             nbb_cells[i].set_text(nbb_formatted_code);\n                        }\n                        break;\n                    }\n                }\n            }, 500);\n            ",
      "text/plain": [
       "<IPython.core.display.Javascript object>"
      ]
     },
     "metadata": {},
     "output_type": "display_data"
    }
   ],
   "source": [
    "df_hits['seq_identity'] = df_hits.apply(lambda x: seq_identity(x['query sequence'], x['Sequence']), axis=1)"
   ]
  },
  {
   "cell_type": "code",
   "execution_count": 71,
   "metadata": {},
   "outputs": [
    {
     "data": {
      "text/plain": [
       "<AxesSubplot:>"
      ]
     },
     "execution_count": 71,
     "metadata": {},
     "output_type": "execute_result"
    },
    {
     "data": {
      "image/png": "[encoded data removed]",
      "text/plain": [
       "<Figure size 640x480 with 1 Axes>"
      ]
     },
     "metadata": {},
     "output_type": "display_data"
    },
    {
     "data": {
      "application/javascript": "\n            setTimeout(function() {\n                var nbb_cell_id = 71;\n                var nbb_unformatted_code = \"df_hits['seq_identity'].hist()\";\n                var nbb_formatted_code = \"df_hits[\\\"seq_identity\\\"].hist()\";\n                var nbb_cells = Jupyter.notebook.get_cells();\n                for (var i = 0; i < nbb_cells.length; ++i) {\n                    if (nbb_cells[i].input_prompt_number == nbb_cell_id) {\n                        if (nbb_cells[i].get_text() == nbb_unformatted_code) {\n                             nbb_cells[i].set_text(nbb_formatted_code);\n                        }\n                        break;\n                    }\n                }\n            }, 500);\n            ",
      "text/plain": [
       "<IPython.core.display.Javascript object>"
      ]
     },
     "metadata": {},
     "output_type": "display_data"
    }
   ],
   "source": [
    "df_hits['seq_identity'].hist()"
   ]
  },
  {
   "cell_type": "code",
   "execution_count": 70,
   "metadata": {},
   "outputs": [
    {
     "data": {
      "text/html": [
       "<div>\n",
       "<style scoped>\n",
       "    .dataframe tbody tr th:only-of-type {\n",
       "        vertical-align: middle;\n",
       "    }\n",
       "\n",
       "    .dataframe tbody tr th {\n",
       "        vertical-align: top;\n",
       "    }\n",
       "\n",
       "    .dataframe thead th {\n",
       "        text-align: right;\n",
       "    }\n",
       "</style>\n",
       "<table border=\"1\" class=\"dataframe\">\n",
       "  <thead>\n",
       "    <tr style=\"text-align: right;\">\n",
       "      <th></th>\n",
       "      <th>query_name</th>\n",
       "      <th>query sequence</th>\n",
       "      <th>Entry</th>\n",
       "      <th>Reviewed</th>\n",
       "      <th>Entry Name</th>\n",
       "      <th>Protein names</th>\n",
       "      <th>Gene Names</th>\n",
       "      <th>Organism</th>\n",
       "      <th>Length</th>\n",
       "      <th>Gene Ontology (biological process)</th>\n",
       "      <th>Gene Ontology (cellular component)</th>\n",
       "      <th>Gene Ontology (molecular function)</th>\n",
       "      <th>Gene Ontology (GO)</th>\n",
       "      <th>EC number</th>\n",
       "      <th>Sequence</th>\n",
       "      <th>Date of creation</th>\n",
       "      <th>Gene3D</th>\n",
       "      <th>Pfam</th>\n",
       "      <th>seq_identity</th>\n",
       "    </tr>\n",
       "  </thead>\n",
       "  <tbody>\n",
       "    <tr>\n",
       "      <th>0</th>\n",
       "      <td>&gt;MMSYN1_0411 1=Unknown</td>\n",
       "      <td>MQIPIIKPKKAPPLTIEEINEIKQHSSYEKSYLKTFNKYKKKVEHR...</td>\n",
       "      <td>P75134</td>\n",
       "      <td>reviewed</td>\n",
       "      <td>Y657_MYCPN</td>\n",
       "      <td>Uncharacterized protein MG443 homolog</td>\n",
       "      <td>MPN_657 K05_orf401 MP185</td>\n",
       "      <td>Mycoplasma pneumoniae (strain ATCC 29342 / M12...</td>\n",
       "      <td>401</td>\n",
       "      <td>NaN</td>\n",
       "      <td>plasma membrane [GO:0005886]</td>\n",
       "      <td>NaN</td>\n",
       "      <td>plasma membrane [GO:0005886]</td>\n",
       "      <td>NaN</td>\n",
       "      <td>MDWLKRWFTRKDQDKTETTSASKRAKITSSLLMFSALYEAKKPLKY...</td>\n",
       "      <td>1997-11-01</td>\n",
       "      <td>3.30.70.120;</td>\n",
       "      <td>PF10035;PF02588;</td>\n",
       "      <td>6.547619</td>\n",
       "    </tr>\n",
       "    <tr>\n",
       "      <th>1</th>\n",
       "      <td>&gt;MMSYN1_0433 1=Unknown</td>\n",
       "      <td>MFLEVIAKDLSDIRVINNSKADRIEFCKNLEVGGLTPSLDEIILAN...</td>\n",
       "      <td>B0URL9</td>\n",
       "      <td>reviewed</td>\n",
       "      <td>CUTC_HISS2</td>\n",
       "      <td>PF03932 family protein CutC</td>\n",
       "      <td>cutC HSM_0457</td>\n",
       "      <td>Histophilus somni (strain 2336) (Haemophilus s...</td>\n",
       "      <td>243</td>\n",
       "      <td>NaN</td>\n",
       "      <td>cytoplasm [GO:0005737]</td>\n",
       "      <td>NaN</td>\n",
       "      <td>cytoplasm [GO:0005737]</td>\n",
       "      <td>NaN</td>\n",
       "      <td>MDIEICIDNIESALIAQNSGADRLEVCGCLALGGVTPPYSLIKTVL...</td>\n",
       "      <td>2008-05-20</td>\n",
       "      <td>3.20.20.380;</td>\n",
       "      <td>PF03932;</td>\n",
       "      <td>15.637860</td>\n",
       "    </tr>\n",
       "    <tr>\n",
       "      <th>2</th>\n",
       "      <td>&gt;MMSYN1_0109 2=Generic</td>\n",
       "      <td>MNKVLLGCHVSMNKQNNYLVGSVNEAISYKANTFMIFTGPPQSTLR...</td>\n",
       "      <td>Q2ST57</td>\n",
       "      <td>reviewed</td>\n",
       "      <td>END4_MYCCT</td>\n",
       "      <td>Probable endonuclease 4 (EC 3.1.21.2) (Endodeo...</td>\n",
       "      <td>nfo MCAP_0060</td>\n",
       "      <td>Mycoplasma capricolum subsp. capricolum (strai...</td>\n",
       "      <td>289</td>\n",
       "      <td>DNA repair [GO:0006281]</td>\n",
       "      <td>NaN</td>\n",
       "      <td>deoxyribonuclease IV (phage-T4-induced) activi...</td>\n",
       "      <td>deoxyribonuclease IV (phage-T4-induced) activi...</td>\n",
       "      <td>3.1.21.2</td>\n",
       "      <td>MDKVLLGCHVSMNKQNNYLVGSVNEAISYKANTFMIFTGPPQSTLR...</td>\n",
       "      <td>2008-01-15</td>\n",
       "      <td>3.20.20.150;</td>\n",
       "      <td>PF01261;</td>\n",
       "      <td>96.193772</td>\n",
       "    </tr>\n",
       "    <tr>\n",
       "      <th>3</th>\n",
       "      <td>&gt;MMSYN1_0097 2=Generic</td>\n",
       "      <td>MITNETKPILLIDGYHLLHKGYYGTLKRTIVSKNKDGIVINAIYSF...</td>\n",
       "      <td>Q9KAV6</td>\n",
       "      <td>reviewed</td>\n",
       "      <td>EX53_HALH5</td>\n",
       "      <td>5'-3' exonuclease (EC 3.1.11.-)</td>\n",
       "      <td>BH2180</td>\n",
       "      <td>Halalkalibacterium halodurans (strain ATCC BAA...</td>\n",
       "      <td>303</td>\n",
       "      <td>DNA replication, Okazaki fragment processing [...</td>\n",
       "      <td>NaN</td>\n",
       "      <td>5'-flap endonuclease activity [GO:0017108]; DN...</td>\n",
       "      <td>5'-flap endonuclease activity [GO:0017108]; DN...</td>\n",
       "      <td>3.1.11.-</td>\n",
       "      <td>MHSPVLLLIDGFNLLSRGYFATSYGKDEAQLPRNEAGYYINALRVF...</td>\n",
       "      <td>2001-11-16</td>\n",
       "      <td>1.10.150.20;3.40.50.1010;</td>\n",
       "      <td>PF01367;PF02739;</td>\n",
       "      <td>15.181518</td>\n",
       "    </tr>\n",
       "    <tr>\n",
       "      <th>4</th>\n",
       "      <td>&gt;MMSYN1_0063 2=Generic</td>\n",
       "      <td>MKIRDIQIDGKVVQGPMAGVSNEAFRIISKQHGASLVYAEMVSVAG...</td>\n",
       "      <td>Q1RH84</td>\n",
       "      <td>reviewed</td>\n",
       "      <td>DUS_RICBR</td>\n",
       "      <td>Probable tRNA-dihydrouridine synthase (EC 1.3....</td>\n",
       "      <td>dus RBE_1199</td>\n",
       "      <td>Rickettsia bellii (strain RML369-C)</td>\n",
       "      <td>326</td>\n",
       "      <td>NaN</td>\n",
       "      <td>NaN</td>\n",
       "      <td>flavin adenine dinucleotide binding [GO:005066...</td>\n",
       "      <td>flavin adenine dinucleotide binding [GO:005066...</td>\n",
       "      <td>1.3.1.-</td>\n",
       "      <td>MIKIGNIELSSNIILAPMSGVTDLEFRRLVKRFGAGLVVSEMIASR...</td>\n",
       "      <td>2007-03-20</td>\n",
       "      <td>3.20.20.70;</td>\n",
       "      <td>PF01207;</td>\n",
       "      <td>28.220859</td>\n",
       "    </tr>\n",
       "  </tbody>\n",
       "</table>\n",
       "</div>"
      ],
      "text/plain": [
       "               query_name                                     query sequence  \\\n",
       "0  >MMSYN1_0411 1=Unknown  MQIPIIKPKKAPPLTIEEINEIKQHSSYEKSYLKTFNKYKKKVEHR...   \n",
       "1  >MMSYN1_0433 1=Unknown  MFLEVIAKDLSDIRVINNSKADRIEFCKNLEVGGLTPSLDEIILAN...   \n",
       "2  >MMSYN1_0109 2=Generic  MNKVLLGCHVSMNKQNNYLVGSVNEAISYKANTFMIFTGPPQSTLR...   \n",
       "3  >MMSYN1_0097 2=Generic  MITNETKPILLIDGYHLLHKGYYGTLKRTIVSKNKDGIVINAIYSF...   \n",
       "4  >MMSYN1_0063 2=Generic  MKIRDIQIDGKVVQGPMAGVSNEAFRIISKQHGASLVYAEMVSVAG...   \n",
       "\n",
       "    Entry  Reviewed  Entry Name  \\\n",
       "0  P75134  reviewed  Y657_MYCPN   \n",
       "1  B0URL9  reviewed  CUTC_HISS2   \n",
       "2  Q2ST57  reviewed  END4_MYCCT   \n",
       "3  Q9KAV6  reviewed  EX53_HALH5   \n",
       "4  Q1RH84  reviewed   DUS_RICBR   \n",
       "\n",
       "                                       Protein names  \\\n",
       "0              Uncharacterized protein MG443 homolog   \n",
       "1                        PF03932 family protein CutC   \n",
       "2  Probable endonuclease 4 (EC 3.1.21.2) (Endodeo...   \n",
       "3                    5'-3' exonuclease (EC 3.1.11.-)   \n",
       "4  Probable tRNA-dihydrouridine synthase (EC 1.3....   \n",
       "\n",
       "                 Gene Names  \\\n",
       "0  MPN_657 K05_orf401 MP185   \n",
       "1             cutC HSM_0457   \n",
       "2             nfo MCAP_0060   \n",
       "3                    BH2180   \n",
       "4              dus RBE_1199   \n",
       "\n",
       "                                            Organism  Length  \\\n",
       "0  Mycoplasma pneumoniae (strain ATCC 29342 / M12...     401   \n",
       "1  Histophilus somni (strain 2336) (Haemophilus s...     243   \n",
       "2  Mycoplasma capricolum subsp. capricolum (strai...     289   \n",
       "3  Halalkalibacterium halodurans (strain ATCC BAA...     303   \n",
       "4                Rickettsia bellii (strain RML369-C)     326   \n",
       "\n",
       "                  Gene Ontology (biological process)  \\\n",
       "0                                                NaN   \n",
       "1                                                NaN   \n",
       "2                            DNA repair [GO:0006281]   \n",
       "3  DNA replication, Okazaki fragment processing [...   \n",
       "4                                                NaN   \n",
       "\n",
       "  Gene Ontology (cellular component)  \\\n",
       "0       plasma membrane [GO:0005886]   \n",
       "1             cytoplasm [GO:0005737]   \n",
       "2                                NaN   \n",
       "3                                NaN   \n",
       "4                                NaN   \n",
       "\n",
       "                  Gene Ontology (molecular function)  \\\n",
       "0                                                NaN   \n",
       "1                                                NaN   \n",
       "2  deoxyribonuclease IV (phage-T4-induced) activi...   \n",
       "3  5'-flap endonuclease activity [GO:0017108]; DN...   \n",
       "4  flavin adenine dinucleotide binding [GO:005066...   \n",
       "\n",
       "                                  Gene Ontology (GO) EC number  \\\n",
       "0                       plasma membrane [GO:0005886]       NaN   \n",
       "1                             cytoplasm [GO:0005737]       NaN   \n",
       "2  deoxyribonuclease IV (phage-T4-induced) activi...  3.1.21.2   \n",
       "3  5'-flap endonuclease activity [GO:0017108]; DN...  3.1.11.-   \n",
       "4  flavin adenine dinucleotide binding [GO:005066...   1.3.1.-   \n",
       "\n",
       "                                            Sequence Date of creation  \\\n",
       "0  MDWLKRWFTRKDQDKTETTSASKRAKITSSLLMFSALYEAKKPLKY...       1997-11-01   \n",
       "1  MDIEICIDNIESALIAQNSGADRLEVCGCLALGGVTPPYSLIKTVL...       2008-05-20   \n",
       "2  MDKVLLGCHVSMNKQNNYLVGSVNEAISYKANTFMIFTGPPQSTLR...       2008-01-15   \n",
       "3  MHSPVLLLIDGFNLLSRGYFATSYGKDEAQLPRNEAGYYINALRVF...       2001-11-16   \n",
       "4  MIKIGNIELSSNIILAPMSGVTDLEFRRLVKRFGAGLVVSEMIASR...       2007-03-20   \n",
       "\n",
       "                      Gene3D              Pfam  seq_identity  \n",
       "0               3.30.70.120;  PF10035;PF02588;      6.547619  \n",
       "1               3.20.20.380;          PF03932;     15.637860  \n",
       "2               3.20.20.150;          PF01261;     96.193772  \n",
       "3  1.10.150.20;3.40.50.1010;  PF01367;PF02739;     15.181518  \n",
       "4                3.20.20.70;          PF01207;     28.220859  "
      ]
     },
     "execution_count": 70,
     "metadata": {},
     "output_type": "execute_result"
    },
    {
     "data": {
      "application/javascript": "\n            setTimeout(function() {\n                var nbb_cell_id = 70;\n                var nbb_unformatted_code = \"df_hits.head()\";\n                var nbb_formatted_code = \"df_hits.head()\";\n                var nbb_cells = Jupyter.notebook.get_cells();\n                for (var i = 0; i < nbb_cells.length; ++i) {\n                    if (nbb_cells[i].input_prompt_number == nbb_cell_id) {\n                        if (nbb_cells[i].get_text() == nbb_unformatted_code) {\n                             nbb_cells[i].set_text(nbb_formatted_code);\n                        }\n                        break;\n                    }\n                }\n            }, 500);\n            ",
      "text/plain": [
       "<IPython.core.display.Javascript object>"
      ]
     },
     "metadata": {},
     "output_type": "display_data"
    }
   ],
   "source": [
    "df_hits.head()"
   ]
  },
  {
   "cell_type": "code",
   "execution_count": null,
   "metadata": {},
   "outputs": [
    {
     "data": {
      "application/javascript": "\n            setTimeout(function() {\n                var nbb_cell_id = 72;\n                var nbb_unformatted_code = \"df_hits.to_csv('/data/ron/protein-conformal/data/gene_unknown/unknown_aa_seqs_pfam_hits.csv', index=False)\";\n                var nbb_formatted_code = \"df_hits.to_csv(\\n    \\\"/data/ron/protein-conformal/data/gene_unknown/unknown_aa_seqs_pfam_hits.csv\\\",\\n    index=False,\\n)\";\n                var nbb_cells = Jupyter.notebook.get_cells();\n                for (var i = 0; i < nbb_cells.length; ++i) {\n                    if (nbb_cells[i].input_prompt_number == nbb_cell_id) {\n                        if (nbb_cells[i].get_text() == nbb_unformatted_code) {\n                             nbb_cells[i].set_text(nbb_formatted_code);\n                        }\n                        break;\n                    }\n                }\n            }, 500);\n            ",
      "text/plain": [
       "<IPython.core.display.Javascript object>"
      ]
     },
     "metadata": {},
     "output_type": "display_data"
    }
   ],
   "source": [
    "df_hits.to_csv('/data/ron/protein-conformal/data/gene_unknown/unknown_aa_seqs_pfam_hits.csv', index=False)"
   ]
  },
  {
   "cell_type": "code",
   "execution_count": 17,
   "metadata": {},
   "outputs": [
    {
     "data": {
      "text/plain": [
       "<matplotlib.lines.Line2D at 0x7f7192aed4d0>"
      ]
     },
     "execution_count": 17,
     "metadata": {},
     "output_type": "execute_result"
    },
    {
     "data": {
      "image/png": "[encoded data removed]",
      "text/plain": [
       "<Figure size 640x480 with 1 Axes>"
      ]
     },
     "metadata": {},
     "output_type": "display_data"
    },
    {
     "data": {
      "application/javascript": "\n            setTimeout(function() {\n                var nbb_cell_id = 17;\n                var nbb_unformatted_code = \"# sns.distplot(D_max)\\n# sns.displot(D_max)\\nsns.histplot(D_max, bins=30)\\nplt.axvline(l_hat, color='r', linestyle='--')\";\n                var nbb_formatted_code = \"# sns.distplot(D_max)\\n# sns.displot(D_max)\\nsns.histplot(D_max, bins=30)\\nplt.axvline(l_hat, color=\\\"r\\\", linestyle=\\\"--\\\")\";\n                var nbb_cells = Jupyter.notebook.get_cells();\n                for (var i = 0; i < nbb_cells.length; ++i) {\n                    if (nbb_cells[i].input_prompt_number == nbb_cell_id) {\n                        if (nbb_cells[i].get_text() == nbb_unformatted_code) {\n                             nbb_cells[i].set_text(nbb_formatted_code);\n                        }\n                        break;\n                    }\n                }\n            }, 500);\n            ",
      "text/plain": [
       "<IPython.core.display.Javascript object>"
      ]
     },
     "metadata": {},
     "output_type": "display_data"
    }
   ],
   "source": [
    "# sns.distplot(D_max)\n",
    "# sns.displot(D_max)\n",
    "sns.histplot(D_max, bins=30)\n",
    "plt.axvline(l_hat, color='r', linestyle='--')\n"
   ]
  },
  {
   "cell_type": "code",
   "execution_count": 75,
   "metadata": {},
   "outputs": [
    {
     "data": {
      "application/javascript": "\n            setTimeout(function() {\n                var nbb_cell_id = 75;\n                var nbb_unformatted_code = \"# Determine the counts\\ntotal_count = len(D_max)\\nhits_count = np.sum(D_max >= l_hat)\\nno_hits_count = np.sum(D_max < l_hat)\";\n                var nbb_formatted_code = \"# Determine the counts\\ntotal_count = len(D_max)\\nhits_count = np.sum(D_max >= l_hat)\\nno_hits_count = np.sum(D_max < l_hat)\";\n                var nbb_cells = Jupyter.notebook.get_cells();\n                for (var i = 0; i < nbb_cells.length; ++i) {\n                    if (nbb_cells[i].input_prompt_number == nbb_cell_id) {\n                        if (nbb_cells[i].get_text() == nbb_unformatted_code) {\n                             nbb_cells[i].set_text(nbb_formatted_code);\n                        }\n                        break;\n                    }\n                }\n            }, 500);\n            ",
      "text/plain": [
       "<IPython.core.display.Javascript object>"
      ]
     },
     "metadata": {},
     "output_type": "display_data"
    }
   ],
   "source": [
    "# Determine the counts\n",
    "total_count = len(D_max)\n",
    "hits_count = np.sum(D_max >= l_hat)\n",
    "no_hits_count = np.sum(D_max < l_hat)"
   ]
  },
  {
   "cell_type": "code",
   "execution_count": 76,
   "metadata": {},
   "outputs": [
    {
     "data": {
      "image/png": "[encoded data removed]",
      "text/plain": [
       "<Figure size 500x500 with 1 Axes>"
      ]
     },
     "metadata": {},
     "output_type": "display_data"
    },
    {
     "data": {
      "application/javascript": "\n            setTimeout(function() {\n                var nbb_cell_id = 76;\n                var nbb_unformatted_code = \"# Set the style to a Seaborn style\\nsns.set_theme(style=\\\"whitegrid\\\")\\n# Create the pie chart\\nlabels = [\\n    f'Hits: {hits_count} ({hits_count / total_count * 100:.1f}%)',\\n    f'No Hits: {no_hits_count} ({no_hits_count / total_count * 100:.1f}%)'\\n]\\nsizes = [hits_count, no_hits_count]\\ncolors = sns.color_palette()[0:2]  # Use Seaborn's color palette\\nexplode = (0.1, 0)  # only \\\"explode\\\" the 1st slice (Hits)\\n\\nplt.figure(figsize=(5, 5))\\nplt.pie(sizes, explode=explode, labels=labels, colors=colors, autopct='%1.1f%%',\\n        shadow=True, startangle=140)\\nplt.axis('equal')  # Equal aspect ratio ensures that pie is drawn as a circle.\\nplt.title(f'Proportion of Protein Hits in JCVI Syn3.0 genes\\\\n of unknown function (Total: {total_count})')\\nplt.savefig('/data/ron/protein-conformal/figs/pfam_new/protein_hits_pie.pdf', bbox_inches='tight')\";\n                var nbb_formatted_code = \"# Set the style to a Seaborn style\\nsns.set_theme(style=\\\"whitegrid\\\")\\n# Create the pie chart\\nlabels = [\\n    f\\\"Hits: {hits_count} ({hits_count / total_count * 100:.1f}%)\\\",\\n    f\\\"No Hits: {no_hits_count} ({no_hits_count / total_count * 100:.1f}%)\\\",\\n]\\nsizes = [hits_count, no_hits_count]\\ncolors = sns.color_palette()[0:2]  # Use Seaborn's color palette\\nexplode = (0.1, 0)  # only \\\"explode\\\" the 1st slice (Hits)\\n\\nplt.figure(figsize=(5, 5))\\nplt.pie(\\n    sizes,\\n    explode=explode,\\n    labels=labels,\\n    colors=colors,\\n    autopct=\\\"%1.1f%%\\\",\\n    shadow=True,\\n    startangle=140,\\n)\\nplt.axis(\\\"equal\\\")  # Equal aspect ratio ensures that pie is drawn as a circle.\\nplt.title(\\n    f\\\"Proportion of Protein Hits in JCVI Syn3.0 genes\\\\n of unknown function (Total: {total_count})\\\"\\n)\\nplt.savefig(\\n    \\\"/data/ron/protein-conformal/figs/pfam_new/protein_hits_pie.pdf\\\",\\n    bbox_inches=\\\"tight\\\",\\n)\";\n                var nbb_cells = Jupyter.notebook.get_cells();\n                for (var i = 0; i < nbb_cells.length; ++i) {\n                    if (nbb_cells[i].input_prompt_number == nbb_cell_id) {\n                        if (nbb_cells[i].get_text() == nbb_unformatted_code) {\n                             nbb_cells[i].set_text(nbb_formatted_code);\n                        }\n                        break;\n                    }\n                }\n            }, 500);\n            ",
      "text/plain": [
       "<IPython.core.display.Javascript object>"
      ]
     },
     "metadata": {},
     "output_type": "display_data"
    }
   ],
   "source": [
    "# Set the style to a Seaborn style\n",
    "sns.set_theme(style=\"whitegrid\")\n",
    "# Create the pie chart\n",
    "labels = [\n",
    "    f'Hits: {hits_count} ({hits_count / total_count * 100:.1f}%)',\n",
    "    f'No Hits: {no_hits_count} ({no_hits_count / total_count * 100:.1f}%)'\n",
    "]\n",
    "sizes = [hits_count, no_hits_count]\n",
    "colors = sns.color_palette()[0:2]  # Use Seaborn's color palette\n",
    "explode = (0.1, 0)  # only \"explode\" the 1st slice (Hits)\n",
    "\n",
    "plt.figure(figsize=(5, 5))\n",
    "plt.pie(sizes, explode=explode, labels=labels, colors=colors, autopct='%1.1f%%',\n",
    "        shadow=True, startangle=140)\n",
    "plt.axis('equal')  # Equal aspect ratio ensures that pie is drawn as a circle.\n",
    "plt.title(f'Proportion of Protein Hits in JCVI Syn3.0 genes\\n of unknown function (Total: {total_count})')\n",
    "plt.savefig('/data/ron/protein-conformal/figs/pfam_new/protein_hits_pie.pdf', bbox_inches='tight')"
   ]
  }
 ],
 "metadata": {
  "kernelspec": {
   "display_name": "protein-vec",
   "language": "python",
   "name": "python3"
  },
  "language_info": {
   "codemirror_mode": {
    "name": "ipython",
    "version": 3
   },
   "file_extension": ".py",
   "mimetype": "text/x-python",
   "name": "python",
   "nbconvert_exporter": "python",
   "pygments_lexer": "ipython3",
   "version": "3.7.16"
  }
 },
 "nbformat": 4,
 "nbformat_minor": 2
}

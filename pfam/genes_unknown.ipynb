{
 "cells": [
  {
   "cell_type": "code",
   "execution_count": null,
   "metadata": {},
   "outputs": [],
   "source": [
    "# Standard imports for data analysis and visualization\n",
    "import numpy as np\n",
    "import matplotlib.pyplot as plt\n",
    "import pandas as pd\n",
    "import seaborn as sns"
   ]
  },
  {
   "cell_type": "code",
   "execution_count": null,
   "metadata": {},
   "outputs": [],
   "source": [
    "# Import custom utilities for protein analysis and conformal prediction\n",
    "# These include functions for FAISS database operations, sequence handling, etc.\n",
    "from protein_conformal.util import *"
   ]
  },
  {
   "cell_type": "code",
   "execution_count": null,
   "metadata": {},
   "outputs": [
    {
     "ename": "FileNotFoundError",
     "evalue": "[Errno 2] No such file or directory: '/data/ron/protein-conformal/data/gene_unknown/unknown_aa_seqs.npy'",
     "output_type": "error",
     "traceback": [
      "\u001b[0;31m---------------------------------------------------------------------------\u001b[0m",
      "\u001b[0;31mFileNotFoundError\u001b[0m                         Traceback (most recent call last)",
      "Cell \u001b[0;32mIn[3], line 2\u001b[0m\n\u001b[1;32m      1\u001b[0m \u001b[38;5;66;03m# query_embeddings = np.load('/data/ron/protein-conformal/data/gene_unknown/all_aa_seqs.npy')\u001b[39;00m\n\u001b[0;32m----> 2\u001b[0m query_embeddings \u001b[38;5;241m=\u001b[39m \u001b[43mnp\u001b[49m\u001b[38;5;241;43m.\u001b[39;49m\u001b[43mload\u001b[49m\u001b[43m(\u001b[49m\u001b[38;5;124;43m'\u001b[39;49m\u001b[38;5;124;43m/data/ron/protein-conformal/data/gene_unknown/unknown_aa_seqs.npy\u001b[39;49m\u001b[38;5;124;43m'\u001b[39;49m\u001b[43m)\u001b[49m\n",
      "File \u001b[0;32m/opt/conda/envs/protein-conformal/lib/python3.10/site-packages/numpy/lib/npyio.py:427\u001b[0m, in \u001b[0;36mload\u001b[0;34m(file, mmap_mode, allow_pickle, fix_imports, encoding, max_header_size)\u001b[0m\n\u001b[1;32m    425\u001b[0m     own_fid \u001b[38;5;241m=\u001b[39m \u001b[38;5;28;01mFalse\u001b[39;00m\n\u001b[1;32m    426\u001b[0m \u001b[38;5;28;01melse\u001b[39;00m:\n\u001b[0;32m--> 427\u001b[0m     fid \u001b[38;5;241m=\u001b[39m stack\u001b[38;5;241m.\u001b[39menter_context(\u001b[38;5;28;43mopen\u001b[39;49m\u001b[43m(\u001b[49m\u001b[43mos_fspath\u001b[49m\u001b[43m(\u001b[49m\u001b[43mfile\u001b[49m\u001b[43m)\u001b[49m\u001b[43m,\u001b[49m\u001b[43m \u001b[49m\u001b[38;5;124;43m\"\u001b[39;49m\u001b[38;5;124;43mrb\u001b[39;49m\u001b[38;5;124;43m\"\u001b[39;49m\u001b[43m)\u001b[49m)\n\u001b[1;32m    428\u001b[0m     own_fid \u001b[38;5;241m=\u001b[39m \u001b[38;5;28;01mTrue\u001b[39;00m\n\u001b[1;32m    430\u001b[0m \u001b[38;5;66;03m# Code to distinguish from NumPy binary files and pickles.\u001b[39;00m\n",
      "\u001b[0;31mFileNotFoundError\u001b[0m: [Errno 2] No such file or directory: '/data/ron/protein-conformal/data/gene_unknown/unknown_aa_seqs.npy'"
     ]
    }
   ],
   "source": [
    "# Load protein embeddings for JCVI Syn3.0 genes of unknown function\n",
    "# These are high-dimensional vector representations of protein sequences\n",
    "# Embeddings capture semantic relationships between proteins based on sequence patterns\n",
    "# query_embeddings = np.load('/data/ron/protein-conformal/data/gene_unknown/all_aa_seqs.npy')\n",
    "query_embeddings = np.load('/data/ron/protein-conformal/data/gene_unknown/unknown_aa_seqs.npy')"
   ]
  },
  {
   "cell_type": "code",
   "execution_count": null,
   "metadata": {},
   "outputs": [],
   "source": [
    "# Check the shape of query embeddings: (number_of_proteins, embedding_dimension)\n",
    "query_embeddings.shape"
   ]
  },
  {
   "cell_type": "code",
   "execution_count": null,
   "metadata": {},
   "outputs": [],
   "source": [
    "# Load the actual protein sequences and metadata from FASTA files\n",
    "# FASTA format stores biological sequences with headers containing metadata\n",
    "# query_fastas, query_metadata = read_fasta('/data/ron/protein-conformal/data/gene_unknown/all_aa_seqs.fasta')\n",
    "query_fastas, query_metadata = read_fasta('/data/ron/protein-conformal/data/gene_unknown/unknown_aa_seqs.fasta')"
   ]
  },
  {
   "cell_type": "code",
   "execution_count": null,
   "metadata": {},
   "outputs": [],
   "source": [
    "# Load reference database: protein embeddings and metadata\n",
    "# This is our \"lookup table\" of known proteins with functional annotations\n",
    "embeddings = np.load('/data/ron/protein-vec/src_run/protein_vec_embeddings/lookup_embeddings.npy')\n",
    "lookup_proteins_meta = pd.read_csv('/data/ron/protein-vec/src_run/protein_vec_embeddings/lookup_embeddings_meta_data.tsv', sep=\"\\t\")"
   ]
  },
  {
   "cell_type": "code",
   "execution_count": null,
   "metadata": {},
   "outputs": [],
   "source": [
    "# Prepare Pfam-annotated reference database\n",
    "# Pfam is a database of protein families based on sequence homology and functional domains\n",
    "column = 'Pfam'\n",
    "col_lookup = lookup_proteins_meta[~lookup_proteins_meta[column].isnull()]  # Filter proteins with Pfam annotations\n",
    "col_lookup_embeddings = embeddings[col_lookup.index]  # Get corresponding embeddings\n",
    "col_meta_data = col_lookup[column].values  # Extract Pfam labels\n",
    "\n",
    "# Load into FAISS database for efficient similarity search\n",
    "# FAISS enables fast approximate nearest neighbor search in high-dimensional space\n",
    "lookup_database = load_database(col_lookup_embeddings)"
   ]
  },
  {
   "cell_type": "code",
   "execution_count": null,
   "metadata": {},
   "outputs": [],
   "source": [
    "# Perform similarity search: find nearest neighbors in embedding space\n",
    "# For each unknown protein, find the most similar known protein\n",
    "k = 1  # Number of nearest neighbors to retrieve\n",
    "D, I = query(lookup_database, query_embeddings, k)  # D=distances, I=indices"
   ]
  },
  {
   "cell_type": "code",
   "execution_count": null,
   "metadata": {},
   "outputs": [],
   "source": [
    "# Get maximum distances for each query (though k=1, so just the single distance)\n",
    "# These distances measure dissimilarity between unknown and known proteins\n",
    "D_max = np.max(D, axis=1)"
   ]
  },
  {
   "cell_type": "code",
   "execution_count": null,
   "metadata": {},
   "outputs": [],
   "source": [
    "# Load calibration data for conformal prediction\n",
    "# This data will be used to convert distances into reliable confidence scores\n",
    "# Conformal prediction provides statistical guarantees about prediction uncertainty\n",
    "data = np.load('/data/ron/protein-conformal/data/pfam_new_proteins.npy', allow_pickle=True)\n",
    "\n"
   ]
  },
  {
   "cell_type": "code",
   "execution_count": null,
   "metadata": {},
   "outputs": [],
   "source": [
    "# Prepare calibration set for Venn-Abers prediction\n",
    "# Use a small sample of known protein pairs with similarity scores and labels\n",
    "n_calib = 100  # Number of calibration examples\n",
    "np.random.shuffle(data)\n",
    "cal_data = data[:n_calib]\n",
    "X_cal, y_cal = get_sims_labels(cal_data, partial=False)  # Extract similarity scores and binary labels\n",
    "X_cal = X_cal.flatten()  # Flatten to 1D array\n",
    "y_cal = y_cal.flatten()  # Binary labels: 1=same family, 0=different family\n"
   ]
  },
  {
   "cell_type": "code",
   "execution_count": null,
   "metadata": {},
   "outputs": [],
   "source": [
    "# Apply Venn-Abers prediction to get confidence scores\n",
    "# This method provides well-calibrated probabilities for each distance\n",
    "p_s = []\n",
    "for d in D:\n",
    "    # Get probability estimates: p_0 for \"different family\", p_1 for \"same family\"\n",
    "    p_0, p_1 = simplifed_venn_abers_prediction(X_cal, y_cal, d)\n",
    "    p_s.append([p_0, p_1])\n",
    "p_s = np.array(p_s)"
   ]
  },
  {
   "cell_type": "code",
   "execution_count": null,
   "metadata": {},
   "outputs": [],
   "source": [
    "# Calculate prediction confidence as absolute difference between p_0 and p_1\n",
    "# Larger differences indicate more confident predictions\n",
    "abs_p = [np.abs(p[0] - p[1]) for p in p_s]"
   ]
  },
  {
   "cell_type": "code",
   "execution_count": null,
   "metadata": {},
   "outputs": [],
   "source": [
    "# Check maximum confidence score across all predictions\n",
    "max(abs_p)"
   ]
  },
  {
   "cell_type": "code",
   "execution_count": null,
   "metadata": {},
   "outputs": [],
   "source": [
    "# Load False Discovery Rate (FDR) control results\n",
    "# These contain pre-computed thresholds for controlling prediction errors\n",
    "fdr = np.load('/data/ron/protein-conformal/data/pfam_fdr_2024-06-25.npy', allow_pickle=True)"
   ]
  },
  {
   "cell_type": "code",
   "execution_count": null,
   "metadata": {},
   "outputs": [],
   "source": [
    "# Convert numpy object array to dictionary for easier access\n",
    "fdr = fdr.item()"
   ]
  },
  {
   "cell_type": "code",
   "execution_count": null,
   "metadata": {},
   "outputs": [],
   "source": [
    "# Explore what's stored in the FDR results\n",
    "fdr.keys()"
   ]
  },
  {
   "cell_type": "code",
   "execution_count": null,
   "metadata": {},
   "outputs": [],
   "source": [
    "# Check the average threshold value (lambda hat) from FDR control\n",
    "np.mean(fdr['lhats'])"
   ]
  },
  {
   "cell_type": "code",
   "execution_count": null,
   "metadata": {},
   "outputs": [],
   "source": [
    "# Set the distance threshold for accepting predictions\n",
    "# Proteins with distance > l_hat are considered confident matches to known families\n",
    "# l_hat = 0.999980225003127 # mean result\n",
    "l_hat = np.mean(fdr['lhats'])"
   ]
  },
  {
   "cell_type": "code",
   "execution_count": null,
   "metadata": {},
   "outputs": [],
   "source": [
    "# Count how many proteins pass the confidence threshold\n",
    "(D_max > l_hat).sum()"
   ]
  },
  {
   "cell_type": "code",
   "execution_count": null,
   "metadata": {},
   "outputs": [],
   "source": [
    "# Filter to keep only high-confidence predictions (indices of matching proteins)\n",
    "filtered_I = I[D_max > l_hat]"
   ]
  },
  {
   "cell_type": "code",
   "execution_count": null,
   "metadata": {},
   "outputs": [],
   "source": [
    "# Visualize the distribution of average prediction probabilities\n",
    "plt.hist(np.mean(p_s, axis=1))"
   ]
  },
  {
   "cell_type": "code",
   "execution_count": null,
   "metadata": {},
   "outputs": [],
   "source": [
    "# Extract indices of the closest matching proteins for high-confidence predictions\n",
    "first_entries = filtered_I[:, 0]"
   ]
  },
  {
   "cell_type": "code",
   "execution_count": null,
   "metadata": {},
   "outputs": [],
   "source": [
    "# Organize prediction results into dataframe format for analysis\n",
    "# Combine Pfam annotations, distances, and confidence scores\n",
    "first_entries_meta = col_meta_data\n",
    "first_entries_D = D_max\n",
    "first_entries_p_s = np.mean(p_s, axis=1)\n"
   ]
  },
  {
   "cell_type": "code",
   "execution_count": null,
   "metadata": {},
   "outputs": [],
   "source": [
    "# Create summary dataframe with prediction results\n",
    "first_entries_df = pd.DataFrame({'Pfam': first_entries_meta, 'D': first_entries_D, 'p_s': first_entries_p_s})"
   ]
  },
  {
   "cell_type": "code",
   "execution_count": null,
   "metadata": {},
   "outputs": [],
   "source": [
    "first_entries_df"
   ]
  },
  {
   "cell_type": "code",
   "execution_count": null,
   "metadata": {},
   "outputs": [],
   "source": [
    "# Create detailed results dataframe with both query and matched protein information\n",
    "df_hits = col_lookup.iloc[first_entries].drop(columns='Unnamed: 0').reset_index(drop=True)\n",
    "df_hits['query sequence'] = np.array(query_fastas)[D_max > l_hat]  # Add query sequences\n",
    "df_hits['query_name'] = np.array(query_metadata)[D_max > l_hat]    # Add query names\n",
    "\n",
    "# Reorder columns to put query information first for easier reading\n",
    "first_columns = ['query_name', 'query sequence']\n",
    "remaining_columns = [col for col in df_hits.columns if col not in first_columns]\n",
    "new_column_order = first_columns + remaining_columns\n",
    "df_hits = df_hits[new_column_order]"
   ]
  },
  {
   "cell_type": "code",
   "execution_count": null,
   "metadata": {},
   "outputs": [],
   "source": [
    "# Import Biopython for pairwise sequence alignment\n",
    "# This will help us calculate sequence identity between query and matched proteins\n",
    "# from Bio import pairwise2  # Legacy alignment method\n",
    "# from Bio.pairwise2 import format_alignment\n",
    "from Bio.Align import PairwiseAligner  # Modern alignment method\n"
   ]
  },
  {
   "cell_type": "code",
   "execution_count": null,
   "metadata": {},
   "outputs": [],
   "source": [
    "# Define function to calculate sequence identity between proteins\n",
    "# This provides a traditional measure of similarity based on exact amino acid matches\n",
    "def seq_identity(seq1, seq2):\n",
    "    \"\"\"\n",
    "    Calculate the sequence identity between two sequences using pairwise alignment.\n",
    "    Sequence identity = (number of identical residues) / (length of longer sequence) * 100\n",
    "    \n",
    "    Parameters:\n",
    "    seq1 (str): First protein sequence  \n",
    "    seq2 (str): Second protein sequence\n",
    "    \n",
    "    Returns:\n",
    "    float: Sequence identity percentage (0-100)\n",
    "    \"\"\"\n",
    "    aligner = PairwiseAligner()\n",
    "    alignments = aligner.align(seq1, seq2)\n",
    "    best_alignment = alignments[0]\n",
    "    seq1_aligned, seq2_aligned = best_alignment.aligned\n",
    "    \n",
    "    # Calculate identity as percentage of matching positions\n",
    "    matches = sum(a == b for a, b in zip(seq1, seq2) if a == b)\n",
    "    length = max(len(seq1), len(seq2))\n",
    "    return matches / length * 100"
   ]
  },
  {
   "cell_type": "code",
   "execution_count": null,
   "metadata": {},
   "outputs": [],
   "source": [
    "# Calculate sequence identity between each query and its matched protein\n",
    "# This adds traditional sequence similarity as a validation of embedding-based matches\n",
    "df_hits['seq_identity'] = df_hits.apply(lambda x: seq_identity(x['query sequence'], x['Sequence']), axis=1)"
   ]
  },
  {
   "cell_type": "code",
   "execution_count": null,
   "metadata": {},
   "outputs": [],
   "source": [
    "# Visualize the distribution of sequence identities for our matches\n",
    "df_hits['seq_identity'].hist()"
   ]
  },
  {
   "cell_type": "code",
   "execution_count": null,
   "metadata": {},
   "outputs": [],
   "source": [
    "df_hits.head()"
   ]
  },
  {
   "cell_type": "code",
   "execution_count": null,
   "metadata": {},
   "outputs": [],
   "source": [
    "# Export results to CSV file for further analysis and validation\n",
    "df_hits.to_csv('/data/ron/protein-conformal/data/gene_unknown/unknown_aa_seqs_pfam_hits.csv', index=False)"
   ]
  },
  {
   "cell_type": "code",
   "execution_count": null,
   "metadata": {},
   "outputs": [],
   "source": [
    "# Visualize the distribution of embedding distances and the confidence threshold\n",
    "# Red line shows the threshold - proteins to the right are confident predictions\n",
    "# sns.distplot(D_max)  # Legacy plotting method\n",
    "# sns.displot(D_max)   # Alternative plotting method\n",
    "sns.histplot(D_max, bins=30)\n",
    "plt.axvline(l_hat, color='r', linestyle='--')  # Show threshold line\n"
   ]
  },
  {
   "cell_type": "code",
   "execution_count": null,
   "metadata": {},
   "outputs": [],
   "source": [
    "# Calculate summary statistics for the results\n",
    "# Count how many unknown proteins got confident functional predictions\n",
    "total_count = len(D_max)               # Total number of unknown proteins analyzed\n",
    "hits_count = np.sum(D_max >= l_hat)    # Confident functional assignments\n",
    "no_hits_count = np.sum(D_max < l_hat)  # Proteins remaining truly unknown"
   ]
  },
  {
   "cell_type": "code",
   "execution_count": null,
   "metadata": {},
   "outputs": [],
   "source": [
    "# Create final summary visualization: pie chart showing prediction success rate  \n",
    "# This visualizes how many unknown proteins we successfully assigned functions to\n",
    "sns.set_theme(style=\"whitegrid\")\n",
    "\n",
    "# Prepare pie chart data with percentages\n",
    "labels = [\n",
    "    f'Hits: {hits_count} ({hits_count / total_count * 100:.1f}%)',     # Proteins with confident predictions\n",
    "    f'No Hits: {no_hits_count} ({no_hits_count / total_count * 100:.1f}%)'  # Still unknown proteins\n",
    "]\n",
    "sizes = [hits_count, no_hits_count]\n",
    "colors = sns.color_palette()[0:2]  # Use Seaborn's default colors\n",
    "explode = (0.1, 0)  # Emphasize the \"hits\" slice\n",
    "\n",
    "# Create and save the pie chart\n",
    "plt.figure(figsize=(5, 5))\n",
    "plt.pie(sizes, explode=explode, labels=labels, colors=colors, autopct='%1.1f%%',\n",
    "        shadow=True, startangle=140)\n",
    "plt.axis('equal')  # Ensure pie chart is circular\n",
    "plt.title(f'Proportion of Protein Hits in JCVI Syn3.0 genes\\n of unknown function (Total: {total_count})')\n",
    "plt.savefig('/data/ron/protein-conformal/figs/pfam_new/protein_hits_pie.pdf', bbox_inches='tight')"
   ]
  }
 ],
 "metadata": {
  "kernelspec": {
   "display_name": "Python 3 (ipykernel)",
   "language": "python",
   "name": "python3"
  },
  "language_info": {
   "codemirror_mode": {
    "name": "ipython",
    "version": 3
   },
   "file_extension": ".py",
   "mimetype": "text/x-python",
   "name": "python",
   "nbconvert_exporter": "python",
   "pygments_lexer": "ipython3",
   "version": "3.10.18"
  }
 },
 "nbformat": 4,
 "nbformat_minor": 2
}

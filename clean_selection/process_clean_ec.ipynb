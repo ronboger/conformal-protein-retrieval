{
 "cells": [
  {
   "cell_type": "code",
   "execution_count": 13,
   "metadata": {},
   "outputs": [
    {
     "data": {
      "text/plain": [
       "(392, 392, 392)"
      ]
     },
     "execution_count": 13,
     "metadata": {},
     "output_type": "execute_result"
    }
   ],
   "source": [
    "# Load processed sorted EC clusters and raw distances\n",
    "\n",
    "import pickle as pkl\n",
    "import numpy as np\n",
    "\n",
    "\n",
    "with open('/home/seyonec/protein-conformal/clean_selection/sorted_dict.pkl', 'rb') as f:\n",
    "    sorted_dict = pkl.load(f)\n",
    "\n",
    "with open('/home/seyonec/protein-conformal/clean_selection/dists.pkl', 'rb') as f:\n",
    "    dists = pkl.load(f)\n",
    "\n",
    "with open('/home/seyonec/protein-conformal/clean_selection/true_labels.pkl', 'rb') as f:\n",
    "    labels = pkl.load(f)\n",
    "\n",
    "len(sorted_dict), len(dists), len(labels)"
   ]
  },
  {
   "cell_type": "code",
   "execution_count": 14,
   "metadata": {},
   "outputs": [
    {
     "data": {
      "text/plain": [
       "4"
      ]
     },
     "execution_count": 14,
     "metadata": {},
     "output_type": "execute_result"
    }
   ],
   "source": [
    "txt = '3.5.4.3'\n",
    "len(txt.split('.'))"
   ]
  },
  {
   "cell_type": "code",
   "execution_count": 25,
   "metadata": {},
   "outputs": [],
   "source": [
    "from protein_conformal.utils import scope_hierarchical_loss\n",
    "def get_clean_dict(sorted_ec_dist, dists, labels):\n",
    "    \"\"\"\n",
    "\n",
    "    sorted_ec_dist: a dictionary where each key is a query protein with EC value key,\n",
    "                    and each value is a dictionary of EC cluster center values and their \n",
    "                    euclidean distances to the query protein.\n",
    "\n",
    "    dists: a 2D numpy array of distances between each test protein embedding and each EC cluster center embedding\n",
    "\n",
    "    labels: a list of true EC labels, where each element in the list is a list of valid EC labels for the test protein.\n",
    "            We want to make sure that we check against all the valid EC labels for each test protein, and take the minimum\n",
    "            loss against the EC cluster centers for each valid EC label.\n",
    "    \"\"\"\n",
    "\n",
    "    num_train_clusters = len(dists[0])\n",
    "    near_ids = []\n",
    "    min_sim = np.min(dists)\n",
    "    max_sim = np.max(dists)\n",
    "\n",
    "    for i, key in enumerate(sorted_dict):\n",
    "        #test_id = test_df.loc[true_test_idcs[i], id]\n",
    "        test_ec = labels[i] # could be list of EC numbers if multiple valid.\n",
    "        #print(test_ec)\n",
    "        ec_cluster_centers = [k for k in sorted_ec_dist[key].keys()]\n",
    "        exact_loss = [[scope_hierarchical_loss(poss_ec, ec_cluster_centers[j]) for poss_ec in test_ec] for j in range(num_train_clusters)]\n",
    "        # grab the 2nd element in the tuple belonging to each element of exact_loss as mask_exact\n",
    "        #mask_exact = [x[1] for x in exact_loss]\n",
    "        loss = [min([y[0] for y in x]) for x in exact_loss]\n",
    "        mask_exact = [x == 4 for x in loss] ## if loss is 4, then it is an exact match\n",
    "        \n",
    "        # define mask_partial as 1 for any element of loss that is <=1 (tolerate retrieving homolog with diff family but same superfamily)\n",
    "        mask_partial = [l <= 1 for l in loss]\n",
    "        \n",
    "        # create a row of size len(lookup_df) where each element is the sum of all entries in S_i until that index\n",
    "        sum = np.cumsum(dists[i])\n",
    "        norm_sim = (dists[i] - min_sim) / (max_sim - min_sim) # convert similarities into a probability space (0, 1) based on (min_sim, max_sim)\n",
    "        #mask_exact = [test_sccs == lookup_df.loc[lookup_idcs[j], 'sccs'] for j in I[i]]\n",
    "\n",
    "        sum_norm_s_i = np.cumsum(norm_sim)\n",
    "        near_ids.append({\n",
    "            'EC_id': key,\n",
    "            'test_ec': test_ec,\n",
    "            'EC_centroids': ec_cluster_centers,\n",
    "            #'meta_query': meta_query,\n",
    "            'loss' : loss,\n",
    "            'exact': mask_exact,\n",
    "            'partial': mask_partial,\n",
    "            'S_i': dists[i],\n",
    "            'Sum_i' : sum,\n",
    "            'Norm_S_i' : norm_sim,\n",
    "            'Sum_Norm_S_i': sum_norm_s_i,\n",
    "        })\n",
    "    return near_ids"
   ]
  },
  {
   "cell_type": "code",
   "execution_count": 26,
   "metadata": {},
   "outputs": [],
   "source": [
    "clean_dict = get_clean_dict(sorted_dict, dists, labels)"
   ]
  },
  {
   "cell_type": "code",
   "execution_count": 27,
   "metadata": {},
   "outputs": [
    {
     "data": {
      "text/plain": [
       "array([ 4.35125303,  4.76616192,  5.1906805 , ..., 22.18528366,\n",
       "       22.23024178, 22.46767235])"
      ]
     },
     "execution_count": 27,
     "metadata": {},
     "output_type": "execute_result"
    }
   ],
   "source": [
    "clean_dict[60]['S_i']"
   ]
  },
  {
   "cell_type": "code",
   "execution_count": 28,
   "metadata": {},
   "outputs": [],
   "source": [
    "np.save('clean_new_v_ec_cluster.npy', clean_dict)\n"
   ]
  },
  {
   "cell_type": "code",
   "execution_count": null,
   "metadata": {},
   "outputs": [],
   "source": []
  }
 ],
 "metadata": {
  "kernelspec": {
   "display_name": "clean",
   "language": "python",
   "name": "python3"
  },
  "language_info": {
   "codemirror_mode": {
    "name": "ipython",
    "version": 3
   },
   "file_extension": ".py",
   "mimetype": "text/x-python",
   "name": "python",
   "nbconvert_exporter": "python",
   "pygments_lexer": "ipython3",
   "version": "3.11.5"
  }
 },
 "nbformat": 4,
 "nbformat_minor": 2
}

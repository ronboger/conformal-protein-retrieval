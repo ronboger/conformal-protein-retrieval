{
 "cells": [
  {
   "cell_type": "code",
   "execution_count": 1,
   "metadata": {},
   "outputs": [],
   "source": [
    "from sklearn.manifold import TSNE\n",
    "import matplotlib.pyplot as plt\n",
    "import seaborn as sns\n",
    "import numpy as np\n",
    "import pandas as pd\n",
    "from collections import defaultdict\n",
    "import faiss"
   ]
  },
  {
   "cell_type": "code",
   "execution_count": 3,
   "metadata": {},
   "outputs": [],
   "source": [
    "# Load in uniprot meta data\n",
    "meta_data_new = pd.read_csv('/home/ron/protein-vec/src_run/data/uniprotkb_AND_reviewed_true_2023_07_03.tsv', sep='\\t')"
   ]
  },
  {
   "cell_type": "code",
   "execution_count": 4,
   "metadata": {},
   "outputs": [],
   "source": [
    "#Now filter for the proteins that were newly discovered\n",
    "new_proteins = meta_data_new[meta_data_new['Date of creation'] > '2022-05-25'].reset_index(drop=True)"
   ]
  },
  {
   "cell_type": "code",
   "execution_count": 6,
   "metadata": {},
   "outputs": [],
   "source": [
    "lookup_proteins_meta = pd.read_csv('/home/ron/protein-vec/src_run/protein_vec_embeddings/lookup_embeddings_meta_data.tsv', sep=\"\\t\")\n",
    "# were all of these trained on?"
   ]
  },
  {
   "cell_type": "code",
   "execution_count": 9,
   "metadata": {},
   "outputs": [
    {
     "data": {
      "text/plain": [
       "0"
      ]
     },
     "execution_count": 9,
     "metadata": {},
     "output_type": "execute_result"
    }
   ],
   "source": [
    "# new protein Entry is in the lookup database Entry\n",
    "new_proteins['Entry'].isin(lookup_proteins_meta['Entry']).sum()\n"
   ]
  },
  {
   "cell_type": "code",
   "execution_count": 10,
   "metadata": {},
   "outputs": [],
   "source": [
    "# get proteins in meta_data_new that are not in lookup_proteins_meta\n",
    "new_proteins_not_in_lookup = new_proteins[~new_proteins['Entry'].isin(lookup_proteins_meta['Entry'])].reset_index(drop=True)"
   ]
  },
  {
   "cell_type": "code",
   "execution_count": 12,
   "metadata": {},
   "outputs": [
    {
     "data": {
      "text/plain": [
       "(2350, 2350)"
      ]
     },
     "execution_count": 12,
     "metadata": {},
     "output_type": "execute_result"
    }
   ],
   "source": [
    "len(new_proteins_not_in_lookup), len(new_proteins)"
   ]
  },
  {
   "cell_type": "code",
   "execution_count": 14,
   "metadata": {},
   "outputs": [],
   "source": [
    "embeddings = np.load('/home/ron/protein-vec/src_run/protein_vec_embeddings/lookup_embeddings.npy')"
   ]
  },
  {
   "cell_type": "code",
   "execution_count": 23,
   "metadata": {},
   "outputs": [],
   "source": [
    "column = 'Pfam'"
   ]
  },
  {
   "cell_type": "code",
   "execution_count": 33,
   "metadata": {},
   "outputs": [],
   "source": [
    "# select proteins and their embeddings only for proteins that have a Pfam domain\n",
    "col_proteins_meta = lookup_proteins_meta[~lookup_proteins_meta[column].isnull()]\n",
    "col_embeddings = embeddings[col_proteins_meta.index]\n",
    "# drop index to avoid confusion\n",
    "col_proteins_meta = col_proteins_meta.reset_index(drop=True)"
   ]
  },
  {
   "cell_type": "code",
   "execution_count": 27,
   "metadata": {},
   "outputs": [
    {
     "data": {
      "text/plain": [
       "(517951, 517951)"
      ]
     },
     "execution_count": 27,
     "metadata": {},
     "output_type": "execute_result"
    }
   ],
   "source": [
    "len(col_proteins_meta), len(col_embeddings)"
   ]
  },
  {
   "cell_type": "code",
   "execution_count": 37,
   "metadata": {},
   "outputs": [],
   "source": [
    "# split into train and test set and get the respective embeddings (using the index of the proteins)\n",
    "np.random.seed(0)\n",
    "# col_lookup = col_proteins_meta.sample(frac=0.8)\n",
    "# col_query = col_proteins_meta[~col_proteins_meta.index.isin(col_lookup.index)]\n",
    "\n",
    "# select 10000 proteins for the query set and the rest for the lookup set\n",
    "col_lookup = col_proteins_meta.sample(n=10000)\n",
    "col_query = col_proteins_meta[~col_proteins_meta.index.isin(col_lookup.index)]\n",
    "\n",
    "col_lookup_embeddings = col_embeddings[col_lookup.index]\n",
    "col_query_embeddings = col_embeddings[col_query.index]\n"
   ]
  },
  {
   "cell_type": "code",
   "execution_count": 41,
   "metadata": {},
   "outputs": [],
   "source": [
    "col_meta_data = col_lookup[column].values"
   ]
  },
  {
   "cell_type": "code",
   "execution_count": 39,
   "metadata": {},
   "outputs": [],
   "source": [
    "def load_database(lookup_database):\n",
    "    # Build an indexed database\n",
    "    d = lookup_database.shape[1]\n",
    "    index = faiss.IndexFlatIP(d)\n",
    "    faiss.normalize_L2(lookup_database)\n",
    "    index.add(lookup_database)\n",
    "\n",
    "    return index\n",
    "\n",
    "def query(index, queries, k=10):\n",
    "    faiss.normalize_L2(queries)\n",
    "    D, I = index.search(queries, k)\n",
    "\n",
    "    return (D, I)"
   ]
  },
  {
   "cell_type": "code",
   "execution_count": 40,
   "metadata": {},
   "outputs": [],
   "source": [
    "# load database\n",
    "lookup_database = load_database(col_lookup_embeddings)\n",
    "\n",
    "# Query for the 1st nearest neighbor\n",
    "k = 10000\n",
    "D, I = query(lookup_database, col_query_embeddings, k)"
   ]
  },
  {
   "cell_type": "code",
   "execution_count": 44,
   "metadata": {},
   "outputs": [],
   "source": [
    "# save D, I, col_query, col_lookup\n",
    "np.save('lookup_embeddings_faiss_query_results.npy', D)\n",
    "np.save('lookup_embeddings_faiss_query_indices.npy', I)\n",
    "col_query.to_csv('lookup_embeddings_faiss_query_meta_data.tsv', sep=\"\\t\")\n",
    "col_lookup.to_csv('lookup_embeddings_faiss_lookup_meta_data.tsv', sep=\"\\t\")\n"
   ]
  },
  {
   "cell_type": "code",
   "execution_count": 45,
   "metadata": {},
   "outputs": [
    {
     "data": {
      "text/plain": [
       "103590"
      ]
     },
     "execution_count": 45,
     "metadata": {},
     "output_type": "execute_result"
    }
   ],
   "source": [
    "I.shape[0]"
   ]
  },
  {
   "cell_type": "code",
   "execution_count": 46,
   "metadata": {},
   "outputs": [],
   "source": [
    "meta = col_meta_data[I[0]]"
   ]
  },
  {
   "cell_type": "code",
   "execution_count": 49,
   "metadata": {},
   "outputs": [],
   "source": [
    "meta_query = col_query.iloc[0][column]"
   ]
  },
  {
   "cell_type": "code",
   "execution_count": 50,
   "metadata": {},
   "outputs": [
    {
     "data": {
      "text/plain": [
       "'PF01266;'"
      ]
     },
     "execution_count": 50,
     "metadata": {},
     "output_type": "execute_result"
    }
   ],
   "source": [
    "meta_query"
   ]
  },
  {
   "cell_type": "code",
   "execution_count": 61,
   "metadata": {},
   "outputs": [],
   "source": [
    "near_ids = []\n",
    "# for i in range(I.shape[0]):\n",
    "for i in range(10000):\n",
    "    meta = col_meta_data[I[i]]\n",
    "    meta_query = col_query.iloc[i][column]\n",
    "    # if no annotation for the query, skip\n",
    "    \n",
    "    if meta_query is np.nan:\n",
    "        continue\n",
    "    # create boolean mask for proteins that have the same annotation as the query\n",
    "    # print(meta_query)\n",
    "\n",
    "    # technically, this is a partial hit. to get exact hits, use the following line\n",
    "\n",
    "    # mask_query_in_lookup = [meta_query in meta[k] for k in range(len(meta))]\n",
    "    # kind of confusing. delineate the cases of different hits based on number of Pfam/EC/etc annotations\n",
    "\n",
    "    mask_exact = [meta_query == meta[k] for k in range(len(meta))]\n",
    "    # partial hits\n",
    "    if meta_query.count(';') > 1:\n",
    "        available_pfs = meta_query.split(';')\n",
    "        mask_partial = [[available_pfs[j] in meta[k] for j in range(len(available_pfs) - 1)] for k in range(len(meta))]\n",
    "    else:\n",
    "        mask_partial = [meta_query in meta[k] for k in range(len(meta))]\n",
    "\n",
    "    \n",
    "    # available_pfs = meta_query.split(';')\n",
    "    # mask_partial = [[available_pfs[j] in meta[k] for j in range(len(available_pfs) - 1)] for k in range(len(meta))]\n",
    "    \n",
    "    near_ids.append({\n",
    "        'meta': meta,\n",
    "        'meta_query': meta_query,\n",
    "        'exact': mask_exact,\n",
    "        'partial': mask_partial,\n",
    "        'S_i': D[i]\n",
    "    })   "
   ]
  },
  {
   "cell_type": "code",
   "execution_count": 63,
   "metadata": {},
   "outputs": [],
   "source": [
    "# save the results\n",
    "np.save('conformal_pfam_with_lookup_dataset.npy', near_ids)"
   ]
  },
  {
   "cell_type": "markdown",
   "metadata": {},
   "source": [
    "### Make the same dataset but for new proteins after the cutoff date"
   ]
  },
  {
   "cell_type": "code",
   "execution_count": null,
   "metadata": {},
   "outputs": [],
   "source": [
    "query_embeddings = np.load('new_protein_embeddings.npy')"
   ]
  },
  {
   "cell_type": "code",
   "execution_count": null,
   "metadata": {},
   "outputs": [],
   "source": [
    "# Filter for lookup proteins with annotations for the relavant aspect (don't want to transfer null annotations)\n",
    "col_lookup = lookup_proteins_meta[~lookup_proteins_meta[column].isnull()]\n",
    "col_lookup_embeddings = embeddings[col_lookup.index]\n",
    "col_meta_data = col_lookup[column].values\n"
   ]
  },
  {
   "cell_type": "code",
   "execution_count": null,
   "metadata": {},
   "outputs": [],
   "source": []
  }
 ],
 "metadata": {
  "kernelspec": {
   "display_name": "protein-vec",
   "language": "python",
   "name": "python3"
  },
  "language_info": {
   "codemirror_mode": {
    "name": "ipython",
    "version": 3
   },
   "file_extension": ".py",
   "mimetype": "text/x-python",
   "name": "python",
   "nbconvert_exporter": "python",
   "pygments_lexer": "ipython3",
   "version": "3.7.16"
  }
 },
 "nbformat": 4,
 "nbformat_minor": 2
}

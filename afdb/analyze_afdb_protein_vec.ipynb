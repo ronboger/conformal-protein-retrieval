{
 "cells": [
  {
   "cell_type": "code",
   "execution_count": 1,
   "metadata": {},
   "outputs": [],
   "source": [
    "import numpy as np\n",
    "import matplotlib.pyplot as plt\n",
    "import pandas as pd\n",
    "from matplotlib_venn import venn2"
   ]
  },
  {
   "cell_type": "code",
   "execution_count": 2,
   "metadata": {},
   "outputs": [],
   "source": [
    "from protein_conformal.util import *"
   ]
  },
  {
   "cell_type": "code",
   "execution_count": 3,
   "metadata": {},
   "outputs": [],
   "source": [
    "import faiss"
   ]
  },
  {
   "cell_type": "code",
   "execution_count": 4,
   "metadata": {},
   "outputs": [
    {
     "name": "stdout",
     "output_type": "stream",
     "text": [
      "(74, 512)\n",
      "74\n"
     ]
    }
   ],
   "source": [
    "scope = np.load('/data/ron/protein-conformal/data/SCOPe_multidomain_embeddings_protein_vec.npy')\n",
    "print(scope.shape)\n",
    "\n",
    "# load scope metadata\n",
    "_, scope_metadata = read_fasta('/data/ron/protein-conformal/data/SCOPe_multidomain.fasta')\n",
    "print(len(scope_metadata))"
   ]
  },
  {
   "cell_type": "code",
   "execution_count": 5,
   "metadata": {},
   "outputs": [
    {
     "name": "stdout",
     "output_type": "stream",
     "text": [
      "2302899\n",
      "(2302899, 512)\n"
     ]
    }
   ],
   "source": [
    "afdb = np.load('/data/ron/protein-conformal/data/afdb_embeddings_protein_vec.npy')\n",
    "# load afdb metadata\n",
    "_, afdb_metadata = read_fasta('/data/ron/protein-conformal/data/AFDB_sequences.fasta')\n",
    "print(len(afdb_metadata))\n",
    "print(afdb.shape)"
   ]
  },
  {
   "cell_type": "code",
   "execution_count": null,
   "metadata": {},
   "outputs": [],
   "source": [
    "# remove > at the beginning of the string for scope metadata and afdb metadata\n",
    "scope_metadata = [x[1:] for x in scope_metadata if x[0] == '>']\n",
    "afdb_metadata = [x[1:] for x in afdb_metadata if x[0] == '>']"
   ]
  },
  {
   "cell_type": "code",
   "execution_count": 9,
   "metadata": {},
   "outputs": [],
   "source": [
    "afdb_lookup = load_database(afdb)"
   ]
  },
  {
   "cell_type": "code",
   "execution_count": 82,
   "metadata": {},
   "outputs": [],
   "source": [
    "# Query for the 1st nearest neighbor\n",
    "k = 2302899\n",
    "D, I = query(afdb_lookup, scope, k)"
   ]
  },
  {
   "cell_type": "code",
   "execution_count": 83,
   "metadata": {},
   "outputs": [
    {
     "data": {
      "text/plain": [
       "(74, 2302899)"
      ]
     },
     "execution_count": 83,
     "metadata": {},
     "output_type": "execute_result"
    }
   ],
   "source": [
    "I.shape"
   ]
  },
  {
   "cell_type": "code",
   "execution_count": 84,
   "metadata": {},
   "outputs": [
    {
     "data": {
      "text/plain": [
       "(array([1.000000e+00, 1.000000e+00, 0.000000e+00, 1.000000e+00,\n",
       "        1.000000e+00, 4.000000e+00, 2.000000e+00, 7.000000e+00,\n",
       "        1.200000e+01, 1.100000e+01, 2.300000e+01, 1.900000e+01,\n",
       "        2.600000e+01, 3.400000e+01, 6.700000e+01, 1.010000e+02,\n",
       "        1.160000e+02, 1.750000e+02, 2.250000e+02, 3.450000e+02,\n",
       "        4.400000e+02, 6.210000e+02, 9.780000e+02, 1.228000e+03,\n",
       "        1.795000e+03, 2.567000e+03, 3.542000e+03, 4.879000e+03,\n",
       "        6.896000e+03, 9.305000e+03, 1.276300e+04, 1.703500e+04,\n",
       "        2.260300e+04, 3.065800e+04, 4.043300e+04, 5.232700e+04,\n",
       "        6.863200e+04, 8.943400e+04, 1.135810e+05, 1.453280e+05,\n",
       "        1.835150e+05, 2.336850e+05, 2.897250e+05, 3.566140e+05,\n",
       "        4.438800e+05, 5.403140e+05, 6.504580e+05, 7.874210e+05,\n",
       "        9.461790e+05, 1.109799e+06, 1.316724e+06, 1.548919e+06,\n",
       "        1.774403e+06, 2.072937e+06, 2.352513e+06, 2.716124e+06,\n",
       "        3.066747e+06, 3.413185e+06, 3.864935e+06, 4.263345e+06,\n",
       "        4.650218e+06, 5.126304e+06, 5.570914e+06, 5.912227e+06,\n",
       "        6.344063e+06, 6.637076e+06, 7.034039e+06, 7.247558e+06,\n",
       "        7.363553e+06, 7.548194e+06, 7.517941e+06, 7.358785e+06,\n",
       "        7.228617e+06, 6.951597e+06, 6.471086e+06, 6.043969e+06,\n",
       "        5.512693e+06, 4.849130e+06, 4.275373e+06, 3.638674e+06,\n",
       "        3.107911e+06, 2.567294e+06, 2.082614e+06, 1.702977e+06,\n",
       "        1.341964e+06, 1.041675e+06, 8.040710e+05, 6.032360e+05,\n",
       "        4.318660e+05, 3.050840e+05, 2.086720e+05, 1.469160e+05,\n",
       "        1.028720e+05, 6.830500e+04, 3.898900e+04, 1.610300e+04,\n",
       "        3.813000e+03, 4.540000e+02, 5.200000e+01, 9.000000e+00]),\n",
       " array([0.9993099 , 0.99931675, 0.99932367, 0.9993305 , 0.9993374 ,\n",
       "        0.9993442 , 0.99935114, 0.999358  , 0.99936485, 0.99937177,\n",
       "        0.9993786 , 0.9993855 , 0.99939233, 0.99939924, 0.9994061 ,\n",
       "        0.99941295, 0.9994198 , 0.9994267 , 0.9994336 , 0.99944043,\n",
       "        0.99944735, 0.9994542 , 0.99946105, 0.9994679 , 0.9994748 ,\n",
       "        0.9994817 , 0.99948853, 0.99949545, 0.9995023 , 0.99950916,\n",
       "        0.999516  , 0.9995229 , 0.9995298 , 0.99953663, 0.99954355,\n",
       "        0.9995504 , 0.99955726, 0.9995641 , 0.999571  , 0.9995779 ,\n",
       "        0.99958473, 0.9995916 , 0.9995985 , 0.99960536, 0.9996122 ,\n",
       "        0.9996191 , 0.999626  , 0.99963284, 0.9996397 , 0.9996466 ,\n",
       "        0.99965346, 0.9996603 , 0.9996672 , 0.9996741 , 0.99968094,\n",
       "        0.9996878 , 0.9996947 , 0.99970156, 0.9997084 , 0.9997153 ,\n",
       "        0.9997222 , 0.99972904, 0.9997359 , 0.9997428 , 0.99974966,\n",
       "        0.9997565 , 0.99976337, 0.9997703 , 0.99977714, 0.999784  ,\n",
       "        0.9997909 , 0.99979776, 0.9998046 , 0.9998115 , 0.9998184 ,\n",
       "        0.99982524, 0.9998321 , 0.999839  , 0.99984586, 0.9998527 ,\n",
       "        0.9998596 , 0.9998665 , 0.99987334, 0.9998802 , 0.9998871 ,\n",
       "        0.99989396, 0.9999008 , 0.9999077 , 0.9999146 , 0.99992144,\n",
       "        0.9999283 , 0.99993515, 0.99994206, 0.9999489 , 0.9999558 ,\n",
       "        0.9999627 , 0.99996954, 0.9999764 , 0.99998325, 0.99999017,\n",
       "        0.999997  ], dtype=float32),\n",
       " <BarContainer object of 100 artists>)"
      ]
     },
     "execution_count": 84,
     "metadata": {},
     "output_type": "execute_result"
    },
    {
     "data": {
      "image/png": "[encoded data removed]",
      "text/plain": [
       "<Figure size 640x480 with 1 Axes>"
      ]
     },
     "metadata": {},
     "output_type": "display_data"
    }
   ],
   "source": [
    "# plot histogram of distances\n",
    "plt.hist(D.flatten(), bins=100)"
   ]
  },
  {
   "cell_type": "code",
   "execution_count": null,
   "metadata": {},
   "outputs": [],
   "source": [
    "# load DALI results"
   ]
  },
  {
   "cell_type": "code",
   "execution_count": 32,
   "metadata": {},
   "outputs": [],
   "source": [
    "dali_1oisA = pd.read_csv('/data/ron/protein-conformal/data/dali_multidomain_results_csv/1oisA.csv')"
   ]
  },
  {
   "cell_type": "code",
   "execution_count": 36,
   "metadata": {},
   "outputs": [
    {
     "data": {
      "text/html": [
       "<div>\n",
       "<style scoped>\n",
       "    .dataframe tbody tr th:only-of-type {\n",
       "        vertical-align: middle;\n",
       "    }\n",
       "\n",
       "    .dataframe tbody tr th {\n",
       "        vertical-align: top;\n",
       "    }\n",
       "\n",
       "    .dataframe thead th {\n",
       "        text-align: right;\n",
       "    }\n",
       "</style>\n",
       "<table border=\"1\" class=\"dataframe\">\n",
       "  <thead>\n",
       "    <tr style=\"text-align: right;\">\n",
       "      <th></th>\n",
       "      <th>query</th>\n",
       "      <th>target</th>\n",
       "      <th>Z</th>\n",
       "      <th>RMSD</th>\n",
       "      <th>Alignment_Length</th>\n",
       "      <th>Hit_Length</th>\n",
       "      <th>Query_Length</th>\n",
       "      <th>Perc_Ident</th>\n",
       "      <th>Query_Cov_Perc</th>\n",
       "      <th>Full_Alignment</th>\n",
       "      <th>Alphafold_link</th>\n",
       "    </tr>\n",
       "  </thead>\n",
       "  <tbody>\n",
       "    <tr>\n",
       "      <th>0</th>\n",
       "      <td>1ois</td>\n",
       "      <td>A0A7J2Z1R5</td>\n",
       "      <td>3.1</td>\n",
       "      <td>15.8</td>\n",
       "      <td>93</td>\n",
       "      <td>160</td>\n",
       "      <td>1000</td>\n",
       "      <td>9</td>\n",
       "      <td>9.3</td>\n",
       "      <td>NaN</td>\n",
       "      <td>https://alphafold.ebi.ac.uk/entry/A0A7J2Z1R5</td>\n",
       "    </tr>\n",
       "    <tr>\n",
       "      <th>1</th>\n",
       "      <td>1ois</td>\n",
       "      <td>A0A7H4LGP6</td>\n",
       "      <td>2.3</td>\n",
       "      <td>5.3</td>\n",
       "      <td>69</td>\n",
       "      <td>102</td>\n",
       "      <td>1000</td>\n",
       "      <td>12</td>\n",
       "      <td>6.9</td>\n",
       "      <td>NaN</td>\n",
       "      <td>https://alphafold.ebi.ac.uk/entry/A0A7H4LGP6</td>\n",
       "    </tr>\n",
       "    <tr>\n",
       "      <th>2</th>\n",
       "      <td>1ois</td>\n",
       "      <td>F0ZDL3</td>\n",
       "      <td>3.3</td>\n",
       "      <td>18.4</td>\n",
       "      <td>98</td>\n",
       "      <td>499</td>\n",
       "      <td>1000</td>\n",
       "      <td>7</td>\n",
       "      <td>9.8</td>\n",
       "      <td>NaN</td>\n",
       "      <td>https://alphafold.ebi.ac.uk/entry/F0ZDL3</td>\n",
       "    </tr>\n",
       "    <tr>\n",
       "      <th>3</th>\n",
       "      <td>1ois</td>\n",
       "      <td>V9IJC9</td>\n",
       "      <td>18.7</td>\n",
       "      <td>1.5</td>\n",
       "      <td>187</td>\n",
       "      <td>685</td>\n",
       "      <td>1000</td>\n",
       "      <td>41</td>\n",
       "      <td>18.7</td>\n",
       "      <td>NaN</td>\n",
       "      <td>https://alphafold.ebi.ac.uk/entry/V9IJC9</td>\n",
       "    </tr>\n",
       "    <tr>\n",
       "      <th>4</th>\n",
       "      <td>1ois</td>\n",
       "      <td>A0A0D3D5Z1</td>\n",
       "      <td>2.3</td>\n",
       "      <td>21.2</td>\n",
       "      <td>82</td>\n",
       "      <td>351</td>\n",
       "      <td>1000</td>\n",
       "      <td>5</td>\n",
       "      <td>8.2</td>\n",
       "      <td>NaN</td>\n",
       "      <td>https://alphafold.ebi.ac.uk/entry/A0A0D3D5Z1</td>\n",
       "    </tr>\n",
       "  </tbody>\n",
       "</table>\n",
       "</div>"
      ],
      "text/plain": [
       "  query      target     Z  RMSD  Alignment_Length  Hit_Length  Query_Length  \\\n",
       "0  1ois  A0A7J2Z1R5   3.1  15.8                93         160          1000   \n",
       "1  1ois  A0A7H4LGP6   2.3   5.3                69         102          1000   \n",
       "2  1ois      F0ZDL3   3.3  18.4                98         499          1000   \n",
       "3  1ois      V9IJC9  18.7   1.5               187         685          1000   \n",
       "4  1ois  A0A0D3D5Z1   2.3  21.2                82         351          1000   \n",
       "\n",
       "   Perc_Ident  Query_Cov_Perc Full_Alignment  \\\n",
       "0           9             9.3            NaN   \n",
       "1          12             6.9            NaN   \n",
       "2           7             9.8            NaN   \n",
       "3          41            18.7            NaN   \n",
       "4           5             8.2            NaN   \n",
       "\n",
       "                                 Alphafold_link  \n",
       "0  https://alphafold.ebi.ac.uk/entry/A0A7J2Z1R5  \n",
       "1  https://alphafold.ebi.ac.uk/entry/A0A7H4LGP6  \n",
       "2      https://alphafold.ebi.ac.uk/entry/F0ZDL3  \n",
       "3      https://alphafold.ebi.ac.uk/entry/V9IJC9  \n",
       "4  https://alphafold.ebi.ac.uk/entry/A0A0D3D5Z1  "
      ]
     },
     "execution_count": 36,
     "metadata": {},
     "output_type": "execute_result"
    }
   ],
   "source": [
    "dali_1oisA.head()"
   ]
  },
  {
   "cell_type": "code",
   "execution_count": 37,
   "metadata": {},
   "outputs": [
    {
     "data": {
      "text/plain": [
       "47"
      ]
     },
     "execution_count": 37,
     "metadata": {},
     "output_type": "execute_result"
    }
   ],
   "source": [
    "len(dali_1oisA)"
   ]
  },
  {
   "cell_type": "code",
   "execution_count": 38,
   "metadata": {},
   "outputs": [
    {
     "data": {
      "text/plain": [
       "'>2hhvA'"
      ]
     },
     "execution_count": 38,
     "metadata": {},
     "output_type": "execute_result"
    }
   ],
   "source": [
    "scope_metadata[0]"
   ]
  },
  {
   "cell_type": "code",
   "execution_count": 41,
   "metadata": {},
   "outputs": [],
   "source": [
    "'>1oisA' in scope_metadata\n",
    "# get location of 1oisA in scope\n",
    "scope_idx = [i for i, x in enumerate(scope_metadata) if '>1oisA' in x][0]"
   ]
  },
  {
   "cell_type": "code",
   "execution_count": 42,
   "metadata": {},
   "outputs": [
    {
     "data": {
      "text/plain": [
       "22"
      ]
     },
     "execution_count": 42,
     "metadata": {},
     "output_type": "execute_result"
    }
   ],
   "source": [
    "scope_idx"
   ]
  },
  {
   "cell_type": "code",
   "execution_count": 68,
   "metadata": {},
   "outputs": [
    {
     "data": {
      "text/plain": [
       "'2hhvA'"
      ]
     },
     "execution_count": 68,
     "metadata": {},
     "output_type": "execute_result"
    }
   ],
   "source": [
    "scope_metadata[0]"
   ]
  },
  {
   "cell_type": "code",
   "execution_count": 69,
   "metadata": {},
   "outputs": [
    {
     "data": {
      "text/plain": [
       "'A0A009E921'"
      ]
     },
     "execution_count": 69,
     "metadata": {},
     "output_type": "execute_result"
    }
   ],
   "source": [
    "afdb_metadata[0]"
   ]
  },
  {
   "cell_type": "code",
   "execution_count": 50,
   "metadata": {},
   "outputs": [
    {
     "data": {
      "text/plain": [
       "True"
      ]
     },
     "execution_count": 50,
     "metadata": {},
     "output_type": "execute_result"
    }
   ],
   "source": [
    "dali_1oisA['target'][0] in afdb_metadata"
   ]
  },
  {
   "cell_type": "code",
   "execution_count": 70,
   "metadata": {},
   "outputs": [],
   "source": [
    "dali_test = pd.read_csv('/data/ron/protein-conformal/data/dali_multidomain_results_csv/2hhvA.csv')"
   ]
  },
  {
   "cell_type": "code",
   "execution_count": 71,
   "metadata": {},
   "outputs": [
    {
     "data": {
      "text/html": [
       "<div>\n",
       "<style scoped>\n",
       "    .dataframe tbody tr th:only-of-type {\n",
       "        vertical-align: middle;\n",
       "    }\n",
       "\n",
       "    .dataframe tbody tr th {\n",
       "        vertical-align: top;\n",
       "    }\n",
       "\n",
       "    .dataframe thead th {\n",
       "        text-align: right;\n",
       "    }\n",
       "</style>\n",
       "<table border=\"1\" class=\"dataframe\">\n",
       "  <thead>\n",
       "    <tr style=\"text-align: right;\">\n",
       "      <th></th>\n",
       "      <th>query</th>\n",
       "      <th>target</th>\n",
       "      <th>Z</th>\n",
       "      <th>RMSD</th>\n",
       "      <th>Alignment_Length</th>\n",
       "      <th>Hit_Length</th>\n",
       "      <th>Query_Length</th>\n",
       "      <th>Perc_Ident</th>\n",
       "      <th>Query_Cov_Perc</th>\n",
       "      <th>Full_Alignment</th>\n",
       "      <th>Alphafold_link</th>\n",
       "    </tr>\n",
       "  </thead>\n",
       "  <tbody>\n",
       "    <tr>\n",
       "      <th>0</th>\n",
       "      <td>2hhv</td>\n",
       "      <td>A0A496M0L2</td>\n",
       "      <td>6.7</td>\n",
       "      <td>3.0</td>\n",
       "      <td>114</td>\n",
       "      <td>142</td>\n",
       "      <td>1000</td>\n",
       "      <td>10</td>\n",
       "      <td>11.4</td>\n",
       "      <td>\\nDSSP  llllleelllllhhhhlLEEEEEEELLL---------l...</td>\n",
       "      <td>https://alphafold.ebi.ac.uk/entry/A0A496M0L2</td>\n",
       "    </tr>\n",
       "    <tr>\n",
       "      <th>1</th>\n",
       "      <td>2hhv</td>\n",
       "      <td>A0A3M7BNU4</td>\n",
       "      <td>6.3</td>\n",
       "      <td>3.9</td>\n",
       "      <td>127</td>\n",
       "      <td>267</td>\n",
       "      <td>1000</td>\n",
       "      <td>11</td>\n",
       "      <td>12.7</td>\n",
       "      <td>\\nDSSP  ------------------------llllleelllllhh...</td>\n",
       "      <td>https://alphafold.ebi.ac.uk/entry/A0A3M7BNU4</td>\n",
       "    </tr>\n",
       "    <tr>\n",
       "      <th>2</th>\n",
       "      <td>2hhv</td>\n",
       "      <td>B4U6R4</td>\n",
       "      <td>6.0</td>\n",
       "      <td>3.2</td>\n",
       "      <td>107</td>\n",
       "      <td>196</td>\n",
       "      <td>1000</td>\n",
       "      <td>8</td>\n",
       "      <td>10.7</td>\n",
       "      <td>\\nDSSP  llllleelllllhhhhlleeeeeeelllllllllllle...</td>\n",
       "      <td>https://alphafold.ebi.ac.uk/entry/B4U6R4</td>\n",
       "    </tr>\n",
       "    <tr>\n",
       "      <th>3</th>\n",
       "      <td>2hhv</td>\n",
       "      <td>A0A535HFQ5</td>\n",
       "      <td>5.9</td>\n",
       "      <td>7.3</td>\n",
       "      <td>74</td>\n",
       "      <td>146</td>\n",
       "      <td>1000</td>\n",
       "      <td>14</td>\n",
       "      <td>7.4</td>\n",
       "      <td>\\nDSSP  llllleelllllhhhhlleeeeeeelllllllllllle...</td>\n",
       "      <td>https://alphafold.ebi.ac.uk/entry/A0A535HFQ5</td>\n",
       "    </tr>\n",
       "    <tr>\n",
       "      <th>4</th>\n",
       "      <td>2hhv</td>\n",
       "      <td>A0A3M0L026</td>\n",
       "      <td>5.4</td>\n",
       "      <td>7.8</td>\n",
       "      <td>119</td>\n",
       "      <td>293</td>\n",
       "      <td>1000</td>\n",
       "      <td>11</td>\n",
       "      <td>11.9</td>\n",
       "      <td>\\nDSSP  ---------LLLLLeelllllhhhhlleeeeeeellll...</td>\n",
       "      <td>https://alphafold.ebi.ac.uk/entry/A0A3M0L026</td>\n",
       "    </tr>\n",
       "  </tbody>\n",
       "</table>\n",
       "</div>"
      ],
      "text/plain": [
       "  query      target    Z  RMSD  Alignment_Length  Hit_Length  Query_Length  \\\n",
       "0  2hhv  A0A496M0L2  6.7   3.0               114         142          1000   \n",
       "1  2hhv  A0A3M7BNU4  6.3   3.9               127         267          1000   \n",
       "2  2hhv      B4U6R4  6.0   3.2               107         196          1000   \n",
       "3  2hhv  A0A535HFQ5  5.9   7.3                74         146          1000   \n",
       "4  2hhv  A0A3M0L026  5.4   7.8               119         293          1000   \n",
       "\n",
       "   Perc_Ident  Query_Cov_Perc  \\\n",
       "0          10            11.4   \n",
       "1          11            12.7   \n",
       "2           8            10.7   \n",
       "3          14             7.4   \n",
       "4          11            11.9   \n",
       "\n",
       "                                      Full_Alignment  \\\n",
       "0  \\nDSSP  llllleelllllhhhhlLEEEEEEELLL---------l...   \n",
       "1  \\nDSSP  ------------------------llllleelllllhh...   \n",
       "2  \\nDSSP  llllleelllllhhhhlleeeeeeelllllllllllle...   \n",
       "3  \\nDSSP  llllleelllllhhhhlleeeeeeelllllllllllle...   \n",
       "4  \\nDSSP  ---------LLLLLeelllllhhhhlleeeeeeellll...   \n",
       "\n",
       "                                 Alphafold_link  \n",
       "0  https://alphafold.ebi.ac.uk/entry/A0A496M0L2  \n",
       "1  https://alphafold.ebi.ac.uk/entry/A0A3M7BNU4  \n",
       "2      https://alphafold.ebi.ac.uk/entry/B4U6R4  \n",
       "3  https://alphafold.ebi.ac.uk/entry/A0A535HFQ5  \n",
       "4  https://alphafold.ebi.ac.uk/entry/A0A3M0L026  "
      ]
     },
     "execution_count": 71,
     "metadata": {},
     "output_type": "execute_result"
    }
   ],
   "source": [
    "dali_test.head()"
   ]
  },
  {
   "cell_type": "code",
   "execution_count": 72,
   "metadata": {},
   "outputs": [
    {
     "data": {
      "text/plain": [
       "172531"
      ]
     },
     "execution_count": 72,
     "metadata": {},
     "output_type": "execute_result"
    }
   ],
   "source": [
    "len(dali_test)"
   ]
  },
  {
   "cell_type": "code",
   "execution_count": 58,
   "metadata": {},
   "outputs": [
    {
     "ename": "TypeError",
     "evalue": "only integer scalar arrays can be converted to a scalar index",
     "output_type": "error",
     "traceback": [
      "\u001b[0;31m---------------------------------------------------------------------------\u001b[0m",
      "\u001b[0;31mTypeError\u001b[0m                                 Traceback (most recent call last)",
      "\u001b[0;32m/tmp/ipykernel_3023751/1993400789.py\u001b[0m in \u001b[0;36m<module>\u001b[0;34m\u001b[0m\n\u001b[0;32m----> 1\u001b[0;31m \u001b[0mmetadata_test\u001b[0m \u001b[0;34m=\u001b[0m \u001b[0mafdb_metadata\u001b[0m\u001b[0;34m[\u001b[0m\u001b[0mI\u001b[0m\u001b[0;34m[\u001b[0m\u001b[0;36m0\u001b[0m\u001b[0;34m]\u001b[0m\u001b[0;34m]\u001b[0m\u001b[0;34m\u001b[0m\u001b[0;34m\u001b[0m\u001b[0m\n\u001b[0m",
      "\u001b[0;31mTypeError\u001b[0m: only integer scalar arrays can be converted to a scalar index"
     ]
    }
   ],
   "source": [
    "metadata_test = afdb_metadata[I[0]]\n"
   ]
  },
  {
   "cell_type": "code",
   "execution_count": 86,
   "metadata": {},
   "outputs": [],
   "source": [
    "# index into afdb metadata with I[0]\n",
    "metadata_test = [afdb_metadata[i] for i in I[0]]\n",
    "print(len(metadata_test))"
   ]
  },
  {
   "cell_type": "code",
   "execution_count": 90,
   "metadata": {},
   "outputs": [],
   "source": [
    "# sort dali_test by Z score\n",
    "dali_test_sorted = dali_test.sort_values('Z', ascending=False)"
   ]
  },
  {
   "cell_type": "code",
   "execution_count": 96,
   "metadata": {},
   "outputs": [
    {
     "data": {
      "text/plain": [
       "<matplotlib_venn._common.VennDiagram at 0x7fc94780d0d0>"
      ]
     },
     "execution_count": 96,
     "metadata": {},
     "output_type": "execute_result"
    },
    {
     "data": {
      "image/png": "[encoded data removed]",
      "text/plain": [
       "<Figure size 640x480 with 1 Axes>"
      ]
     },
     "metadata": {},
     "output_type": "display_data"
    }
   ],
   "source": [
    "# look at top 1000 DALI hits vs top 10000 retrieved protein vec hits\n",
    "venn2([set(metadata_test[0:10000]), set(dali_test_sorted[0:1000]['target'])], ('Retrieved protein vec hits', 'DALI hits'))"
   ]
  },
  {
   "cell_type": "code",
   "execution_count": 87,
   "metadata": {},
   "outputs": [
    {
     "data": {
      "text/plain": [
       "<matplotlib_venn._common.VennDiagram at 0x7fc930592c10>"
      ]
     },
     "execution_count": 87,
     "metadata": {},
     "output_type": "execute_result"
    },
    {
     "data": {
      "image/png": "[encoded data removed]",
      "text/plain": [
       "<Figure size 640x480 with 1 Axes>"
      ]
     },
     "metadata": {},
     "output_type": "display_data"
    }
   ],
   "source": [
    "# make venn diagram of the intersection of the DALI results and the nearest neighbors, which would be metadata_test and dali_test['target']\n",
    "venn2([set(metadata_test), set(dali_test['target'])], ('Retrieved protein vec hits', 'DALI hits'))\n",
    "# set(dali_test[dali_test['Z'] > 10]['target'])\n"
   ]
  },
  {
   "cell_type": "code",
   "execution_count": 77,
   "metadata": {},
   "outputs": [
    {
     "data": {
      "text/plain": [
       "count    172531.000000\n",
       "mean          3.134578\n",
       "std           1.322030\n",
       "min           2.000000\n",
       "25%           2.300000\n",
       "50%           2.800000\n",
       "75%           3.600000\n",
       "max          41.500000\n",
       "Name: Z, dtype: float64"
      ]
     },
     "execution_count": 77,
     "metadata": {},
     "output_type": "execute_result"
    }
   ],
   "source": [
    "dali_test['Z'].describe()"
   ]
  },
  {
   "cell_type": "code",
   "execution_count": 98,
   "metadata": {},
   "outputs": [],
   "source": [
    "# Create a dictionary where the keys are the elements of afdb_metadata and the values are their indices\n",
    "afdb_metadata_dict = {value: index for index, value in enumerate(afdb_metadata)}\n",
    "\n",
    "# Now use this dictionary to find the indices of the elements in dali_test['target']\n",
    "metadata_test_target = [afdb_metadata_dict[x] for x in dali_test['target'] if x in afdb_metadata_dict]"
   ]
  },
  {
   "cell_type": "code",
   "execution_count": 102,
   "metadata": {},
   "outputs": [],
   "source": [
    "lookup_dict_test = {value: index for index, value in enumerate(I[0])}"
   ]
  },
  {
   "cell_type": "code",
   "execution_count": 103,
   "metadata": {},
   "outputs": [],
   "source": [
    "# dali_faiss_intersection = [lookup_dict_test[x] for x in metadata_test_target if x in lookup_dict_test]\n",
    "dali_faiss_idcs = [lookup_dict_test[x] for x in metadata_test_target]"
   ]
  },
  {
   "cell_type": "code",
   "execution_count": 113,
   "metadata": {},
   "outputs": [],
   "source": [
    "# KL divergence between the two distributions D[0][dali_faiss_idcs] and D[0]\n",
    "from scipy.stats import entropy\n",
    "\n",
    "# Ensure the distributions are normalized to represent probabilities\n",
    "# dist1 = D[0][dali_faiss_idcs] / np.sum(D[0][dali_faiss_idcs])\n",
    "# dist2 = D[0] / np.sum(D[0])\n",
    "\n",
    "# # Calculate the KL divergence\n",
    "# kl_divergence = entropy(dist1, dist2)\n",
    "\n",
    "# Create a new array of zeros with the same shape as D[0]\n",
    "full_dist1 = np.zeros_like(D[0])\n",
    "\n",
    "# Place the values of D[0][dali_faiss_idcs] at the corresponding indices in the new array\n",
    "full_dist1[dali_faiss_idcs] = D[0][dali_faiss_idcs]\n",
    "\n",
    "# Now full_dist1 and D[0] have the same shape, and you can compute the KL divergence as before\n",
    "dist1 = full_dist1 / np.sum(full_dist1)\n",
    "dist2 = D[0] / np.sum(D[0])\n",
    "\n",
    "kl_divergence = entropy(dist1, dist2)"
   ]
  },
  {
   "cell_type": "code",
   "execution_count": 115,
   "metadata": {},
   "outputs": [
    {
     "name": "stdout",
     "output_type": "stream",
     "text": [
      "0.9997702 0.99975544\n",
      "5.3681983e-05 5.4961118e-05\n",
      "0.99943256 0.9994294\n",
      "0.9999858 0.9999858\n",
      "0.9997734 0.9997598\n"
     ]
    }
   ],
   "source": [
    "print(np.mean(D[0][dali_faiss_idcs]), np.mean(D[0]))\n",
    "print(np.std(D[0][dali_faiss_idcs]), np.std(D[0]))\n",
    "print(np.min(D[0][dali_faiss_idcs]), np.min(D[0]))\n",
    "print(np.max(D[0][dali_faiss_idcs]), np.max(D[0]))\n",
    "print(np.median(D[0][dali_faiss_idcs]), np.median(D[0]))\n"
   ]
  },
  {
   "cell_type": "code",
   "execution_count": 106,
   "metadata": {},
   "outputs": [
    {
     "data": {
      "text/plain": [
       "Text(0.5, 1.0, 'protein-vec distance distribution of DALI hits vs all hits')"
      ]
     },
     "execution_count": 106,
     "metadata": {},
     "output_type": "execute_result"
    },
    {
     "data": {
      "image/png": "[encoded data removed]",
      "text/plain": [
       "<Figure size 640x480 with 1 Axes>"
      ]
     },
     "metadata": {},
     "output_type": "display_data"
    }
   ],
   "source": [
    "plt.hist(D[0][dali_faiss_idcs], bins=100, alpha=0.5, label='DALI hits', color='blue')\n",
    "plt.hist(D[0], bins=100, alpha=0.5, label='All hits', color='red')\n",
    "plt.legend()\n",
    "plt.xlabel('Distance')\n",
    "plt.ylabel('Frequency')\n",
    "plt.title('protein-vec distance distribution of DALI hits vs all hits')"
   ]
  },
  {
   "cell_type": "code",
   "execution_count": 97,
   "metadata": {},
   "outputs": [
    {
     "ename": "KeyboardInterrupt",
     "evalue": "",
     "output_type": "error",
     "traceback": [
      "\u001b[0;31m---------------------------------------------------------------------------\u001b[0m",
      "\u001b[0;31mKeyboardInterrupt\u001b[0m                         Traceback (most recent call last)",
      "\u001b[0;32m/tmp/ipykernel_3023751/4294173262.py\u001b[0m in \u001b[0;36m<module>\u001b[0;34m\u001b[0m\n\u001b[1;32m      1\u001b[0m \u001b[0;31m# index into afdb metadata with dali_test['target']\u001b[0m\u001b[0;34m\u001b[0m\u001b[0;34m\u001b[0m\u001b[0;34m\u001b[0m\u001b[0m\n\u001b[0;32m----> 2\u001b[0;31m \u001b[0mmetadata_test_target\u001b[0m \u001b[0;34m=\u001b[0m \u001b[0;34m[\u001b[0m\u001b[0mafdb_metadata\u001b[0m\u001b[0;34m.\u001b[0m\u001b[0mindex\u001b[0m\u001b[0;34m(\u001b[0m\u001b[0mx\u001b[0m\u001b[0;34m)\u001b[0m \u001b[0;32mfor\u001b[0m \u001b[0mx\u001b[0m \u001b[0;32min\u001b[0m \u001b[0mdali_test\u001b[0m\u001b[0;34m[\u001b[0m\u001b[0;34m'target'\u001b[0m\u001b[0;34m]\u001b[0m\u001b[0;34m]\u001b[0m\u001b[0;34m\u001b[0m\u001b[0;34m\u001b[0m\u001b[0m\n\u001b[0m",
      "\u001b[0;32m/tmp/ipykernel_3023751/4294173262.py\u001b[0m in \u001b[0;36m<listcomp>\u001b[0;34m(.0)\u001b[0m\n\u001b[1;32m      1\u001b[0m \u001b[0;31m# index into afdb metadata with dali_test['target']\u001b[0m\u001b[0;34m\u001b[0m\u001b[0;34m\u001b[0m\u001b[0;34m\u001b[0m\u001b[0m\n\u001b[0;32m----> 2\u001b[0;31m \u001b[0mmetadata_test_target\u001b[0m \u001b[0;34m=\u001b[0m \u001b[0;34m[\u001b[0m\u001b[0mafdb_metadata\u001b[0m\u001b[0;34m.\u001b[0m\u001b[0mindex\u001b[0m\u001b[0;34m(\u001b[0m\u001b[0mx\u001b[0m\u001b[0;34m)\u001b[0m \u001b[0;32mfor\u001b[0m \u001b[0mx\u001b[0m \u001b[0;32min\u001b[0m \u001b[0mdali_test\u001b[0m\u001b[0;34m[\u001b[0m\u001b[0;34m'target'\u001b[0m\u001b[0;34m]\u001b[0m\u001b[0;34m]\u001b[0m\u001b[0;34m\u001b[0m\u001b[0;34m\u001b[0m\u001b[0m\n\u001b[0m",
      "\u001b[0;31mKeyboardInterrupt\u001b[0m: "
     ]
    }
   ],
   "source": [
    "# index into afdb metadata with dali_test['target']\n",
    "metadata_test_target = [afdb_metadata.index(x) for x in dali_test['target']]"
   ]
  },
  {
   "cell_type": "code",
   "execution_count": 64,
   "metadata": {},
   "outputs": [
    {
     "data": {
      "text/plain": [
       "1107878"
      ]
     },
     "execution_count": 64,
     "metadata": {},
     "output_type": "execute_result"
    }
   ],
   "source": [
    "afdb_metadata.index(dali_test['target'][0])"
   ]
  },
  {
   "cell_type": "code",
   "execution_count": null,
   "metadata": {},
   "outputs": [],
   "source": []
  }
 ],
 "metadata": {
  "kernelspec": {
   "display_name": "protein-vec",
   "language": "python",
   "name": "python3"
  },
  "language_info": {
   "codemirror_mode": {
    "name": "ipython",
    "version": 3
   },
   "file_extension": ".py",
   "mimetype": "text/x-python",
   "name": "python",
   "nbconvert_exporter": "python",
   "pygments_lexer": "ipython3",
   "version": "3.7.16"
  }
 },
 "nbformat": 4,
 "nbformat_minor": 2
}

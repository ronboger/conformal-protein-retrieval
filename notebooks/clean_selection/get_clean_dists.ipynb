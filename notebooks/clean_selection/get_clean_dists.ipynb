{
 "cells": [
  {
   "cell_type": "code",
   "execution_count": 1,
   "metadata": {},
   "outputs": [
    {
     "name": "stderr",
     "output_type": "stream",
     "text": [
      "/home/seyonec/.conda/envs/clean/lib/python3.10/site-packages/tqdm/auto.py:22: TqdmWarning: IProgress not found. Please update jupyter and ipywidgets. See https://ipywidgets.readthedocs.io/en/stable/user_install.html\n",
      "  from .autonotebook import tqdm as notebook_tqdm\n"
     ]
    },
    {
     "name": "stdout",
     "output_type": "stream",
     "text": [
      "The embedding sizes for train and test: torch.Size([241025, 128]) torch.Size([392, 128])\n"
     ]
    },
    {
     "name": "stderr",
     "output_type": "stream",
     "text": [
      "100%|██████████| 5242/5242 [00:00<00:00, 27790.19it/s]\n"
     ]
    },
    {
     "name": "stdout",
     "output_type": "stream",
     "text": [
      "Calculating eval distance map, between 392 test ids and 5242 train EC cluster centers\n"
     ]
    },
    {
     "name": "stderr",
     "output_type": "stream",
     "text": [
      "392it [00:00, 1002.13it/s]\n",
      "100%|██████████| 5242/5242 [00:00<00:00, 38467.94it/s]\n",
      "20000it [00:15, 1292.98it/s]\n",
      "100%|██████████| 392/392 [00:09<00:00, 43.54it/s]\n"
     ]
    },
    {
     "name": "stdout",
     "output_type": "stream",
     "text": [
      "############ EC calling results using random chosen 20k samples ############\n",
      "---------------------------------------------------------------------------\n",
      ">>> total samples: 392 | total ec: 177 \n",
      ">>> precision: 0.558 | recall: 0.477| F1: 0.482 | AUC: 0.737 \n",
      "---------------------------------------------------------------------------\n"
     ]
    }
   ],
   "source": [
    "from CLEAN.infer import infer_pvalue\n",
    "\n",
    "test_data = \"new\"\n",
    "train_data = \"split100\"\n",
    "infer_pvalue(train_data, test_data, p_value=1e-5, nk_random=20, report_metrics=True, pretrained=True)"
   ]
  },
  {
   "cell_type": "code",
   "execution_count": 2,
   "metadata": {},
   "outputs": [],
   "source": [
    "## Similar code to the selection methods, except we just want to extract the raw euclidean distance maps for any pair of train and test data\n",
    "import torch\n",
    "from CLEAN.utils import * \n",
    "from CLEAN.model import LayerNormNet\n",
    "from CLEAN.distance_map import *\n",
    "from CLEAN.evaluate import *\n",
    "import pandas as pd\n",
    "import warnings\n",
    "\n",
    "def get_eval_dist_map(train_data, test_data, pretrained=True, model_name=None):\n",
    "    use_cuda = torch.cuda.is_available()\n",
    "    device = torch.device(\"cuda:0\" if use_cuda else \"cpu\")\n",
    "    dtype = torch.float32\n",
    "    id_ec_train, ec_id_dict_train = get_ec_id_dict('./data/' + train_data + '.csv')\n",
    "    id_ec_test, _ = get_ec_id_dict('./data/' + test_data + '.csv')\n",
    "    # load checkpoints\n",
    "    # NOTE: change this to LayerNormNet(512, 256, device, dtype) \n",
    "    # and rebuild with [python build.py install]\n",
    "    # if inferencing on model trained with supconH loss\n",
    "    model = LayerNormNet(512, 128, device, dtype)\n",
    "    \n",
    "    if pretrained:\n",
    "        try:\n",
    "            checkpoint = torch.load('./data/pretrained/'+ train_data +'.pth', map_location=device)\n",
    "        except FileNotFoundError as error:\n",
    "            raise Exception('No pretrained weights for this training data')\n",
    "    else:\n",
    "        try:\n",
    "            checkpoint = torch.load('./data/model/'+ model_name +'.pth', map_location=device)\n",
    "        except FileNotFoundError as error:\n",
    "            raise Exception('No model found!')\n",
    "        \n",
    "    model.load_state_dict(checkpoint)\n",
    "    model.eval()\n",
    "    # load precomputed EC cluster center embeddings if possible\n",
    "    if train_data == \"split70\":\n",
    "        emb_train = torch.load('./data/pretrained/70.pt', map_location=device)\n",
    "    elif train_data == \"split100\":\n",
    "        emb_train = torch.load('./data/pretrained/100.pt', map_location=device)\n",
    "    else:\n",
    "        emb_train = model(esm_embedding(ec_id_dict_train, device, dtype))\n",
    "        \n",
    "    emb_test = model_embedding_test(id_ec_test, model, device, dtype)\n",
    "    eval_dist = get_dist_map_test(emb_train, emb_test, ec_id_dict_train, id_ec_test, device, dtype)\n",
    "    seed_everything()\n",
    "\n",
    "    return eval_dist"
   ]
  },
  {
   "cell_type": "code",
   "execution_count": 3,
   "metadata": {},
   "outputs": [
    {
     "name": "stdout",
     "output_type": "stream",
     "text": [
      "The embedding sizes for train and test: torch.Size([241025, 128]) torch.Size([392, 128])\n"
     ]
    },
    {
     "name": "stderr",
     "output_type": "stream",
     "text": [
      "100%|██████████| 5242/5242 [00:00<00:00, 29275.38it/s]\n"
     ]
    },
    {
     "name": "stdout",
     "output_type": "stream",
     "text": [
      "Calculating eval distance map, between 392 test ids and 5242 train EC cluster centers\n"
     ]
    },
    {
     "name": "stderr",
     "output_type": "stream",
     "text": [
      "392it [00:00, 1219.90it/s]\n"
     ]
    }
   ],
   "source": [
    "eval_dist = get_eval_dist_map(train_data, test_data, pretrained=True)\n",
    "\n",
    "true_label, all_label = get_true_labels('./data/' + test_data)\n"
   ]
  },
  {
   "cell_type": "code",
   "execution_count": null,
   "metadata": {},
   "outputs": [],
   "source": [
    "# get keys of dict as list\n",
    "test_ids = list(eval_dist.keys())\n",
    "\n",
    "# each key in the dictionary is a dictionary, and we want to sort the sub-dictionary based on the values of the keys ascending\n",
    "sorted_dict = {key: dict(sorted(eval_dist[key].items(), key=lambda item: item[1])) for key in eval_dist}\n"
   ]
  },
  {
   "cell_type": "code",
   "execution_count": null,
   "metadata": {},
   "outputs": [],
   "source": [
    "## Create two numpy arrays, one for the keys and one for the values, of size (len(test_ids), # of keys in the sub-dictionary)\n",
    "## Go through each key in sorted_dict,\n",
    "## For each key, go through each key in the sub-dictionary and get the key value pair\n",
    "## Append the key to the keys array and the value to the values array\n",
    "import numpy as np\n",
    "\n",
    "## init 2d np arrays with 0's\n",
    "\n",
    "## np array of EC_ids (strings)\n",
    "#EC_ids = np.zeros((len(test_ids), len(sorted_dict[test_ids[0]]))\n",
    "dists = np.zeros((len(test_ids), len(sorted_dict[test_ids[0]])))\n",
    "for i, key in enumerate(sorted_dict):\n",
    "    j = 0\n",
    "    for k, v in sorted_dict[key].items():\n",
    "        dists[i][j] = v\n",
    "        j += 1\n"
   ]
  },
  {
   "cell_type": "code",
   "execution_count": null,
   "metadata": {},
   "outputs": [],
   "source": [
    "import numpy as np\n",
    "# find first index where element dists[0] is not ascedning\n",
    "def find_non_ascending_row(arr):\n",
    "    for i in range(arr.shape[0]):\n",
    "        if not np.all(np.diff(arr[i]) >= 0):\n",
    "            return i\n",
    "    return -1  # Return -1 if all rows are ascending\n",
    "\n",
    "# Example usage\n",
    "non_ascending_row_index = find_non_ascending_row(dists)\n",
    "print(non_ascending_row_index)\n"
   ]
  },
  {
   "cell_type": "code",
   "execution_count": null,
   "metadata": {},
   "outputs": [],
   "source": [
    "# save sorted_dict\n",
    "import pickle\n",
    "with open('/home/seyonec/protein-conformal/clean_selection/sorted_dict.pkl', 'wb') as f:\n",
    "    pickle.dump(sorted_dict, f)\n",
    "\n",
    "# save dists\n",
    "with open('/home/seyonec/protein-conformal/clean_selection/dists.pkl', 'wb') as f:\n",
    "    pickle.dump(dists, f)\n",
    "\n",
    "# dump true labels\n",
    "with open('/home/seyonec/protein-conformal/clean_selection/true_labels.pkl', 'wb') as f:\n",
    "    pickle.dump(true_label, f)"
   ]
  },
  {
   "cell_type": "markdown",
   "metadata": {},
   "source": [
    "## get distance maps for Price"
   ]
  },
  {
   "cell_type": "code",
   "execution_count": 1,
   "metadata": {},
   "outputs": [
    {
     "name": "stderr",
     "output_type": "stream",
     "text": [
      "/home/seyonec/.conda/envs/clean/lib/python3.10/site-packages/tqdm/auto.py:22: TqdmWarning: IProgress not found. Please update jupyter and ipywidgets. See https://ipywidgets.readthedocs.io/en/stable/user_install.html\n",
      "  from .autonotebook import tqdm as notebook_tqdm\n"
     ]
    },
    {
     "name": "stdout",
     "output_type": "stream",
     "text": [
      "The embedding sizes for train and test: torch.Size([241025, 128]) torch.Size([149, 128])\n"
     ]
    },
    {
     "name": "stderr",
     "output_type": "stream",
     "text": [
      "100%|██████████| 5242/5242 [00:11<00:00, 438.04it/s]\n"
     ]
    },
    {
     "name": "stdout",
     "output_type": "stream",
     "text": [
      "Calculating eval distance map, between 149 test ids and 5242 train EC cluster centers\n"
     ]
    },
    {
     "name": "stderr",
     "output_type": "stream",
     "text": [
      "149it [00:00, 419.62it/s]\n",
      "100%|██████████| 5242/5242 [00:11<00:00, 437.35it/s]\n",
      "20000it [00:47, 421.44it/s]\n",
      "100%|██████████| 149/149 [00:02<00:00, 52.90it/s]\n"
     ]
    },
    {
     "name": "stdout",
     "output_type": "stream",
     "text": [
      "############ EC calling results using random chosen 20k samples ############\n",
      "---------------------------------------------------------------------------\n",
      ">>> total samples: 149 | total ec: 56 \n",
      ">>> precision: 0.593 | recall: 0.447| F1: 0.478 | AUC: 0.723 \n",
      "---------------------------------------------------------------------------\n"
     ]
    }
   ],
   "source": [
    "from CLEAN.infer import infer_pvalue\n",
    "\n",
    "test_data = \"price\"\n",
    "train_data = \"split100\"\n",
    "infer_pvalue(train_data, test_data, p_value=1e-5, nk_random=20, report_metrics=True, pretrained=True)"
   ]
  },
  {
   "cell_type": "code",
   "execution_count": 4,
   "metadata": {},
   "outputs": [
    {
     "name": "stdout",
     "output_type": "stream",
     "text": [
      "The embedding sizes for train and test: torch.Size([241025, 128]) torch.Size([149, 128])\n"
     ]
    },
    {
     "name": "stderr",
     "output_type": "stream",
     "text": [
      " 51%|█████     | 2651/5242 [00:05<00:05, 476.70it/s]"
     ]
    }
   ],
   "source": [
    "from CLEAN.distance_map import *\n",
    "from CLEAN.evaluate import *\n",
    "train_data = \"split100\"\n",
    "\n",
    "price_eval_dist = get_eval_dist_map(train_data, \"price\", pretrained=True)\n",
    "price_eval_df = pd.DataFrame.from_dict(price_eval_dist)\n",
    "price_eval_np = price_eval_df.values\n",
    "\n",
    "new_eval_dist = get_eval_dist_map(train_data, \"new\", pretrained=True)\n",
    "new_eval_df = pd.DataFrame.from_dict(new_eval_dist)\n",
    "new_eval_np = new_eval_df.values\n",
    "\n"
   ]
  },
  {
   "cell_type": "code",
   "execution_count": 9,
   "metadata": {},
   "outputs": [
    {
     "data": {
      "image/png": "[encoded data removed]",
      "text/plain": [
       "<Figure size 640x480 with 1 Axes>"
      ]
     },
     "metadata": {},
     "output_type": "display_data"
    },
    {
     "data": {
      "text/plain": [
       "<Figure size 640x480 with 0 Axes>"
      ]
     },
     "metadata": {},
     "output_type": "display_data"
    }
   ],
   "source": [
    "## flatten distances from 2d numpy array into 1d and visualize histogram of scores\n",
    "import matplotlib.pyplot as plt\n",
    "plt.hist(price_eval_np.flatten(), bins=200, alpha=0.5, label='price', color = \"blue\")\n",
    "plt.hist(new_eval_np.flatten(), bins=200, alpha=0.5, label='new', color = \"red\")\n",
    "plt.xlabel('Euclidean Distance')\n",
    "plt.ylabel('Frequency')\n",
    "# plot dashed lines for price, new mean siilarity\n",
    "plt.axvline(price_eval_np.mean(), color='blue', linestyle='dashed', linewidth=1)\n",
    "plt.axvline(new_eval_np.mean(), color='red', linestyle='dashed', linewidth=1)\n",
    "plt.legend()\n",
    "plt.savefig(\"CLEAN_new_price_similarity_histogram.pdf\")\n",
    "plt.show()"
   ]
  },
  {
   "cell_type": "code",
   "execution_count": 16,
   "metadata": {},
   "outputs": [
    {
     "name": "stdout",
     "output_type": "stream",
     "text": [
      "Price eval median: 16.022476\n",
      "New eval median: 15.660578\n",
      "Price eval min: 2.056845\n",
      "New eval min: 0.5889817\n",
      "Price eval max: 25.48286\n",
      "New eval max: 25.598625\n",
      "Price eval mean: 16.05319\n",
      "New eval mean: 15.680931\n"
     ]
    }
   ],
   "source": [
    "## print out medians, min, max, mean of both flatten arrays\n",
    "print(\"Price eval median:\", np.median(price_eval_np))\n",
    "print(\"New eval median:\", np.median(new_eval_np))\n",
    "print(\"Price eval min:\", np.min(price_eval_np))\n",
    "print(\"New eval min:\", np.min(new_eval_np))\n",
    "print(\"Price eval max:\", np.max(price_eval_np))\n",
    "print(\"New eval max:\", np.max(new_eval_np))\n",
    "print(\"Price eval mean:\", np.mean(price_eval_np))\n",
    "print(\"New eval mean:\", np.mean(new_eval_np))\n"
   ]
  },
  {
   "cell_type": "code",
   "execution_count": 4,
   "metadata": {},
   "outputs": [],
   "source": [
    "from CLEAN.infer import infer_pvalue\n",
    "\n",
    "test_data = \"price\"\n",
    "train_data = \"split100\"\n"
   ]
  },
  {
   "cell_type": "code",
   "execution_count": 5,
   "metadata": {},
   "outputs": [
    {
     "name": "stdout",
     "output_type": "stream",
     "text": [
      "The embedding sizes for train and test: torch.Size([241025, 128]) torch.Size([149, 128])\n"
     ]
    },
    {
     "name": "stderr",
     "output_type": "stream",
     "text": [
      "100%|██████████| 5242/5242 [00:00<00:00, 40647.32it/s]\n"
     ]
    },
    {
     "name": "stdout",
     "output_type": "stream",
     "text": [
      "Calculating eval distance map, between 149 test ids and 5242 train EC cluster centers\n"
     ]
    },
    {
     "name": "stderr",
     "output_type": "stream",
     "text": [
      "149it [00:00, 1462.89it/s]\n"
     ]
    }
   ],
   "source": [
    "eval_dist = get_eval_dist_map(train_data, test_data, pretrained=True)\n",
    "\n",
    "true_label, all_label = get_true_labels('./data/' + test_data)\n"
   ]
  },
  {
   "cell_type": "code",
   "execution_count": 6,
   "metadata": {},
   "outputs": [],
   "source": [
    "# get keys of dict as list\n",
    "test_ids = list(eval_dist.keys())\n",
    "\n",
    "# each key in the dictionary is a dictionary, and we want to sort the sub-dictionary based on the values of the keys ascending\n",
    "sorted_dict = {key: dict(sorted(eval_dist[key].items(), key=lambda item: item[1])) for key in eval_dist}\n"
   ]
  },
  {
   "cell_type": "code",
   "execution_count": 7,
   "metadata": {},
   "outputs": [
    {
     "name": "stdout",
     "output_type": "stream",
     "text": [
      "-1\n"
     ]
    }
   ],
   "source": [
    "## Create two numpy arrays, one for the keys and one for the values, of size (len(test_ids), # of keys in the sub-dictionary)\n",
    "## Go through each key in sorted_dict,\n",
    "## For each key, go through each key in the sub-dictionary and get the key value pair\n",
    "## Append the key to the keys array and the value to the values array\n",
    "import numpy as np\n",
    "\n",
    "## init 2d np arrays with 0's\n",
    "\n",
    "## np array of EC_ids (strings)\n",
    "#EC_ids = np.zeros((len(test_ids), len(sorted_dict[test_ids[0]]))\n",
    "dists = np.zeros((len(test_ids), len(sorted_dict[test_ids[0]])))\n",
    "for i, key in enumerate(sorted_dict):\n",
    "    j = 0\n",
    "    for k, v in sorted_dict[key].items():\n",
    "        dists[i][j] = v\n",
    "        j += 1\n",
    "\n",
    "\n",
    "import numpy as np\n",
    "# find first index where element dists[0] is not ascedning\n",
    "def find_non_ascending_row(arr):\n",
    "    for i in range(arr.shape[0]):\n",
    "        if not np.all(np.diff(arr[i]) >= 0):\n",
    "            return i\n",
    "    return -1  # Return -1 if all rows are ascending\n",
    "\n",
    "# Example usage\n",
    "non_ascending_row_index = find_non_ascending_row(dists)\n",
    "print(non_ascending_row_index)\n"
   ]
  },
  {
   "cell_type": "code",
   "execution_count": 8,
   "metadata": {},
   "outputs": [],
   "source": [
    "# save sorted_dict\n",
    "import pickle\n",
    "with open('/home/seyonec/protein-conformal/clean_selection/price_sorted_dict.pkl', 'wb') as f:\n",
    "    pickle.dump(sorted_dict, f)\n",
    "\n",
    "# save dists\n",
    "with open('/home/seyonec/protein-conformal/clean_selection/price_dists.pkl', 'wb') as f:\n",
    "    pickle.dump(dists, f)\n",
    "\n",
    "# dump true labels\n",
    "with open('/home/seyonec/protein-conformal/clean_selection/price_true_labels.pkl', 'wb') as f:\n",
    "    pickle.dump(true_label, f)"
   ]
  },
  {
   "cell_type": "markdown",
   "metadata": {},
   "source": [
    "## Get distance maps, etc for ESM-1B"
   ]
  },
  {
   "cell_type": "code",
   "execution_count": 2,
   "metadata": {},
   "outputs": [
    {
     "name": "stderr",
     "output_type": "stream",
     "text": [
      "/home/seyonec/.conda/envs/clean/lib/python3.10/site-packages/tqdm/auto.py:22: TqdmWarning: IProgress not found. Please update jupyter and ipywidgets. See https://ipywidgets.readthedocs.io/en/stable/user_install.html\n",
      "  from .autonotebook import tqdm as notebook_tqdm\n"
     ]
    }
   ],
   "source": [
    "from CLEAN.utils import ensure_dirs, get_ec_id_dict, format_esm\n",
    "from CLEAN.distance_map import get_dist_map_test\n",
    "import torch\n",
    "import pickle\n",
    "\n",
    "def load_esm(lookup):\n",
    "    esm = format_esm(torch.load('/data/seyonec/CLEAN/app/data/esm_data/' + lookup + '.pt'))\n",
    "    return esm.unsqueeze(0)\n",
    "\n",
    "def esm_embedding(ec_id_dict, device, dtype):\n",
    "    '''\n",
    "    Loading esm embedding in the sequence of EC numbers\n",
    "    prepare for calculating cluster center by EC\n",
    "    '''\n",
    "    esm_emb = []\n",
    "    # for ec in tqdm(list(ec_id_dict.keys())):\n",
    "    for ec in list(ec_id_dict.keys()):\n",
    "        ids_for_query = list(ec_id_dict[ec])\n",
    "        esm_to_cat = [load_esm(id) for id in ids_for_query]\n",
    "        esm_emb = esm_emb + esm_to_cat\n",
    "    return torch.cat(esm_emb).to(device=device, dtype=dtype)\n",
    "\n",
    "def esm_embedding_test(id_ec_test, device, dtype):\n",
    "    '''\n",
    "    Instead of loading esm embedding in the sequence of EC numbers\n",
    "    the test embedding is loaded in the sequence of queries\n",
    "    then inferenced with model to get model embedding\n",
    "    '''\n",
    "    ids_for_query = list(id_ec_test.keys())\n",
    "    esm_to_cat = [load_esm(id) for id in ids_for_query]\n",
    "    esm_emb = torch.cat(esm_to_cat).to(device=device, dtype=dtype)\n",
    "    #model_emb = model(esm_emb)\n",
    "    return esm_emb\n",
    "\n",
    "\n",
    "def compute_esm_distance(train_file, test_file):\n",
    "    ensure_dirs('./data/distance_map/')\n",
    "    _, ec_id_dict_train = get_ec_id_dict('./data/' + train_file + '.csv')\n",
    "    id_ec_test, _ = get_ec_id_dict('./data/' + test_file + '.csv')\n",
    "    use_cuda = torch.cuda.is_available()\n",
    "    device = torch.device(\"cuda:0\" if use_cuda else \"cpu\")\n",
    "    dtype = torch.float32\n",
    "    esm_emb_train = esm_embedding(ec_id_dict_train, device, dtype)\n",
    "    esm_emb_test = esm_embedding_test(id_ec_test, device, dtype)\n",
    "    eval_dist = get_dist_map_test(esm_emb_train, esm_emb_test, ec_id_dict_train, id_ec_test, device, dtype)\n",
    "\n",
    "    pickle.dump(eval_dist, open('./data/distance_map/' + test_file + \"_\" + train_file + '.pkl', 'wb'))\n",
    "    #pickle.dump(esm_emb_train, open('./data/distance_map/' + train_file + '_esm.pkl', 'wb'))\n",
    "    #pickle.dump(esm_emb_test, open('./data/distance_map/' + test_file + '_esm.pkl', 'wb'))\n",
    "\n"
   ]
  },
  {
   "cell_type": "code",
   "execution_count": 15,
   "metadata": {},
   "outputs": [
    {
     "name": "stdout",
     "output_type": "stream",
     "text": [
      "The embedding sizes for train and test: torch.Size([241025, 1280]) torch.Size([149, 1280])\n"
     ]
    },
    {
     "name": "stderr",
     "output_type": "stream",
     "text": [
      "100%|██████████| 5242/5242 [00:00<00:00, 40786.74it/s]\n"
     ]
    },
    {
     "name": "stdout",
     "output_type": "stream",
     "text": [
      "Calculating eval distance map, between 149 test ids and 5242 train EC cluster centers\n"
     ]
    },
    {
     "name": "stderr",
     "output_type": "stream",
     "text": [
      "149it [00:00, 1260.33it/s]\n"
     ]
    }
   ],
   "source": [
    "compute_esm_distance(\"split100\", \"price\")"
   ]
  },
  {
   "cell_type": "code",
   "execution_count": 16,
   "metadata": {},
   "outputs": [
    {
     "name": "stdout",
     "output_type": "stream",
     "text": [
      "The embedding sizes for train and test: torch.Size([241025, 1280]) torch.Size([392, 1280])\n"
     ]
    },
    {
     "name": "stderr",
     "output_type": "stream",
     "text": [
      "100%|██████████| 5242/5242 [00:00<00:00, 40062.21it/s]\n"
     ]
    },
    {
     "name": "stdout",
     "output_type": "stream",
     "text": [
      "Calculating eval distance map, between 392 test ids and 5242 train EC cluster centers\n"
     ]
    },
    {
     "name": "stderr",
     "output_type": "stream",
     "text": [
      "392it [00:00, 1253.27it/s]\n"
     ]
    }
   ],
   "source": [
    "compute_esm_distance(\"split100\", \"new\")"
   ]
  },
  {
   "cell_type": "code",
   "execution_count": 17,
   "metadata": {},
   "outputs": [],
   "source": [
    "esm_price_dists = pickle.load(open('./data/distance_map/price_split100.pkl', 'rb'))\n"
   ]
  },
  {
   "cell_type": "code",
   "execution_count": 5,
   "metadata": {},
   "outputs": [
    {
     "name": "stderr",
     "output_type": "stream",
     "text": [
      "/home/seyonec/.conda/envs/clean/lib/python3.10/site-packages/tqdm/auto.py:22: TqdmWarning: IProgress not found. Please update jupyter and ipywidgets. See https://ipywidgets.readthedocs.io/en/stable/user_install.html\n",
      "  from .autonotebook import tqdm as notebook_tqdm\n"
     ]
    }
   ],
   "source": [
    "from CLEAN.evaluate import get_true_labels\n",
    "\n",
    "def get_sorted_dict(test_file, dict_dists):\n",
    "    import numpy as np\n",
    "    true_label, all_label = get_true_labels('./data/' + test_file)\n",
    "    # get keys of dict as list\n",
    "    test_ids = list(dict_dists.keys())\n",
    "\n",
    "    # each key in the dictionary is a dictionary, and we want to sort the sub-dictionary based on the values of the keys ascending\n",
    "    sorted_dict = {key: dict(sorted(dict_dists[key].items(), key=lambda item: item[1])) for key in dict_dists}\n",
    "\n",
    "    ## Create two numpy arrays, one for the keys and one for the values, of size (len(test_ids), # of keys in the sub-dictionary)\n",
    "    ## Go through each key in sorted_dict,\n",
    "    ## For each key, go through each key in the sub-dictionary and get the key value pair\n",
    "    ## Append the key to the keys array and the value to the values array\n",
    "\n",
    "    ## init 2d np arrays with 0's\n",
    "\n",
    "    ## np array of EC_ids (strings)\n",
    "    #EC_ids = np.zeros((len(test_ids), len(sorted_dict[test_ids[0]]))\n",
    "    dists = np.zeros((len(test_ids), len(sorted_dict[test_ids[0]])))\n",
    "    for i, key in enumerate(sorted_dict):\n",
    "        j = 0\n",
    "        for k, v in sorted_dict[key].items():\n",
    "            dists[i][j] = v\n",
    "            j += 1\n",
    "\n",
    "\n",
    "    import numpy as np\n",
    "    # find first index where element dists[0] is not ascedning\n",
    "    def find_non_ascending_row(arr):\n",
    "        for i in range(arr.shape[0]):\n",
    "            if not np.all(np.diff(arr[i]) >= 0):\n",
    "                return i\n",
    "        return -1  # Return -1 if all rows are ascending\n",
    "\n",
    "    # Example usage\n",
    "    non_ascending_row_index = find_non_ascending_row(dists)\n",
    "    print(non_ascending_row_index)\n",
    "\n",
    "    return sorted_dict, dists, true_label\n"
   ]
  },
  {
   "cell_type": "code",
   "execution_count": 35,
   "metadata": {},
   "outputs": [
    {
     "name": "stdout",
     "output_type": "stream",
     "text": [
      "-1\n"
     ]
    }
   ],
   "source": [
    "sorted_dict_price, dists_price, true_label_price = get_sorted_dict(\"price\", esm_price_dists)"
   ]
  },
  {
   "cell_type": "code",
   "execution_count": 36,
   "metadata": {},
   "outputs": [
    {
     "name": "stdout",
     "output_type": "stream",
     "text": [
      "-1\n"
     ]
    }
   ],
   "source": [
    "esm_new_dists = pickle.load(open('./data/distance_map/new_split100.pkl', 'rb'))\n",
    "\n",
    "sorted_dict_new, dists_new, true_label_new = get_sorted_dict(\"new\", esm_new_dists)"
   ]
  },
  {
   "cell_type": "code",
   "execution_count": 37,
   "metadata": {},
   "outputs": [],
   "source": [
    "import pickle\n",
    "with open('/home/seyonec/protein-conformal/clean_selection/esm_price_sorted_dict.pkl', 'wb') as f:\n",
    "    pickle.dump(sorted_dict_price, f)\n",
    "\n",
    "# save dists\n",
    "with open('/home/seyonec/protein-conformal/clean_selection/esm_price_dists.pkl', 'wb') as f:\n",
    "    pickle.dump(dists_price, f)\n",
    "\n",
    "# dump true labels\n",
    "with open('/home/seyonec/protein-conformal/clean_selection/esm_price_true_labels.pkl', 'wb') as f:\n",
    "    pickle.dump(true_label_price, f)\n",
    "\n",
    "with open('/home/seyonec/protein-conformal/clean_selection/esm_new_sorted_dict.pkl', 'wb') as f:\n",
    "    pickle.dump(sorted_dict_new, f)\n",
    "\n",
    "# save dists\n",
    "with open('/home/seyonec/protein-conformal/clean_selection/esm_new_dists.pkl', 'wb') as f:\n",
    "    pickle.dump(dists_new, f)\n",
    "\n",
    "# dump true labels\n",
    "with open('/home/seyonec/protein-conformal/clean_selection/esm_new_true_labels.pkl', 'wb') as f:\n",
    "    pickle.dump(true_label_new, f)"
   ]
  },
  {
   "cell_type": "code",
   "execution_count": null,
   "metadata": {},
   "outputs": [],
   "source": [
    "get_sorted_dict(\"new\", esm_new_dists)"
   ]
  },
  {
   "cell_type": "markdown",
   "metadata": {},
   "source": [
    "## generate a train sequences vs train EC cluster centers distance map"
   ]
  },
  {
   "cell_type": "code",
   "execution_count": 13,
   "metadata": {},
   "outputs": [
    {
     "name": "stdout",
     "output_type": "stream",
     "text": [
      "The embedding sizes for train and test: torch.Size([241025, 1280]) torch.Size([227362, 1280])\n"
     ]
    },
    {
     "name": "stderr",
     "output_type": "stream",
     "text": [
      "100%|██████████| 5242/5242 [00:00<00:00, 40584.14it/s]\n"
     ]
    },
    {
     "name": "stdout",
     "output_type": "stream",
     "text": [
      "Calculating eval distance map, between 227362 test ids and 5242 train EC cluster centers\n"
     ]
    },
    {
     "name": "stderr",
     "output_type": "stream",
     "text": [
      "227362it [03:10, 1194.41it/s]\n"
     ]
    }
   ],
   "source": [
    "compute_esm_distance(\"split100\", \"split100\")"
   ]
  },
  {
   "cell_type": "code",
   "execution_count": 4,
   "metadata": {},
   "outputs": [],
   "source": [
    "id_ec_test, _ = get_ec_id_dict('./data/' + \"split100\" + '.csv')\n"
   ]
  },
  {
   "cell_type": "code",
   "execution_count": 9,
   "metadata": {},
   "outputs": [
    {
     "data": {
      "text/plain": [
       "227362"
      ]
     },
     "execution_count": 9,
     "metadata": {},
     "output_type": "execute_result"
    }
   ],
   "source": [
    "len(id_ec_test.keys())"
   ]
  },
  {
   "cell_type": "code",
   "execution_count": 2,
   "metadata": {},
   "outputs": [],
   "source": [
    "import pickle as pkl\n",
    "\n",
    "with open('/home/seyonec/protein-conformal/clean_selection/data/distance_map/split100_split100.pkl', 'rb') as f:\n",
    "    esm_dists_split100 = pkl.load(f)\n"
   ]
  },
  {
   "cell_type": "code",
   "execution_count": 3,
   "metadata": {},
   "outputs": [],
   "source": [
    "# convert keys of dict to list\n",
    "test_ids = list(esm_dists_split100.keys())\n"
   ]
  },
  {
   "cell_type": "code",
   "execution_count": 7,
   "metadata": {},
   "outputs": [],
   "source": [
    "sorted_dict_split, dists_split, true_label_split = get_sorted_dict(\"split100\", esm_dists_split100)"
   ]
  },
  {
   "cell_type": "code",
   "execution_count": null,
   "metadata": {},
   "outputs": [],
   "source": [
    "with open('/home/seyonec/protein-conformal/clean_selection/esm_split100_sorted_dict.pkl', 'wb') as f:\n",
    "    pkl.dump(sorted_dict_split, f)\n"
   ]
  },
  {
   "cell_type": "code",
   "execution_count": null,
   "metadata": {},
   "outputs": [],
   "source": [
    "# save dists\n",
    "with open('/home/seyonec/protein-conformal/clean_selection/esm_split100_dists.pkl', 'wb') as f:\n",
    "    pkl.dump(dists_split, f)\n",
    "\n"
   ]
  },
  {
   "cell_type": "code",
   "execution_count": null,
   "metadata": {},
   "outputs": [],
   "source": [
    "# dump true labels\n",
    "with open('/home/seyonec/protein-conformal/clean_selection/esm_split100_true_labels.pkl', 'wb') as f:\n",
    "    pkl.dump(true_label_split, f)\n",
    "\n"
   ]
  },
  {
   "cell_type": "code",
   "execution_count": null,
   "metadata": {},
   "outputs": [],
   "source": []
  }
 ],
 "metadata": {
  "kernelspec": {
   "display_name": "clean",
   "language": "python",
   "name": "python3"
  },
  "language_info": {
   "codemirror_mode": {
    "name": "ipython",
    "version": 3
   },
   "file_extension": ".py",
   "mimetype": "text/x-python",
   "name": "python",
   "nbconvert_exporter": "python",
   "pygments_lexer": "ipython3",
   "version": "3.10.4"
  }
 },
 "nbformat": 4,
 "nbformat_minor": 2
}

{
 "cells": [
  {
   "cell_type": "code",
   "execution_count": null,
   "metadata": {},
   "outputs": [],
   "source": [
    "# GOAL: Analyze newly discovered proteins by comparing them to existing proteins\n",
    "# using Pfam domain annotations and protein embeddings for similarity search\n",
    "\n",
    "# This notebook:\n",
    "# 1. Loads new proteins (discovered after 2022) and existing protein database\n",
    "# 2. Filters proteins that have Pfam domain annotations\n",
    "# 3. Uses AI embeddings to find similar proteins based on sequence\n",
    "# 4. Creates data for conformal prediction analysis\n",
    "\n",
    "import matplotlib.pyplot as plt\n",
    "import seaborn as sns\n",
    "import numpy as np\n",
    "import pandas as pd\n",
    "import os\n",
    "from protein_conformal.util import load_database, query"
   ]
  },
  {
   "cell_type": "code",
   "execution_count": null,
   "metadata": {},
   "outputs": [],
   "source": [
    "## STEP 1: Load and filter NEW proteins (query set)\n",
    "# Load UniProt database - contains all reviewed proteins with their annotations\n",
    "filename = 'uniprotkb_AND_reviewed_true_2023_07_03.tsv'\n",
    "\n",
    "# Try different locations to find the file\n",
    "if os.path.exists(filename):\n",
    "    data_path = filename\n",
    "elif os.path.exists(os.path.join('..', 'data', filename)):\n",
    "    data_path = os.path.join('..', 'data', filename)\n",
    "elif os.path.exists(os.path.join('data', filename)):\n",
    "    data_path = os.path.join('data', filename)\n",
    "else:\n",
    "    raise FileNotFoundError(f\"Cannot find {filename}\")\n",
    "\n",
    "meta_data_new = pd.read_csv(data_path, sep='\\t')\n",
    "\n",
    "# Filter for recently discovered proteins (after May 2022)\n",
    "# These are our \"query\" proteins - we want to analyze them\n",
    "new_proteins = meta_data_new[meta_data_new['Date of creation'] > '2022-05-25'].reset_index(drop=True)\n",
    "\n",
    "# Only keep proteins with reasonable sequence length (≤2000 amino acids)\n",
    "# Very long proteins are harder to analyze and might be incomplete\n",
    "new_proteins['length'] = new_proteins['Sequence'].str.len()\n",
    "new_proteins = new_proteins[new_proteins['length'] <= 2000].reset_index(drop=True)"
   ]
  },
  {
   "cell_type": "code",
   "execution_count": 4,
   "metadata": {},
   "outputs": [
    {
     "data": {
      "text/plain": [
       "'2023-06-28'"
      ]
     },
     "execution_count": 4,
     "metadata": {},
     "output_type": "execute_result"
    }
   ],
   "source": [
    "max(new_proteins['Date of creation'])"
   ]
  },
  {
   "cell_type": "code",
   "execution_count": 5,
   "metadata": {},
   "outputs": [
    {
     "data": {
      "text/plain": [
       "(569793, 16)"
      ]
     },
     "execution_count": 5,
     "metadata": {},
     "output_type": "execute_result"
    }
   ],
   "source": [
    "meta_data_new.shape"
   ]
  },
  {
   "cell_type": "code",
   "execution_count": null,
   "metadata": {},
   "outputs": [],
   "source": [
    "## STEP 2: Load REFERENCE proteins (lookup database)\n",
    "# Load the existing proteins we'll compare against\n",
    "# This is our reference database of known proteins with embeddings\n",
    "filename = 'lookup_embeddings_meta_data.tsv'\n",
    "\n",
    "if os.path.exists(filename):\n",
    "    data_path = filename\n",
    "elif os.path.exists(os.path.join('..', 'data', filename)):\n",
    "    data_path = os.path.join('..', 'data', filename)\n",
    "elif os.path.exists(os.path.join('data', filename)):\n",
    "    data_path = os.path.join('data', filename)\n",
    "else:\n",
    "    raise FileNotFoundError(f\"Cannot find {filename}\")\n",
    "\n",
    "# Load reference proteins (should be ~540k proteins)\n",
    "lookup_proteins_meta = pd.read_csv(data_path, sep=\"\\t\")"
   ]
  },
  {
   "cell_type": "code",
   "execution_count": null,
   "metadata": {},
   "outputs": [
    {
     "data": {
      "text/plain": [
       "0"
      ]
     },
     "execution_count": 7,
     "metadata": {},
     "output_type": "execute_result"
    }
   ],
   "source": [
    "# Verify that new and reference proteins don't overlap\n",
    "# Should be 0 - meaning our new proteins aren't already in the reference database\n",
    "# This ensures we're testing on truly \"unseen\" proteins\n",
    "new_proteins['Entry'].isin(lookup_proteins_meta['Entry']).sum()"
   ]
  },
  {
   "cell_type": "code",
   "execution_count": null,
   "metadata": {},
   "outputs": [],
   "source": [
    "## STEP 3: Load AI embeddings for reference proteins  \n",
    "# Embeddings are vector representations of protein sequences\n",
    "# Each protein becomes a 512-dimensional vector that captures its features\n",
    "filename = 'lookup_embeddings.npy'\n",
    "\n",
    "if os.path.exists(filename):\n",
    "    data_path = filename\n",
    "elif os.path.exists(os.path.join('..', 'data', filename)):\n",
    "    data_path = os.path.join('..', 'data', filename)\n",
    "elif os.path.exists(os.path.join('data', filename)):\n",
    "    data_path = os.path.join('data', filename)\n",
    "else:\n",
    "    raise FileNotFoundError(f\"Cannot find {filename}\")\n",
    "\n",
    "# Load embeddings for reference proteins (should be 540k x 512)\n",
    "lookup_embeddings = np.load(data_path)"
   ]
  },
  {
   "cell_type": "code",
   "execution_count": 9,
   "metadata": {},
   "outputs": [
    {
     "name": "stdout",
     "output_type": "stream",
     "text": [
      "(540560, 512) (540560, 17)\n"
     ]
    }
   ],
   "source": [
    "print(lookup_embeddings.shape, lookup_proteins_meta.shape)"
   ]
  },
  {
   "cell_type": "code",
   "execution_count": null,
   "metadata": {},
   "outputs": [],
   "source": [
    "# Load embeddings for NEW proteins (our query set)\n",
    "# These match the new proteins we loaded earlier\n",
    "filename = 'new_protein_embeddings.npy'\n",
    "\n",
    "if os.path.exists(filename):\n",
    "    data_path = filename\n",
    "elif os.path.exists(os.path.join('..', 'data', filename)):\n",
    "    data_path = os.path.join('..', 'data', filename)\n",
    "elif os.path.exists(os.path.join('data', filename)):\n",
    "    data_path = os.path.join('data', filename)\n",
    "else:\n",
    "    raise FileNotFoundError(f\"Cannot find {filename}\")\n",
    "\n",
    "# Load query embeddings (should be ~2295 x 512)\n",
    "query_embeddings = np.load(data_path)"
   ]
  },
  {
   "cell_type": "code",
   "execution_count": 11,
   "metadata": {},
   "outputs": [
    {
     "name": "stdout",
     "output_type": "stream",
     "text": [
      "(2295, 512) (2295, 17)\n"
     ]
    }
   ],
   "source": [
    "# verify that the embeddings are the same size\n",
    "print(query_embeddings.shape, new_proteins.shape)"
   ]
  },
  {
   "cell_type": "code",
   "execution_count": null,
   "metadata": {},
   "outputs": [],
   "source": [
    "## STEP 4: Focus on Pfam domain analysis\n",
    "# Pfam domains are protein functional units - like building blocks\n",
    "# By filtering for proteins with Pfam annotations, we ensure both:\n",
    "# 1. Query and reference proteins have known functional domains\n",
    "# 2. We can compare proteins based on functional similarity\n",
    "column = 'Pfam'"
   ]
  },
  {
   "cell_type": "code",
   "execution_count": null,
   "metadata": {},
   "outputs": [],
   "source": [
    "# Filter REFERENCE proteins: only keep those with Pfam annotations\n",
    "# This creates our filtered reference database for comparison\n",
    "col_proteins_meta = lookup_proteins_meta[~lookup_proteins_meta[column].isnull()]\n",
    "col_embeddings = lookup_embeddings[col_proteins_meta.index]  # Get matching embeddings\n",
    "# Reset index to avoid confusion (0, 1, 2, 3... instead of original indices)\n",
    "col_proteins_meta = col_proteins_meta.reset_index(drop=True)"
   ]
  },
  {
   "cell_type": "code",
   "execution_count": null,
   "metadata": {},
   "outputs": [],
   "source": [
    "# Filter QUERY proteins: only keep new proteins that also have Pfam annotations\n",
    "# This ensures fair comparison - both query and reference have functional annotations\n",
    "new_proteins_meta = new_proteins[~new_proteins[column].isnull()]\n",
    "new_proteins_embeddings = query_embeddings[new_proteins_meta.index]  # Get matching embeddings\n",
    "# Reset index to keep things organized\n",
    "new_proteins_meta = new_proteins_meta.reset_index(drop=True)"
   ]
  },
  {
   "cell_type": "code",
   "execution_count": 15,
   "metadata": {},
   "outputs": [
    {
     "data": {
      "text/html": [
       "<div>\n",
       "<style scoped>\n",
       "    .dataframe tbody tr th:only-of-type {\n",
       "        vertical-align: middle;\n",
       "    }\n",
       "\n",
       "    .dataframe tbody tr th {\n",
       "        vertical-align: top;\n",
       "    }\n",
       "\n",
       "    .dataframe thead th {\n",
       "        text-align: right;\n",
       "    }\n",
       "</style>\n",
       "<table border=\"1\" class=\"dataframe\">\n",
       "  <thead>\n",
       "    <tr style=\"text-align: right;\">\n",
       "      <th></th>\n",
       "      <th>Entry</th>\n",
       "      <th>Reviewed</th>\n",
       "      <th>Entry Name</th>\n",
       "      <th>Protein names</th>\n",
       "      <th>Gene Names</th>\n",
       "      <th>Organism</th>\n",
       "      <th>Length</th>\n",
       "      <th>Gene Ontology (biological process)</th>\n",
       "      <th>Gene Ontology (cellular component)</th>\n",
       "      <th>Gene Ontology (molecular function)</th>\n",
       "      <th>Gene Ontology (GO)</th>\n",
       "      <th>EC number</th>\n",
       "      <th>Sequence</th>\n",
       "      <th>Date of creation</th>\n",
       "      <th>Gene3D</th>\n",
       "      <th>Pfam</th>\n",
       "      <th>length</th>\n",
       "    </tr>\n",
       "  </thead>\n",
       "  <tbody>\n",
       "    <tr>\n",
       "      <th>0</th>\n",
       "      <td>A0A023I7E1</td>\n",
       "      <td>reviewed</td>\n",
       "      <td>ENG1_RHIMI</td>\n",
       "      <td>Glucan endo-1,3-beta-D-glucosidase 1 (Endo-1,3...</td>\n",
       "      <td>ENG1 LAM81A</td>\n",
       "      <td>Rhizomucor miehei</td>\n",
       "      <td>796</td>\n",
       "      <td>cell wall organization [GO:0071555]; polysacch...</td>\n",
       "      <td>extracellular region [GO:0005576]</td>\n",
       "      <td>glucan endo-1,3-beta-D-glucosidase activity [G...</td>\n",
       "      <td>extracellular region [GO:0005576]; glucan endo...</td>\n",
       "      <td>3.2.1.39</td>\n",
       "      <td>MRFQVIVAAATITMITSYIPGVASQSTSDGDDLFVPVSNFDPKSIF...</td>\n",
       "      <td>2022-12-14</td>\n",
       "      <td>1.10.287.1170;1.20.5.420;</td>\n",
       "      <td>PF17652;PF03639;</td>\n",
       "      <td>796</td>\n",
       "    </tr>\n",
       "    <tr>\n",
       "      <th>1</th>\n",
       "      <td>A0A061AE05</td>\n",
       "      <td>reviewed</td>\n",
       "      <td>PAPSH_CAEEL</td>\n",
       "      <td>Bifunctional 3'-phosphoadenosine 5'-phosphosul...</td>\n",
       "      <td>pps-1 T14G10.1</td>\n",
       "      <td>Caenorhabditis elegans</td>\n",
       "      <td>654</td>\n",
       "      <td>3'-phosphoadenosine 5'-phosphosulfate biosynth...</td>\n",
       "      <td>nucleus [GO:0005634]</td>\n",
       "      <td>adenylylsulfate kinase activity [GO:0004020]; ...</td>\n",
       "      <td>nucleus [GO:0005634]; adenylylsulfate kinase a...</td>\n",
       "      <td>2.7.1.25; 2.7.7.4</td>\n",
       "      <td>MLTPRDENNEGDAMPMLKKPRYSSLSGQSTNITYQEHTISREERAA...</td>\n",
       "      <td>2023-02-22</td>\n",
       "      <td>3.40.50.620;3.40.50.300;3.10.400.10;</td>\n",
       "      <td>PF01583;PF01747;PF14306;</td>\n",
       "      <td>654</td>\n",
       "    </tr>\n",
       "    <tr>\n",
       "      <th>2</th>\n",
       "      <td>A0A072VDF2</td>\n",
       "      <td>reviewed</td>\n",
       "      <td>CCR1_MEDTR</td>\n",
       "      <td>Cinnamoyl-CoA reductase 1 (Mt-CCR1) (EC 1.2.1....</td>\n",
       "      <td>CCR1 MTR_2g104960 MtrunA17_Chr2g0333781</td>\n",
       "      <td>Medicago truncatula (Barrel medic) (Medicago t...</td>\n",
       "      <td>342</td>\n",
       "      <td>lignin biosynthetic process [GO:0009809]; phen...</td>\n",
       "      <td>cytoplasm [GO:0005737]</td>\n",
       "      <td>cinnamoyl-CoA reductase activity [GO:0016621];...</td>\n",
       "      <td>cytoplasm [GO:0005737]; cinnamoyl-CoA reductas...</td>\n",
       "      <td>1.2.1.-; 1.2.1.44</td>\n",
       "      <td>MPAATAAAAAESSSVSGETICVTGAGGFIASWMVKLLLEKGYTVRG...</td>\n",
       "      <td>2023-02-22</td>\n",
       "      <td>3.40.50.720;</td>\n",
       "      <td>PF01370;</td>\n",
       "      <td>342</td>\n",
       "    </tr>\n",
       "    <tr>\n",
       "      <th>3</th>\n",
       "      <td>A0A076FFM5</td>\n",
       "      <td>reviewed</td>\n",
       "      <td>F8H1_OCIBA</td>\n",
       "      <td>Flavonoid 8-hydroxylase 1, chloroplastic (ObF8...</td>\n",
       "      <td>F8H-1</td>\n",
       "      <td>Ocimum basilicum (Sweet basil)</td>\n",
       "      <td>523</td>\n",
       "      <td>flavonoid metabolic process [GO:0009812]</td>\n",
       "      <td>chloroplast [GO:0009507]; chloroplast membrane...</td>\n",
       "      <td>2 iron, 2 sulfur cluster binding [GO:0051537];...</td>\n",
       "      <td>chloroplast [GO:0009507]; chloroplast membrane...</td>\n",
       "      <td>1.14.15.-</td>\n",
       "      <td>MPFPMEVLQASSLSFPLLRRHSRNNLINKFRNPTLPRIDIPRQNID...</td>\n",
       "      <td>2022-12-14</td>\n",
       "      <td>2.102.10.10;</td>\n",
       "      <td>PF08417;PF00355;</td>\n",
       "      <td>523</td>\n",
       "    </tr>\n",
       "    <tr>\n",
       "      <th>4</th>\n",
       "      <td>A0A0B4U9L8</td>\n",
       "      <td>reviewed</td>\n",
       "      <td>VMF1_VIPAA</td>\n",
       "      <td>Zinc metalloproteinase-disintegrin-like protei...</td>\n",
       "      <td>NaN</td>\n",
       "      <td>Vipera ammodytes ammodytes (Western sand viper)</td>\n",
       "      <td>614</td>\n",
       "      <td>envenomation resulting in modulation of blood ...</td>\n",
       "      <td>extracellular region [GO:0005576]; extraorgani...</td>\n",
       "      <td>metalloendopeptidase activity [GO:0004222]; me...</td>\n",
       "      <td>extracellular region [GO:0005576]; extraorgani...</td>\n",
       "      <td>3.4.24.-</td>\n",
       "      <td>MLQVLLVTICLAVFPYQGSSIILESGNVNDYEVVYPQKLTALLKGA...</td>\n",
       "      <td>2023-02-22</td>\n",
       "      <td>3.40.390.10;4.10.70.10;</td>\n",
       "      <td>PF08516;PF00200;PF01562;PF01421;</td>\n",
       "      <td>614</td>\n",
       "    </tr>\n",
       "  </tbody>\n",
       "</table>\n",
       "</div>"
      ],
      "text/plain": [
       "        Entry  Reviewed   Entry Name  \\\n",
       "0  A0A023I7E1  reviewed   ENG1_RHIMI   \n",
       "1  A0A061AE05  reviewed  PAPSH_CAEEL   \n",
       "2  A0A072VDF2  reviewed   CCR1_MEDTR   \n",
       "3  A0A076FFM5  reviewed   F8H1_OCIBA   \n",
       "4  A0A0B4U9L8  reviewed   VMF1_VIPAA   \n",
       "\n",
       "                                       Protein names  \\\n",
       "0  Glucan endo-1,3-beta-D-glucosidase 1 (Endo-1,3...   \n",
       "1  Bifunctional 3'-phosphoadenosine 5'-phosphosul...   \n",
       "2  Cinnamoyl-CoA reductase 1 (Mt-CCR1) (EC 1.2.1....   \n",
       "3  Flavonoid 8-hydroxylase 1, chloroplastic (ObF8...   \n",
       "4  Zinc metalloproteinase-disintegrin-like protei...   \n",
       "\n",
       "                                Gene Names  \\\n",
       "0                              ENG1 LAM81A   \n",
       "1                           pps-1 T14G10.1   \n",
       "2  CCR1 MTR_2g104960 MtrunA17_Chr2g0333781   \n",
       "3                                    F8H-1   \n",
       "4                                      NaN   \n",
       "\n",
       "                                            Organism  Length  \\\n",
       "0                                  Rhizomucor miehei     796   \n",
       "1                             Caenorhabditis elegans     654   \n",
       "2  Medicago truncatula (Barrel medic) (Medicago t...     342   \n",
       "3                     Ocimum basilicum (Sweet basil)     523   \n",
       "4    Vipera ammodytes ammodytes (Western sand viper)     614   \n",
       "\n",
       "                  Gene Ontology (biological process)  \\\n",
       "0  cell wall organization [GO:0071555]; polysacch...   \n",
       "1  3'-phosphoadenosine 5'-phosphosulfate biosynth...   \n",
       "2  lignin biosynthetic process [GO:0009809]; phen...   \n",
       "3           flavonoid metabolic process [GO:0009812]   \n",
       "4  envenomation resulting in modulation of blood ...   \n",
       "\n",
       "                  Gene Ontology (cellular component)  \\\n",
       "0                  extracellular region [GO:0005576]   \n",
       "1                               nucleus [GO:0005634]   \n",
       "2                             cytoplasm [GO:0005737]   \n",
       "3  chloroplast [GO:0009507]; chloroplast membrane...   \n",
       "4  extracellular region [GO:0005576]; extraorgani...   \n",
       "\n",
       "                  Gene Ontology (molecular function)  \\\n",
       "0  glucan endo-1,3-beta-D-glucosidase activity [G...   \n",
       "1  adenylylsulfate kinase activity [GO:0004020]; ...   \n",
       "2  cinnamoyl-CoA reductase activity [GO:0016621];...   \n",
       "3  2 iron, 2 sulfur cluster binding [GO:0051537];...   \n",
       "4  metalloendopeptidase activity [GO:0004222]; me...   \n",
       "\n",
       "                                  Gene Ontology (GO)          EC number  \\\n",
       "0  extracellular region [GO:0005576]; glucan endo...           3.2.1.39   \n",
       "1  nucleus [GO:0005634]; adenylylsulfate kinase a...  2.7.1.25; 2.7.7.4   \n",
       "2  cytoplasm [GO:0005737]; cinnamoyl-CoA reductas...  1.2.1.-; 1.2.1.44   \n",
       "3  chloroplast [GO:0009507]; chloroplast membrane...          1.14.15.-   \n",
       "4  extracellular region [GO:0005576]; extraorgani...           3.4.24.-   \n",
       "\n",
       "                                            Sequence Date of creation  \\\n",
       "0  MRFQVIVAAATITMITSYIPGVASQSTSDGDDLFVPVSNFDPKSIF...       2022-12-14   \n",
       "1  MLTPRDENNEGDAMPMLKKPRYSSLSGQSTNITYQEHTISREERAA...       2023-02-22   \n",
       "2  MPAATAAAAAESSSVSGETICVTGAGGFIASWMVKLLLEKGYTVRG...       2023-02-22   \n",
       "3  MPFPMEVLQASSLSFPLLRRHSRNNLINKFRNPTLPRIDIPRQNID...       2022-12-14   \n",
       "4  MLQVLLVTICLAVFPYQGSSIILESGNVNDYEVVYPQKLTALLKGA...       2023-02-22   \n",
       "\n",
       "                                 Gene3D                              Pfam  \\\n",
       "0             1.10.287.1170;1.20.5.420;                  PF17652;PF03639;   \n",
       "1  3.40.50.620;3.40.50.300;3.10.400.10;          PF01583;PF01747;PF14306;   \n",
       "2                          3.40.50.720;                          PF01370;   \n",
       "3                          2.102.10.10;                  PF08417;PF00355;   \n",
       "4               3.40.390.10;4.10.70.10;  PF08516;PF00200;PF01562;PF01421;   \n",
       "\n",
       "   length  \n",
       "0     796  \n",
       "1     654  \n",
       "2     342  \n",
       "3     523  \n",
       "4     614  "
      ]
     },
     "execution_count": 15,
     "metadata": {},
     "output_type": "execute_result"
    }
   ],
   "source": [
    "new_proteins_meta.head()"
   ]
  },
  {
   "cell_type": "code",
   "execution_count": 16,
   "metadata": {},
   "outputs": [
    {
     "data": {
      "text/plain": [
       "1864"
      ]
     },
     "execution_count": 16,
     "metadata": {},
     "output_type": "execute_result"
    }
   ],
   "source": [
    "len(new_proteins_meta)"
   ]
  },
  {
   "cell_type": "code",
   "execution_count": 17,
   "metadata": {},
   "outputs": [],
   "source": [
    "after = new_proteins_meta['Date of creation'] > '2022-12-14'"
   ]
  },
  {
   "cell_type": "code",
   "execution_count": 18,
   "metadata": {},
   "outputs": [],
   "source": [
    "filename = 'new_proteins_after_cutoff.npy'\n",
    "\n",
    "if os.path.exists(filename):\n",
    "    data_path = filename\n",
    "elif os.path.exists(os.path.join('..', 'data', filename)):\n",
    "    data_path = os.path.join('..', 'data', filename)\n",
    "elif os.path.exists(os.path.join('data', filename)):\n",
    "    data_path = os.path.join('data', filename)\n",
    "else:\n",
    "    raise FileNotFoundError(f\"Cannot find {filename}\")\n",
    "\n",
    "np.save(data_path, after)"
   ]
  },
  {
   "cell_type": "code",
   "execution_count": 19,
   "metadata": {},
   "outputs": [
    {
     "data": {
      "text/plain": [
       "870"
      ]
     },
     "execution_count": 19,
     "metadata": {},
     "output_type": "execute_result"
    }
   ],
   "source": [
    "sum(new_proteins_meta['Date of creation'] > '2022-12-14')"
   ]
  },
  {
   "cell_type": "code",
   "execution_count": null,
   "metadata": {},
   "outputs": [],
   "source": [
    "## STEP 5: Similarity Search using AI embeddings\n",
    "# Build FAISS database for fast similarity search\n",
    "# FAISS = Facebook AI Similarity Search (super fast for large datasets)\n",
    "lookup_database = load_database(col_embeddings)\n",
    "\n",
    "# Find the k most similar proteins for each new protein\n",
    "# k = how many similar proteins to find for each query\n",
    "# Using smaller k for testing to avoid memory issues\n",
    "k = min(10000, col_embeddings.shape[0])   # Start with 10k for testing\n",
    "\n",
    "# D = similarity distances, I = indices of most similar proteins\n",
    "D, I = query(lookup_database, new_proteins_embeddings, k)"
   ]
  },
  {
   "cell_type": "code",
   "execution_count": 21,
   "metadata": {},
   "outputs": [
    {
     "name": "stdout",
     "output_type": "stream",
     "text": [
      "lookup_proteins_meta shape: (540560, 17)\n",
      "lookup_proteins_meta columns: ['Unnamed: 0', 'Entry', 'Reviewed', 'Entry Name', 'Protein names', 'Gene Names', 'Organism', 'Length', 'Gene Ontology (biological process)', 'Gene Ontology (cellular component)', 'Gene Ontology (molecular function)', 'Gene Ontology (GO)', 'EC number', 'Sequence', 'Date of creation', 'Gene3D', 'Pfam']\n",
      "\n",
      "Pfam column info:\n",
      "- Pfam column exists: True\n",
      "- Non-null Pfam entries: 517951\n",
      "- Total entries: 540560\n",
      "\n",
      "Sample Pfam entries:\n",
      "['PF13676;', 'PF01266;', 'PF19429;', 'PF19429;', 'PF19429;']\n",
      "\n",
      "Data types:\n",
      "Unnamed: 0                             int64\n",
      "Entry                                 object\n",
      "Reviewed                              object\n",
      "Entry Name                            object\n",
      "Protein names                         object\n",
      "Gene Names                            object\n",
      "Organism                              object\n",
      "Length                                 int64\n",
      "Gene Ontology (biological process)    object\n",
      "Gene Ontology (cellular component)    object\n",
      "Gene Ontology (molecular function)    object\n",
      "Gene Ontology (GO)                    object\n",
      "EC number                             object\n",
      "Sequence                              object\n",
      "Date of creation                      object\n",
      "Gene3D                                object\n",
      "Pfam                                  object\n",
      "dtype: object\n"
     ]
    }
   ],
   "source": [
    "# 1. Check the shape and columns of your lookup database\n",
    "print(\"lookup_proteins_meta shape:\", lookup_proteins_meta.shape)\n",
    "print(\"lookup_proteins_meta columns:\", lookup_proteins_meta.columns.tolist())\n",
    "\n",
    "# 2. Check if Pfam data exists at all\n",
    "print(\"\\nPfam column info:\")\n",
    "print(\"- Pfam column exists:\", 'Pfam' in lookup_proteins_meta.columns)\n",
    "print(\"- Non-null Pfam entries:\", lookup_proteins_meta['Pfam'].notna().sum())\n",
    "print(\"- Total entries:\", len(lookup_proteins_meta))\n",
    "\n",
    "# 3. Look at sample Pfam data\n",
    "print(\"\\nSample Pfam entries:\")\n",
    "pfam_samples = lookup_proteins_meta['Pfam'].dropna().head(5)\n",
    "print(pfam_samples.tolist())\n",
    "\n",
    "# 4. Check data types\n",
    "print(\"\\nData types:\")\n",
    "print(lookup_proteins_meta.dtypes)"
   ]
  },
  {
   "cell_type": "markdown",
   "metadata": {},
   "source": [
    "## Check for exchangability"
   ]
  },
  {
   "cell_type": "code",
   "execution_count": 22,
   "metadata": {},
   "outputs": [],
   "source": [
    "new_proteins_tmp = new_proteins.sort_values('Date of creation', ascending=False).reset_index(drop=True)"
   ]
  },
  {
   "cell_type": "code",
   "execution_count": 23,
   "metadata": {},
   "outputs": [
    {
     "data": {
      "text/plain": [
       "2295"
      ]
     },
     "execution_count": 23,
     "metadata": {},
     "output_type": "execute_result"
    }
   ],
   "source": [
    "len(new_proteins_tmp)"
   ]
  },
  {
   "cell_type": "code",
   "execution_count": 24,
   "metadata": {},
   "outputs": [
    {
     "data": {
      "text/plain": [
       "Entry                                                                            Q6AYL0\n",
       "Reviewed                                                                       reviewed\n",
       "Entry Name                                                                      TPC_RAT\n",
       "Protein names                         Mitochondrial thiamine pyrophosphate carrier (...\n",
       "Gene Names                                                        Slc25a19 LOC100910173\n",
       "Organism                                                        Rattus norvegicus (Rat)\n",
       "Length                                                                              318\n",
       "Gene Ontology (biological process)    thiamine pyrophosphate transmembrane transport...\n",
       "Gene Ontology (cellular component)    mitochondrial membrane [GO:0031966]; mitochond...\n",
       "Gene Ontology (molecular function)    antiporter activity [GO:0015297]; thiamine pyr...\n",
       "Gene Ontology (GO)                    mitochondrial membrane [GO:0031966]; mitochond...\n",
       "EC number                                                                           NaN\n",
       "Sequence                              MVGYDAKADARSNSKLEVAVAGSVSGFVTRALISPLDVIKIRFQLQ...\n",
       "Date of creation                                                             2022-12-14\n",
       "Gene3D                                                                      1.50.40.10;\n",
       "Pfam                                                                           PF00153;\n",
       "length                                                                              318\n",
       "Name: 1148, dtype: object"
      ]
     },
     "execution_count": 24,
     "metadata": {},
     "output_type": "execute_result"
    }
   ],
   "source": [
    "new_proteins_tmp.iloc[int(np.ceil(len(new_proteins_tmp)/2))]"
   ]
  },
  {
   "cell_type": "code",
   "execution_count": 25,
   "metadata": {},
   "outputs": [],
   "source": [
    "from matplotlib import rcParams\n"
   ]
  },
  {
   "cell_type": "code",
   "execution_count": null,
   "metadata": {},
   "outputs": [
    {
     "data": {
      "text/plain": [
       "[Text(0.999722957611084, 0, '0.99972'),\n",
       " Text(0.9998669624328613, 0, '0.99987'),\n",
       " Text(1.000000238418579, 0, '1.00000')]"
      ]
     },
     "execution_count": 26,
     "metadata": {},
     "output_type": "execute_result"
    }
   ],
   "source": [
    "## STEP 6: Visualize similarity score distribution\n",
    "# Create a histogram showing how similar the proteins are\n",
    "# Higher similarity = closer to 1.0, lower similarity = closer to 0.0\n",
    "\n",
    "# Set up the plot style\n",
    "sns.set_theme(style=\"white\")\n",
    "fig, ax = plt.subplots(figsize=(3.5, 2.5))\n",
    "\n",
    "# Set font and size for publication quality\n",
    "rcParams['font.family'] = 'sans-serif'\n",
    "rcParams['font.sans-serif'] = ['Arial']\n",
    "rcParams['font.size'] = 14\n",
    "\n",
    "# Create probability density weights (so bars add up to 1.0)\n",
    "weights = np.ones_like(D.flatten()) / float(len(D.flatten()))\n",
    "\n",
    "# Create the histogram of all similarity scores\n",
    "ax.hist(D.flatten(), bins=100, weights=weights, color=\"skyblue\")\n",
    "\n",
    "# Label the plot\n",
    "ax.set_xlabel('Similarity Scores', fontsize=14)\n",
    "ax.set_ylabel('Density', fontsize=14)\n",
    "ax.set_title(r'Protein-Vec: Histogram of Similarity Scores $S_{ij}$', fontsize=16)\n",
    "\n",
    "# Clean up the plot appearance\n",
    "sns.despine(left=False, bottom=False)\n",
    "ax.yaxis.grid(False)\n",
    "ax.xaxis.grid(False)\n",
    "\n",
    "# Show only min, median, max on x-axis for clarity\n",
    "min_sim = np.min(D)\n",
    "mid_sim = np.median(D)\n",
    "max_sim = np.max(D)\n",
    "ax.set_xticks([min_sim, mid_sim, max_sim])\n",
    "ax.set_xticklabels([f'{min_sim:.5f}', f'{mid_sim:.5f}', f'{max_sim:.5f}'], fontsize=14)"
   ]
  },
  {
   "cell_type": "code",
   "execution_count": 32,
   "metadata": {},
   "outputs": [],
   "source": [
    "# fig.savefig('/data//protein_vec_histogram.svg', format='svg', dpi=300, bbox_inches='tight')"
   ]
  },
  {
   "cell_type": "code",
   "execution_count": 33,
   "metadata": {},
   "outputs": [],
   "source": [
    "# fig.savefig('/data/ron/protein-conformal/figs/protein_vec_histogram.pdf', format='pdf', dpi=300, bbox_inches='tight')\n",
    "# plt.show()"
   ]
  },
  {
   "cell_type": "code",
   "execution_count": 35,
   "metadata": {},
   "outputs": [],
   "source": [
    "col_meta_data = col_proteins_meta[column].values"
   ]
  },
  {
   "cell_type": "code",
   "execution_count": null,
   "metadata": {},
   "outputs": [],
   "source": [
    "## STEP 7: Create annotation matching analysis\n",
    "# For each new protein, check which similar proteins have matching Pfam domains\n",
    "# This creates the data needed for conformal prediction analysis\n",
    "\n",
    "# Get Pfam annotations for all reference proteins\n",
    "col_meta_data = col_proteins_meta[column].values\n",
    "\n",
    "near_ids = []\n",
    "# Loop through each new protein\n",
    "for i in range(I.shape[0]):\n",
    "    # Get Pfam annotations of the k most similar proteins for this query\n",
    "    meta = col_meta_data[I[i]]\n",
    "    # Get Pfam annotation of the current query protein\n",
    "    meta_query = new_proteins_meta.iloc[i][column]\n",
    "    \n",
    "    # Skip if query protein has no annotation\n",
    "    if meta_query is np.nan:\n",
    "        continue\n",
    "        \n",
    "    # Check for EXACT matches (identical Pfam domain combinations)\n",
    "    mask_exact = [meta_query == meta[k] for k in range(len(meta))]\n",
    "    \n",
    "    # Check for PARTIAL matches (query domains found in similar proteins)\n",
    "    # If protein has multiple domains (separated by ';'), check if any domain matches\n",
    "    if meta_query.count(';') > 1:\n",
    "        available_pfs = meta_query.split(';')\n",
    "        mask_partial = [[available_pfs[j] in meta[k] for j in range(len(available_pfs) - 1)] for k in range(len(meta))]\n",
    "    else:\n",
    "        # Single domain: check if it appears in any similar protein\n",
    "        mask_partial = [meta_query in meta[k] for k in range(len(meta))]\n",
    "    \n",
    "    # Store results for this query protein\n",
    "    near_ids.append({\n",
    "        'meta': meta,                    # Pfam annotations of similar proteins\n",
    "        'meta_query': meta_query,        # Pfam annotation of query protein\n",
    "        'exact': mask_exact,             # Boolean mask for exact matches\n",
    "        'partial': mask_partial,         # Boolean mask for partial matches\n",
    "        'S_i': D[i]                      # Similarity scores to all similar proteins\n",
    "    })   "
   ]
  },
  {
   "cell_type": "code",
   "execution_count": null,
   "metadata": {},
   "outputs": [
    {
     "name": "stdout",
     "output_type": "stream",
     "text": [
      "✅ File saved successfully!\n",
      "File size: 255618739 bytes\n"
     ]
    }
   ],
   "source": [
    "## STEP 8: Save results for conformal prediction analysis\n",
    "# Save the processed data containing:\n",
    "# - Similarity scores between new and reference proteins\n",
    "# - Pfam annotation matches (exact and partial)\n",
    "# - Data ready for conformal prediction calibration\n",
    "\n",
    "np.save('data/pfam_new_proteins.npy', near_ids)\n",
    "\n",
    "# Verify it worked:\n",
    "print(\"✅ File saved successfully!\")\n",
    "print(f\"File size: {os.path.getsize('data/pfam_new_proteins.npy')} bytes\")\n",
    "print(f\"Contains similarity and annotation data for {len(near_ids)} proteins\")"
   ]
  }
 ],
 "metadata": {
  "kernelspec": {
   "display_name": "Python 3 (ipykernel)",
   "language": "python",
   "name": "python3"
  },
  "language_info": {
   "codemirror_mode": {
    "name": "ipython",
    "version": 3
   },
   "file_extension": ".py",
   "mimetype": "text/x-python",
   "name": "python",
   "nbconvert_exporter": "python",
   "pygments_lexer": "ipython3",
   "version": "3.10.18"
  }
 },
 "nbformat": 4,
 "nbformat_minor": 2
}

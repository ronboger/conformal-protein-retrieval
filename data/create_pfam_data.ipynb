{
 "cells": [
  {
   "cell_type": "code",
   "execution_count": 2,
   "metadata": {},
   "outputs": [],
   "source": [
    "import matplotlib.pyplot as plt\n",
    "import seaborn as sns\n",
    "import numpy as np\n",
    "import pandas as pd\n",
    "# from protein_conformal.util import load_database, query"
   ]
  },
  {
   "cell_type": "code",
   "execution_count": 3,
   "metadata": {},
   "outputs": [
    {
     "ename": "FileNotFoundError",
     "evalue": "[Errno 2] No such file or directory: '/groups/doudna/projects/ronb/conformal_backup/protein-vec/src_run/data/uniprotkb_AND_reviewed_true_2023_07_03.tsv'",
     "output_type": "error",
     "traceback": [
      "\u001b[31m---------------------------------------------------------------------------\u001b[39m",
      "\u001b[31mFileNotFoundError\u001b[39m                         Traceback (most recent call last)",
      "\u001b[36mCell\u001b[39m\u001b[36m \u001b[39m\u001b[32mIn[3]\u001b[39m\u001b[32m, line 4\u001b[39m\n\u001b[32m      2\u001b[39m data_path = \u001b[33m'\u001b[39m\u001b[33m/groups/doudna/projects/ronb/conformal_backup/protein-vec/src_run/data/uniprotkb_AND_reviewed_true_2023_07_03.tsv\u001b[39m\u001b[33m'\u001b[39m\n\u001b[32m      3\u001b[39m \u001b[38;5;66;03m# '/data/ron/protein-vec/src_run/data/uniprotkb_AND_reviewed_true_2023_07_03.tsv'\u001b[39;00m\n\u001b[32m----> \u001b[39m\u001b[32m4\u001b[39m meta_data_new = \u001b[43mpd\u001b[49m\u001b[43m.\u001b[49m\u001b[43mread_csv\u001b[49m\u001b[43m(\u001b[49m\u001b[43mdata_path\u001b[49m\u001b[43m,\u001b[49m\u001b[43m \u001b[49m\u001b[43msep\u001b[49m\u001b[43m=\u001b[49m\u001b[33;43m'\u001b[39;49m\u001b[38;5;130;43;01m\\t\u001b[39;49;00m\u001b[33;43m'\u001b[39;49m\u001b[43m)\u001b[49m\n\u001b[32m      5\u001b[39m \u001b[38;5;66;03m#Now filter for the proteins that were newly discovered\u001b[39;00m\n\u001b[32m      6\u001b[39m new_proteins = meta_data_new[meta_data_new[\u001b[33m'\u001b[39m\u001b[33mDate of creation\u001b[39m\u001b[33m'\u001b[39m] > \u001b[33m'\u001b[39m\u001b[33m2022-05-25\u001b[39m\u001b[33m'\u001b[39m].reset_index(drop=\u001b[38;5;28;01mTrue\u001b[39;00m)\n",
      "\u001b[36mFile \u001b[39m\u001b[32mc:\\Users\\zhiwe\\miniconda3\\Lib\\site-packages\\pandas\\io\\parsers\\readers.py:1026\u001b[39m, in \u001b[36mread_csv\u001b[39m\u001b[34m(filepath_or_buffer, sep, delimiter, header, names, index_col, usecols, dtype, engine, converters, true_values, false_values, skipinitialspace, skiprows, skipfooter, nrows, na_values, keep_default_na, na_filter, verbose, skip_blank_lines, parse_dates, infer_datetime_format, keep_date_col, date_parser, date_format, dayfirst, cache_dates, iterator, chunksize, compression, thousands, decimal, lineterminator, quotechar, quoting, doublequote, escapechar, comment, encoding, encoding_errors, dialect, on_bad_lines, delim_whitespace, low_memory, memory_map, float_precision, storage_options, dtype_backend)\u001b[39m\n\u001b[32m   1013\u001b[39m kwds_defaults = _refine_defaults_read(\n\u001b[32m   1014\u001b[39m     dialect,\n\u001b[32m   1015\u001b[39m     delimiter,\n\u001b[32m   (...)\u001b[39m\u001b[32m   1022\u001b[39m     dtype_backend=dtype_backend,\n\u001b[32m   1023\u001b[39m )\n\u001b[32m   1024\u001b[39m kwds.update(kwds_defaults)\n\u001b[32m-> \u001b[39m\u001b[32m1026\u001b[39m \u001b[38;5;28;01mreturn\u001b[39;00m \u001b[43m_read\u001b[49m\u001b[43m(\u001b[49m\u001b[43mfilepath_or_buffer\u001b[49m\u001b[43m,\u001b[49m\u001b[43m \u001b[49m\u001b[43mkwds\u001b[49m\u001b[43m)\u001b[49m\n",
      "\u001b[36mFile \u001b[39m\u001b[32mc:\\Users\\zhiwe\\miniconda3\\Lib\\site-packages\\pandas\\io\\parsers\\readers.py:620\u001b[39m, in \u001b[36m_read\u001b[39m\u001b[34m(filepath_or_buffer, kwds)\u001b[39m\n\u001b[32m    617\u001b[39m _validate_names(kwds.get(\u001b[33m\"\u001b[39m\u001b[33mnames\u001b[39m\u001b[33m\"\u001b[39m, \u001b[38;5;28;01mNone\u001b[39;00m))\n\u001b[32m    619\u001b[39m \u001b[38;5;66;03m# Create the parser.\u001b[39;00m\n\u001b[32m--> \u001b[39m\u001b[32m620\u001b[39m parser = \u001b[43mTextFileReader\u001b[49m\u001b[43m(\u001b[49m\u001b[43mfilepath_or_buffer\u001b[49m\u001b[43m,\u001b[49m\u001b[43m \u001b[49m\u001b[43m*\u001b[49m\u001b[43m*\u001b[49m\u001b[43mkwds\u001b[49m\u001b[43m)\u001b[49m\n\u001b[32m    622\u001b[39m \u001b[38;5;28;01mif\u001b[39;00m chunksize \u001b[38;5;129;01mor\u001b[39;00m iterator:\n\u001b[32m    623\u001b[39m     \u001b[38;5;28;01mreturn\u001b[39;00m parser\n",
      "\u001b[36mFile \u001b[39m\u001b[32mc:\\Users\\zhiwe\\miniconda3\\Lib\\site-packages\\pandas\\io\\parsers\\readers.py:1620\u001b[39m, in \u001b[36mTextFileReader.__init__\u001b[39m\u001b[34m(self, f, engine, **kwds)\u001b[39m\n\u001b[32m   1617\u001b[39m     \u001b[38;5;28mself\u001b[39m.options[\u001b[33m\"\u001b[39m\u001b[33mhas_index_names\u001b[39m\u001b[33m\"\u001b[39m] = kwds[\u001b[33m\"\u001b[39m\u001b[33mhas_index_names\u001b[39m\u001b[33m\"\u001b[39m]\n\u001b[32m   1619\u001b[39m \u001b[38;5;28mself\u001b[39m.handles: IOHandles | \u001b[38;5;28;01mNone\u001b[39;00m = \u001b[38;5;28;01mNone\u001b[39;00m\n\u001b[32m-> \u001b[39m\u001b[32m1620\u001b[39m \u001b[38;5;28mself\u001b[39m._engine = \u001b[38;5;28;43mself\u001b[39;49m\u001b[43m.\u001b[49m\u001b[43m_make_engine\u001b[49m\u001b[43m(\u001b[49m\u001b[43mf\u001b[49m\u001b[43m,\u001b[49m\u001b[43m \u001b[49m\u001b[38;5;28;43mself\u001b[39;49m\u001b[43m.\u001b[49m\u001b[43mengine\u001b[49m\u001b[43m)\u001b[49m\n",
      "\u001b[36mFile \u001b[39m\u001b[32mc:\\Users\\zhiwe\\miniconda3\\Lib\\site-packages\\pandas\\io\\parsers\\readers.py:1880\u001b[39m, in \u001b[36mTextFileReader._make_engine\u001b[39m\u001b[34m(self, f, engine)\u001b[39m\n\u001b[32m   1878\u001b[39m     \u001b[38;5;28;01mif\u001b[39;00m \u001b[33m\"\u001b[39m\u001b[33mb\u001b[39m\u001b[33m\"\u001b[39m \u001b[38;5;129;01mnot\u001b[39;00m \u001b[38;5;129;01min\u001b[39;00m mode:\n\u001b[32m   1879\u001b[39m         mode += \u001b[33m\"\u001b[39m\u001b[33mb\u001b[39m\u001b[33m\"\u001b[39m\n\u001b[32m-> \u001b[39m\u001b[32m1880\u001b[39m \u001b[38;5;28mself\u001b[39m.handles = \u001b[43mget_handle\u001b[49m\u001b[43m(\u001b[49m\n\u001b[32m   1881\u001b[39m \u001b[43m    \u001b[49m\u001b[43mf\u001b[49m\u001b[43m,\u001b[49m\n\u001b[32m   1882\u001b[39m \u001b[43m    \u001b[49m\u001b[43mmode\u001b[49m\u001b[43m,\u001b[49m\n\u001b[32m   1883\u001b[39m \u001b[43m    \u001b[49m\u001b[43mencoding\u001b[49m\u001b[43m=\u001b[49m\u001b[38;5;28;43mself\u001b[39;49m\u001b[43m.\u001b[49m\u001b[43moptions\u001b[49m\u001b[43m.\u001b[49m\u001b[43mget\u001b[49m\u001b[43m(\u001b[49m\u001b[33;43m\"\u001b[39;49m\u001b[33;43mencoding\u001b[39;49m\u001b[33;43m\"\u001b[39;49m\u001b[43m,\u001b[49m\u001b[43m \u001b[49m\u001b[38;5;28;43;01mNone\u001b[39;49;00m\u001b[43m)\u001b[49m\u001b[43m,\u001b[49m\n\u001b[32m   1884\u001b[39m \u001b[43m    \u001b[49m\u001b[43mcompression\u001b[49m\u001b[43m=\u001b[49m\u001b[38;5;28;43mself\u001b[39;49m\u001b[43m.\u001b[49m\u001b[43moptions\u001b[49m\u001b[43m.\u001b[49m\u001b[43mget\u001b[49m\u001b[43m(\u001b[49m\u001b[33;43m\"\u001b[39;49m\u001b[33;43mcompression\u001b[39;49m\u001b[33;43m\"\u001b[39;49m\u001b[43m,\u001b[49m\u001b[43m \u001b[49m\u001b[38;5;28;43;01mNone\u001b[39;49;00m\u001b[43m)\u001b[49m\u001b[43m,\u001b[49m\n\u001b[32m   1885\u001b[39m \u001b[43m    \u001b[49m\u001b[43mmemory_map\u001b[49m\u001b[43m=\u001b[49m\u001b[38;5;28;43mself\u001b[39;49m\u001b[43m.\u001b[49m\u001b[43moptions\u001b[49m\u001b[43m.\u001b[49m\u001b[43mget\u001b[49m\u001b[43m(\u001b[49m\u001b[33;43m\"\u001b[39;49m\u001b[33;43mmemory_map\u001b[39;49m\u001b[33;43m\"\u001b[39;49m\u001b[43m,\u001b[49m\u001b[43m \u001b[49m\u001b[38;5;28;43;01mFalse\u001b[39;49;00m\u001b[43m)\u001b[49m\u001b[43m,\u001b[49m\n\u001b[32m   1886\u001b[39m \u001b[43m    \u001b[49m\u001b[43mis_text\u001b[49m\u001b[43m=\u001b[49m\u001b[43mis_text\u001b[49m\u001b[43m,\u001b[49m\n\u001b[32m   1887\u001b[39m \u001b[43m    \u001b[49m\u001b[43merrors\u001b[49m\u001b[43m=\u001b[49m\u001b[38;5;28;43mself\u001b[39;49m\u001b[43m.\u001b[49m\u001b[43moptions\u001b[49m\u001b[43m.\u001b[49m\u001b[43mget\u001b[49m\u001b[43m(\u001b[49m\u001b[33;43m\"\u001b[39;49m\u001b[33;43mencoding_errors\u001b[39;49m\u001b[33;43m\"\u001b[39;49m\u001b[43m,\u001b[49m\u001b[43m \u001b[49m\u001b[33;43m\"\u001b[39;49m\u001b[33;43mstrict\u001b[39;49m\u001b[33;43m\"\u001b[39;49m\u001b[43m)\u001b[49m\u001b[43m,\u001b[49m\n\u001b[32m   1888\u001b[39m \u001b[43m    \u001b[49m\u001b[43mstorage_options\u001b[49m\u001b[43m=\u001b[49m\u001b[38;5;28;43mself\u001b[39;49m\u001b[43m.\u001b[49m\u001b[43moptions\u001b[49m\u001b[43m.\u001b[49m\u001b[43mget\u001b[49m\u001b[43m(\u001b[49m\u001b[33;43m\"\u001b[39;49m\u001b[33;43mstorage_options\u001b[39;49m\u001b[33;43m\"\u001b[39;49m\u001b[43m,\u001b[49m\u001b[43m \u001b[49m\u001b[38;5;28;43;01mNone\u001b[39;49;00m\u001b[43m)\u001b[49m\u001b[43m,\u001b[49m\n\u001b[32m   1889\u001b[39m \u001b[43m\u001b[49m\u001b[43m)\u001b[49m\n\u001b[32m   1890\u001b[39m \u001b[38;5;28;01massert\u001b[39;00m \u001b[38;5;28mself\u001b[39m.handles \u001b[38;5;129;01mis\u001b[39;00m \u001b[38;5;129;01mnot\u001b[39;00m \u001b[38;5;28;01mNone\u001b[39;00m\n\u001b[32m   1891\u001b[39m f = \u001b[38;5;28mself\u001b[39m.handles.handle\n",
      "\u001b[36mFile \u001b[39m\u001b[32mc:\\Users\\zhiwe\\miniconda3\\Lib\\site-packages\\pandas\\io\\common.py:873\u001b[39m, in \u001b[36mget_handle\u001b[39m\u001b[34m(path_or_buf, mode, encoding, compression, memory_map, is_text, errors, storage_options)\u001b[39m\n\u001b[32m    868\u001b[39m \u001b[38;5;28;01melif\u001b[39;00m \u001b[38;5;28misinstance\u001b[39m(handle, \u001b[38;5;28mstr\u001b[39m):\n\u001b[32m    869\u001b[39m     \u001b[38;5;66;03m# Check whether the filename is to be opened in binary mode.\u001b[39;00m\n\u001b[32m    870\u001b[39m     \u001b[38;5;66;03m# Binary mode does not support 'encoding' and 'newline'.\u001b[39;00m\n\u001b[32m    871\u001b[39m     \u001b[38;5;28;01mif\u001b[39;00m ioargs.encoding \u001b[38;5;129;01mand\u001b[39;00m \u001b[33m\"\u001b[39m\u001b[33mb\u001b[39m\u001b[33m\"\u001b[39m \u001b[38;5;129;01mnot\u001b[39;00m \u001b[38;5;129;01min\u001b[39;00m ioargs.mode:\n\u001b[32m    872\u001b[39m         \u001b[38;5;66;03m# Encoding\u001b[39;00m\n\u001b[32m--> \u001b[39m\u001b[32m873\u001b[39m         handle = \u001b[38;5;28;43mopen\u001b[39;49m\u001b[43m(\u001b[49m\n\u001b[32m    874\u001b[39m \u001b[43m            \u001b[49m\u001b[43mhandle\u001b[49m\u001b[43m,\u001b[49m\n\u001b[32m    875\u001b[39m \u001b[43m            \u001b[49m\u001b[43mioargs\u001b[49m\u001b[43m.\u001b[49m\u001b[43mmode\u001b[49m\u001b[43m,\u001b[49m\n\u001b[32m    876\u001b[39m \u001b[43m            \u001b[49m\u001b[43mencoding\u001b[49m\u001b[43m=\u001b[49m\u001b[43mioargs\u001b[49m\u001b[43m.\u001b[49m\u001b[43mencoding\u001b[49m\u001b[43m,\u001b[49m\n\u001b[32m    877\u001b[39m \u001b[43m            \u001b[49m\u001b[43merrors\u001b[49m\u001b[43m=\u001b[49m\u001b[43merrors\u001b[49m\u001b[43m,\u001b[49m\n\u001b[32m    878\u001b[39m \u001b[43m            \u001b[49m\u001b[43mnewline\u001b[49m\u001b[43m=\u001b[49m\u001b[33;43m\"\u001b[39;49m\u001b[33;43m\"\u001b[39;49m\u001b[43m,\u001b[49m\n\u001b[32m    879\u001b[39m \u001b[43m        \u001b[49m\u001b[43m)\u001b[49m\n\u001b[32m    880\u001b[39m     \u001b[38;5;28;01melse\u001b[39;00m:\n\u001b[32m    881\u001b[39m         \u001b[38;5;66;03m# Binary mode\u001b[39;00m\n\u001b[32m    882\u001b[39m         handle = \u001b[38;5;28mopen\u001b[39m(handle, ioargs.mode)\n",
      "\u001b[31mFileNotFoundError\u001b[39m: [Errno 2] No such file or directory: '/groups/doudna/projects/ronb/conformal_backup/protein-vec/src_run/data/uniprotkb_AND_reviewed_true_2023_07_03.tsv'"
     ]
    }
   ],
   "source": [
    "# Load in uniprot meta data\n",
    "data_path = '/groups/doudna/projects/ronb/conformal_backup/protein-vec/src_run/data/uniprotkb_AND_reviewed_true_2023_07_03.tsv'\n",
    "# '/data/ron/protein-vec/src_run/data/uniprotkb_AND_reviewed_true_2023_07_03.tsv'\n",
    "meta_data_new = pd.read_csv(data_path, sep='\\t')\n",
    "#Now filter for the proteins that were newly discovered\n",
    "new_proteins = meta_data_new[meta_data_new['Date of creation'] > '2022-05-25'].reset_index(drop=True)\n",
    "new_proteins['length'] = new_proteins['Sequence'].str.len()\n",
    "new_proteins = new_proteins[new_proteins['length'] <= 2000].reset_index(drop=True)"
   ]
  },
  {
   "cell_type": "code",
   "execution_count": 10,
   "metadata": {},
   "outputs": [
    {
     "data": {
      "text/plain": [
       "'2023-06-28'"
      ]
     },
     "execution_count": 10,
     "metadata": {},
     "output_type": "execute_result"
    }
   ],
   "source": [
    "max(new_proteins['Date of creation'])"
   ]
  },
  {
   "cell_type": "code",
   "execution_count": 5,
   "metadata": {},
   "outputs": [
    {
     "data": {
      "text/plain": [
       "(569793, 16)"
      ]
     },
     "execution_count": 5,
     "metadata": {},
     "output_type": "execute_result"
    }
   ],
   "source": [
    "meta_data_new.shape"
   ]
  },
  {
   "cell_type": "code",
   "execution_count": 9,
   "metadata": {},
   "outputs": [],
   "source": [
    "data_path = '/groups/doudna/projects/ronb/conformal_backup/protein-vec/src_run/protein_vec_embeddings/lookup_embeddings_meta_data.tsv'\n",
    "lookup_proteins_meta = pd.read_csv(data_path, sep=\"\\t\")"
   ]
  },
  {
   "cell_type": "code",
   "execution_count": 8,
   "metadata": {},
   "outputs": [
    {
     "ename": "NameError",
     "evalue": "name 'lookup_proteins_meta' is not defined",
     "output_type": "error",
     "traceback": [
      "\u001b[0;31m---------------------------------------------------------------------------\u001b[0m",
      "\u001b[0;31mNameError\u001b[0m                                 Traceback (most recent call last)",
      "Cell \u001b[0;32mIn[8], line 2\u001b[0m\n\u001b[1;32m      1\u001b[0m \u001b[38;5;66;03m# verify that none of the new proteins are in the lookup_proteins_meta\u001b[39;00m\n\u001b[0;32m----> 2\u001b[0m new_proteins[\u001b[38;5;124m'\u001b[39m\u001b[38;5;124mEntry\u001b[39m\u001b[38;5;124m'\u001b[39m]\u001b[38;5;241m.\u001b[39misin(\u001b[43mlookup_proteins_meta\u001b[49m[\u001b[38;5;124m'\u001b[39m\u001b[38;5;124mEntry\u001b[39m\u001b[38;5;124m'\u001b[39m])\u001b[38;5;241m.\u001b[39msum()\n",
      "\u001b[0;31mNameError\u001b[0m: name 'lookup_proteins_meta' is not defined"
     ]
    }
   ],
   "source": [
    "# verify that none of the new proteins are in the lookup_proteins_meta\n",
    "new_proteins['Entry'].isin(lookup_proteins_meta['Entry']).sum()"
   ]
  },
  {
   "cell_type": "code",
   "execution_count": 5,
   "metadata": {},
   "outputs": [],
   "source": [
    "lookup_embeddings = np.load('/data/ron/protein-vec/src_run/protein_vec_embeddings/lookup_embeddings.npy')"
   ]
  },
  {
   "cell_type": "code",
   "execution_count": 6,
   "metadata": {},
   "outputs": [
    {
     "name": "stdout",
     "output_type": "stream",
     "text": [
      "(540560, 512) (540560, 17)\n"
     ]
    }
   ],
   "source": [
    "print(lookup_embeddings.shape, lookup_proteins_meta.shape)"
   ]
  },
  {
   "cell_type": "code",
   "execution_count": 7,
   "metadata": {},
   "outputs": [],
   "source": [
    "query_embeddings = np.load('/data/ron/protein-vec/src_run/new_protein_embeddings.npy')"
   ]
  },
  {
   "cell_type": "code",
   "execution_count": 8,
   "metadata": {},
   "outputs": [
    {
     "name": "stdout",
     "output_type": "stream",
     "text": [
      "(2295, 512) (2295, 17)\n"
     ]
    }
   ],
   "source": [
    "# verify that the embeddings are the same size\n",
    "print(query_embeddings.shape, new_proteins.shape)"
   ]
  },
  {
   "cell_type": "code",
   "execution_count": 5,
   "metadata": {},
   "outputs": [],
   "source": [
    "column = 'Pfam'"
   ]
  },
  {
   "cell_type": "code",
   "execution_count": 10,
   "metadata": {},
   "outputs": [],
   "source": [
    "# select proteins and their embeddings only for proteins that have a Pfam domain for lookup_proteins_meta\n",
    "col_proteins_meta = lookup_proteins_meta[~lookup_proteins_meta[column].isnull()]\n",
    "col_embeddings = lookup_embeddings[col_proteins_meta.index]\n",
    "# drop index to avoid confusion\n",
    "col_proteins_meta = col_proteins_meta.reset_index(drop=True)"
   ]
  },
  {
   "cell_type": "code",
   "execution_count": 7,
   "metadata": {},
   "outputs": [
    {
     "ename": "NameError",
     "evalue": "name 'new_proteins_meta' is not defined",
     "output_type": "error",
     "traceback": [
      "\u001b[0;31m---------------------------------------------------------------------------\u001b[0m",
      "\u001b[0;31mNameError\u001b[0m                                 Traceback (most recent call last)",
      "Cell \u001b[0;32mIn[7], line 5\u001b[0m\n\u001b[1;32m      1\u001b[0m \u001b[38;5;66;03m# filter out proteins that don't have a Pfam domain in the new_proteins\u001b[39;00m\n\u001b[1;32m      2\u001b[0m \u001b[38;5;66;03m# new_proteins_meta = new_proteins[~new_proteins[column].isnull()]\u001b[39;00m\n\u001b[1;32m      3\u001b[0m \u001b[38;5;66;03m# new_proteins_embeddings = query_embeddings[new_proteins_meta.index]\u001b[39;00m\n\u001b[1;32m      4\u001b[0m \u001b[38;5;66;03m# drop index to avoid confusion\u001b[39;00m\n\u001b[0;32m----> 5\u001b[0m new_proteins_meta \u001b[38;5;241m=\u001b[39m \u001b[43mnew_proteins_meta\u001b[49m\u001b[38;5;241m.\u001b[39mreset_index(drop\u001b[38;5;241m=\u001b[39m\u001b[38;5;28;01mTrue\u001b[39;00m)\n",
      "\u001b[0;31mNameError\u001b[0m: name 'new_proteins_meta' is not defined"
     ]
    }
   ],
   "source": [
    "# filter out proteins that don't have a Pfam domain in the new_proteins\n",
    "# new_proteins_meta = new_proteins[~new_proteins[column].isnull()]\n",
    "# new_proteins_embeddings = query_embeddings[new_proteins_meta.index]\n",
    "# drop index to avoid confusion\n",
    "new_proteins_meta = new_proteins_meta.reset_index(drop=True)"
   ]
  },
  {
   "cell_type": "code",
   "execution_count": 10,
   "metadata": {},
   "outputs": [
    {
     "data": {
      "text/html": [
       "<div>\n",
       "<style scoped>\n",
       "    .dataframe tbody tr th:only-of-type {\n",
       "        vertical-align: middle;\n",
       "    }\n",
       "\n",
       "    .dataframe tbody tr th {\n",
       "        vertical-align: top;\n",
       "    }\n",
       "\n",
       "    .dataframe thead th {\n",
       "        text-align: right;\n",
       "    }\n",
       "</style>\n",
       "<table border=\"1\" class=\"dataframe\">\n",
       "  <thead>\n",
       "    <tr style=\"text-align: right;\">\n",
       "      <th></th>\n",
       "      <th>Entry</th>\n",
       "      <th>Reviewed</th>\n",
       "      <th>Entry Name</th>\n",
       "      <th>Protein names</th>\n",
       "      <th>Gene Names</th>\n",
       "      <th>Organism</th>\n",
       "      <th>Length</th>\n",
       "      <th>Gene Ontology (biological process)</th>\n",
       "      <th>Gene Ontology (cellular component)</th>\n",
       "      <th>Gene Ontology (molecular function)</th>\n",
       "      <th>Gene Ontology (GO)</th>\n",
       "      <th>EC number</th>\n",
       "      <th>Sequence</th>\n",
       "      <th>Date of creation</th>\n",
       "      <th>Gene3D</th>\n",
       "      <th>Pfam</th>\n",
       "      <th>length</th>\n",
       "    </tr>\n",
       "  </thead>\n",
       "  <tbody>\n",
       "    <tr>\n",
       "      <th>0</th>\n",
       "      <td>A0A023I7E1</td>\n",
       "      <td>reviewed</td>\n",
       "      <td>ENG1_RHIMI</td>\n",
       "      <td>Glucan endo-1,3-beta-D-glucosidase 1 (Endo-1,3...</td>\n",
       "      <td>ENG1 LAM81A</td>\n",
       "      <td>Rhizomucor miehei</td>\n",
       "      <td>796</td>\n",
       "      <td>cell wall organization [GO:0071555]; polysacch...</td>\n",
       "      <td>extracellular region [GO:0005576]</td>\n",
       "      <td>glucan endo-1,3-beta-D-glucosidase activity [G...</td>\n",
       "      <td>extracellular region [GO:0005576]; glucan endo...</td>\n",
       "      <td>3.2.1.39</td>\n",
       "      <td>MRFQVIVAAATITMITSYIPGVASQSTSDGDDLFVPVSNFDPKSIF...</td>\n",
       "      <td>2022-12-14</td>\n",
       "      <td>1.10.287.1170;1.20.5.420;</td>\n",
       "      <td>PF17652;PF03639;</td>\n",
       "      <td>796</td>\n",
       "    </tr>\n",
       "    <tr>\n",
       "      <th>1</th>\n",
       "      <td>A0A061AE05</td>\n",
       "      <td>reviewed</td>\n",
       "      <td>PAPSH_CAEEL</td>\n",
       "      <td>Bifunctional 3'-phosphoadenosine 5'-phosphosul...</td>\n",
       "      <td>pps-1 T14G10.1</td>\n",
       "      <td>Caenorhabditis elegans</td>\n",
       "      <td>654</td>\n",
       "      <td>3'-phosphoadenosine 5'-phosphosulfate biosynth...</td>\n",
       "      <td>nucleus [GO:0005634]</td>\n",
       "      <td>adenylylsulfate kinase activity [GO:0004020]; ...</td>\n",
       "      <td>nucleus [GO:0005634]; adenylylsulfate kinase a...</td>\n",
       "      <td>2.7.1.25; 2.7.7.4</td>\n",
       "      <td>MLTPRDENNEGDAMPMLKKPRYSSLSGQSTNITYQEHTISREERAA...</td>\n",
       "      <td>2023-02-22</td>\n",
       "      <td>3.40.50.620;3.40.50.300;3.10.400.10;</td>\n",
       "      <td>PF01583;PF01747;PF14306;</td>\n",
       "      <td>654</td>\n",
       "    </tr>\n",
       "    <tr>\n",
       "      <th>2</th>\n",
       "      <td>A0A072VDF2</td>\n",
       "      <td>reviewed</td>\n",
       "      <td>CCR1_MEDTR</td>\n",
       "      <td>Cinnamoyl-CoA reductase 1 (Mt-CCR1) (EC 1.2.1....</td>\n",
       "      <td>CCR1 MTR_2g104960 MtrunA17_Chr2g0333781</td>\n",
       "      <td>Medicago truncatula (Barrel medic) (Medicago t...</td>\n",
       "      <td>342</td>\n",
       "      <td>lignin biosynthetic process [GO:0009809]; phen...</td>\n",
       "      <td>cytoplasm [GO:0005737]</td>\n",
       "      <td>cinnamoyl-CoA reductase activity [GO:0016621];...</td>\n",
       "      <td>cytoplasm [GO:0005737]; cinnamoyl-CoA reductas...</td>\n",
       "      <td>1.2.1.-; 1.2.1.44</td>\n",
       "      <td>MPAATAAAAAESSSVSGETICVTGAGGFIASWMVKLLLEKGYTVRG...</td>\n",
       "      <td>2023-02-22</td>\n",
       "      <td>3.40.50.720;</td>\n",
       "      <td>PF01370;</td>\n",
       "      <td>342</td>\n",
       "    </tr>\n",
       "    <tr>\n",
       "      <th>3</th>\n",
       "      <td>A0A076FFM5</td>\n",
       "      <td>reviewed</td>\n",
       "      <td>F8H1_OCIBA</td>\n",
       "      <td>Flavonoid 8-hydroxylase 1, chloroplastic (ObF8...</td>\n",
       "      <td>F8H-1</td>\n",
       "      <td>Ocimum basilicum (Sweet basil)</td>\n",
       "      <td>523</td>\n",
       "      <td>flavonoid metabolic process [GO:0009812]</td>\n",
       "      <td>chloroplast [GO:0009507]; chloroplast membrane...</td>\n",
       "      <td>2 iron, 2 sulfur cluster binding [GO:0051537];...</td>\n",
       "      <td>chloroplast [GO:0009507]; chloroplast membrane...</td>\n",
       "      <td>1.14.15.-</td>\n",
       "      <td>MPFPMEVLQASSLSFPLLRRHSRNNLINKFRNPTLPRIDIPRQNID...</td>\n",
       "      <td>2022-12-14</td>\n",
       "      <td>2.102.10.10;</td>\n",
       "      <td>PF08417;PF00355;</td>\n",
       "      <td>523</td>\n",
       "    </tr>\n",
       "    <tr>\n",
       "      <th>4</th>\n",
       "      <td>A0A0B4U9L8</td>\n",
       "      <td>reviewed</td>\n",
       "      <td>VMF1_VIPAA</td>\n",
       "      <td>Zinc metalloproteinase-disintegrin-like protei...</td>\n",
       "      <td>NaN</td>\n",
       "      <td>Vipera ammodytes ammodytes (Western sand viper)</td>\n",
       "      <td>614</td>\n",
       "      <td>envenomation resulting in modulation of blood ...</td>\n",
       "      <td>extracellular region [GO:0005576]; extraorgani...</td>\n",
       "      <td>metalloendopeptidase activity [GO:0004222]; me...</td>\n",
       "      <td>extracellular region [GO:0005576]; extraorgani...</td>\n",
       "      <td>3.4.24.-</td>\n",
       "      <td>MLQVLLVTICLAVFPYQGSSIILESGNVNDYEVVYPQKLTALLKGA...</td>\n",
       "      <td>2023-02-22</td>\n",
       "      <td>3.40.390.10;4.10.70.10;</td>\n",
       "      <td>PF08516;PF00200;PF01562;PF01421;</td>\n",
       "      <td>614</td>\n",
       "    </tr>\n",
       "  </tbody>\n",
       "</table>\n",
       "</div>"
      ],
      "text/plain": [
       "        Entry  Reviewed   Entry Name  \\\n",
       "0  A0A023I7E1  reviewed   ENG1_RHIMI   \n",
       "1  A0A061AE05  reviewed  PAPSH_CAEEL   \n",
       "2  A0A072VDF2  reviewed   CCR1_MEDTR   \n",
       "3  A0A076FFM5  reviewed   F8H1_OCIBA   \n",
       "4  A0A0B4U9L8  reviewed   VMF1_VIPAA   \n",
       "\n",
       "                                       Protein names  \\\n",
       "0  Glucan endo-1,3-beta-D-glucosidase 1 (Endo-1,3...   \n",
       "1  Bifunctional 3'-phosphoadenosine 5'-phosphosul...   \n",
       "2  Cinnamoyl-CoA reductase 1 (Mt-CCR1) (EC 1.2.1....   \n",
       "3  Flavonoid 8-hydroxylase 1, chloroplastic (ObF8...   \n",
       "4  Zinc metalloproteinase-disintegrin-like protei...   \n",
       "\n",
       "                                Gene Names  \\\n",
       "0                              ENG1 LAM81A   \n",
       "1                           pps-1 T14G10.1   \n",
       "2  CCR1 MTR_2g104960 MtrunA17_Chr2g0333781   \n",
       "3                                    F8H-1   \n",
       "4                                      NaN   \n",
       "\n",
       "                                            Organism  Length  \\\n",
       "0                                  Rhizomucor miehei     796   \n",
       "1                             Caenorhabditis elegans     654   \n",
       "2  Medicago truncatula (Barrel medic) (Medicago t...     342   \n",
       "3                     Ocimum basilicum (Sweet basil)     523   \n",
       "4    Vipera ammodytes ammodytes (Western sand viper)     614   \n",
       "\n",
       "                  Gene Ontology (biological process)  \\\n",
       "0  cell wall organization [GO:0071555]; polysacch...   \n",
       "1  3'-phosphoadenosine 5'-phosphosulfate biosynth...   \n",
       "2  lignin biosynthetic process [GO:0009809]; phen...   \n",
       "3           flavonoid metabolic process [GO:0009812]   \n",
       "4  envenomation resulting in modulation of blood ...   \n",
       "\n",
       "                  Gene Ontology (cellular component)  \\\n",
       "0                  extracellular region [GO:0005576]   \n",
       "1                               nucleus [GO:0005634]   \n",
       "2                             cytoplasm [GO:0005737]   \n",
       "3  chloroplast [GO:0009507]; chloroplast membrane...   \n",
       "4  extracellular region [GO:0005576]; extraorgani...   \n",
       "\n",
       "                  Gene Ontology (molecular function)  \\\n",
       "0  glucan endo-1,3-beta-D-glucosidase activity [G...   \n",
       "1  adenylylsulfate kinase activity [GO:0004020]; ...   \n",
       "2  cinnamoyl-CoA reductase activity [GO:0016621];...   \n",
       "3  2 iron, 2 sulfur cluster binding [GO:0051537];...   \n",
       "4  metalloendopeptidase activity [GO:0004222]; me...   \n",
       "\n",
       "                                  Gene Ontology (GO)          EC number  \\\n",
       "0  extracellular region [GO:0005576]; glucan endo...           3.2.1.39   \n",
       "1  nucleus [GO:0005634]; adenylylsulfate kinase a...  2.7.1.25; 2.7.7.4   \n",
       "2  cytoplasm [GO:0005737]; cinnamoyl-CoA reductas...  1.2.1.-; 1.2.1.44   \n",
       "3  chloroplast [GO:0009507]; chloroplast membrane...          1.14.15.-   \n",
       "4  extracellular region [GO:0005576]; extraorgani...           3.4.24.-   \n",
       "\n",
       "                                            Sequence Date of creation  \\\n",
       "0  MRFQVIVAAATITMITSYIPGVASQSTSDGDDLFVPVSNFDPKSIF...       2022-12-14   \n",
       "1  MLTPRDENNEGDAMPMLKKPRYSSLSGQSTNITYQEHTISREERAA...       2023-02-22   \n",
       "2  MPAATAAAAAESSSVSGETICVTGAGGFIASWMVKLLLEKGYTVRG...       2023-02-22   \n",
       "3  MPFPMEVLQASSLSFPLLRRHSRNNLINKFRNPTLPRIDIPRQNID...       2022-12-14   \n",
       "4  MLQVLLVTICLAVFPYQGSSIILESGNVNDYEVVYPQKLTALLKGA...       2023-02-22   \n",
       "\n",
       "                                 Gene3D                              Pfam  \\\n",
       "0             1.10.287.1170;1.20.5.420;                  PF17652;PF03639;   \n",
       "1  3.40.50.620;3.40.50.300;3.10.400.10;          PF01583;PF01747;PF14306;   \n",
       "2                          3.40.50.720;                          PF01370;   \n",
       "3                          2.102.10.10;                  PF08417;PF00355;   \n",
       "4               3.40.390.10;4.10.70.10;  PF08516;PF00200;PF01562;PF01421;   \n",
       "\n",
       "   length  \n",
       "0     796  \n",
       "1     654  \n",
       "2     342  \n",
       "3     523  \n",
       "4     614  "
      ]
     },
     "execution_count": 10,
     "metadata": {},
     "output_type": "execute_result"
    }
   ],
   "source": [
    "new_proteins_meta.head()"
   ]
  },
  {
   "cell_type": "code",
   "execution_count": 11,
   "metadata": {},
   "outputs": [
    {
     "data": {
      "text/plain": [
       "1864"
      ]
     },
     "execution_count": 11,
     "metadata": {},
     "output_type": "execute_result"
    }
   ],
   "source": [
    "len(new_proteins_meta)"
   ]
  },
  {
   "cell_type": "code",
   "execution_count": 6,
   "metadata": {},
   "outputs": [
    {
     "ename": "NameError",
     "evalue": "name 'new_proteins_meta' is not defined",
     "output_type": "error",
     "traceback": [
      "\u001b[0;31m---------------------------------------------------------------------------\u001b[0m",
      "\u001b[0;31mNameError\u001b[0m                                 Traceback (most recent call last)",
      "Cell \u001b[0;32mIn[6], line 1\u001b[0m\n\u001b[0;32m----> 1\u001b[0m after \u001b[38;5;241m=\u001b[39m \u001b[43mnew_proteins_meta\u001b[49m[\u001b[38;5;124m'\u001b[39m\u001b[38;5;124mDate of creation\u001b[39m\u001b[38;5;124m'\u001b[39m] \u001b[38;5;241m>\u001b[39m \u001b[38;5;124m'\u001b[39m\u001b[38;5;124m2022-12-14\u001b[39m\u001b[38;5;124m'\u001b[39m\n",
      "\u001b[0;31mNameError\u001b[0m: name 'new_proteins_meta' is not defined"
     ]
    }
   ],
   "source": [
    "after = new_proteins_meta['Date of creation'] > '2022-12-14'"
   ]
  },
  {
   "cell_type": "code",
   "execution_count": 26,
   "metadata": {},
   "outputs": [
    {
     "data": {
      "text/plain": [
       "0       False\n",
       "1        True\n",
       "2        True\n",
       "3       False\n",
       "4        True\n",
       "        ...  \n",
       "1859     True\n",
       "1860    False\n",
       "1861    False\n",
       "1862    False\n",
       "1863     True\n",
       "Name: Date of creation, Length: 1864, dtype: bool"
      ]
     },
     "execution_count": 26,
     "metadata": {},
     "output_type": "execute_result"
    }
   ],
   "source": [
    "np.save(after, '/data/ron/protein-conformal/data/new_proteins_after_cutoff.npy')"
   ]
  },
  {
   "cell_type": "code",
   "execution_count": 24,
   "metadata": {},
   "outputs": [
    {
     "data": {
      "text/plain": [
       "870"
      ]
     },
     "execution_count": 24,
     "metadata": {},
     "output_type": "execute_result"
    }
   ],
   "source": [
    "sum(new_proteins_meta['Date of creation'] > '2022-12-14')"
   ]
  },
  {
   "cell_type": "code",
   "execution_count": 65,
   "metadata": {},
   "outputs": [],
   "source": [
    "# load database\n",
    "lookup_database = load_database(col_embeddings)\n",
    "\n",
    "# Query for the 1st nearest neighbor\n",
    "k = col_embeddings.shape[0]\n",
    "# 100000\n",
    "D, I = query(lookup_database, new_proteins_embeddings, k)"
   ]
  },
  {
   "cell_type": "markdown",
   "metadata": {},
   "source": [
    "## Check for exchangability"
   ]
  },
  {
   "cell_type": "code",
   "execution_count": 12,
   "metadata": {},
   "outputs": [],
   "source": [
    "new_proteins_tmp = new_proteins.sort_values('Date of creation', ascending=False).reset_index(drop=True)"
   ]
  },
  {
   "cell_type": "code",
   "execution_count": 14,
   "metadata": {},
   "outputs": [
    {
     "data": {
      "text/plain": [
       "2295"
      ]
     },
     "execution_count": 14,
     "metadata": {},
     "output_type": "execute_result"
    }
   ],
   "source": [
    "len(new_proteins_tmp)"
   ]
  },
  {
   "cell_type": "code",
   "execution_count": 18,
   "metadata": {},
   "outputs": [
    {
     "data": {
      "text/plain": [
       "Entry                                                                            Q6AYL0\n",
       "Reviewed                                                                       reviewed\n",
       "Entry Name                                                                      TPC_RAT\n",
       "Protein names                         Mitochondrial thiamine pyrophosphate carrier (...\n",
       "Gene Names                                                        Slc25a19 LOC100910173\n",
       "Organism                                                        Rattus norvegicus (Rat)\n",
       "Length                                                                              318\n",
       "Gene Ontology (biological process)    thiamine pyrophosphate transmembrane transport...\n",
       "Gene Ontology (cellular component)    mitochondrial membrane [GO:0031966]; mitochond...\n",
       "Gene Ontology (molecular function)    antiporter activity [GO:0015297]; thiamine pyr...\n",
       "Gene Ontology (GO)                    mitochondrial membrane [GO:0031966]; mitochond...\n",
       "EC number                                                                           NaN\n",
       "Sequence                              MVGYDAKADARSNSKLEVAVAGSVSGFVTRALISPLDVIKIRFQLQ...\n",
       "Date of creation                                                             2022-12-14\n",
       "Gene3D                                                                      1.50.40.10;\n",
       "Pfam                                                                           PF00153;\n",
       "length                                                                              318\n",
       "Name: 1148, dtype: object"
      ]
     },
     "execution_count": 18,
     "metadata": {},
     "output_type": "execute_result"
    }
   ],
   "source": [
    "new_proteins_tmp.iloc[int(np.ceil(len(new_proteins_tmp)/2))]"
   ]
  },
  {
   "cell_type": "code",
   "execution_count": 13,
   "metadata": {},
   "outputs": [],
   "source": [
    "from matplotlib import rcParams\n"
   ]
  },
  {
   "cell_type": "code",
   "execution_count": 54,
   "metadata": {},
   "outputs": [
    {
     "data": {
      "text/plain": [
       "[Text(0.9996654, 0, '0.99967'),\n",
       " Text(0.99983096, 0, '0.99983'),\n",
       " Text(1.0000002, 0, '1.00000')]"
      ]
     },
     "execution_count": 54,
     "metadata": {},
     "output_type": "execute_result"
    },
    {
     "data": {
      "image/png": "[encoded data removed]",
      "text/plain": [
       "<Figure size 350x250 with 1 Axes>"
      ]
     },
     "metadata": {},
     "output_type": "display_data"
    }
   ],
   "source": [
    "# Set the style of the visualization\n",
    "sns.set_theme(style=\"white\")\n",
    "fig, ax = plt.subplots(figsize=(3.5, 2.5))\n",
    "# weights = np.ones_like(D.flatten())/float(len(D.flatten()))\n",
    "# plt.hist(D.flatten(), bins=100, weights=weights)\n",
    "\n",
    "# Set Canela Text font and font size\n",
    "# rcParams['font.family'] = 'sans-serif'\n",
    "# rcParams['font.sans-serif'] = ['Canela Text']\n",
    "rcParams['font.family'] = 'sans-serif'\n",
    "rcParams['font.sans-serif'] = ['Arial']\n",
    "rcParams['font.size'] = 14\n",
    "\n",
    "# Normalize the data for probability density\n",
    "weights = np.ones_like(D.flatten()) / float(len(D.flatten()))\n",
    "\n",
    "# # Create the histogram\n",
    "# sns.histplot(D.flatten(), bins=100, kde=False, stat=\"density\", weights=weights, color=\"skyblue\", edgecolor='black', ax=ax)\n",
    "# Create the histogram using Matplotlib\n",
    "ax.hist(D.flatten(), bins=100, weights=weights, color=\"skyblue\")\n",
    "\n",
    "# Customize the plot\n",
    "ax.set_xlabel('Similarity Scores', fontsize=14)\n",
    "ax.set_ylabel('Density', fontsize=14)\n",
    "ax.set_title(r'Protein-Vec: Histogram of Similarity Scores $S_{ij}$', fontsize=16)\n",
    "\n",
    "\n",
    "# Remove the square grid and axes\n",
    "sns.despine(left=False, bottom=False)\n",
    "ax.yaxis.grid(False)\n",
    "ax.xaxis.grid(False)\n",
    "\n",
    "# Adding only three labels on the x-axis (min, mid, max)\n",
    "min_sim = np.min(D)\n",
    "mid_sim = np.median(D)\n",
    "max_sim = np.max(D)\n",
    "ax.set_xticks([min_sim, mid_sim, max_sim])\n",
    "ax.set_xticklabels([f'{min_sim:.5f}', f'{mid_sim:.5f}', f'{max_sim:.5f}'], fontsize=14)"
   ]
  },
  {
   "cell_type": "code",
   "execution_count": 44,
   "metadata": {},
   "outputs": [],
   "source": [
    "fig.savefig('/data/ron/protein-conformal/figs/protein_vec_histogram.svg', format='svg', dpi=300, bbox_inches='tight')"
   ]
  },
  {
   "cell_type": "code",
   "execution_count": 55,
   "metadata": {},
   "outputs": [],
   "source": [
    "fig.savefig('/data/ron/protein-conformal/figs/protein_vec_histogram.pdf', format='pdf', dpi=300, bbox_inches='tight')\n",
    "plt.show()"
   ]
  },
  {
   "cell_type": "code",
   "execution_count": 56,
   "metadata": {},
   "outputs": [],
   "source": [
    "col_meta_data = col_proteins_meta[column].values"
   ]
  },
  {
   "cell_type": "code",
   "execution_count": 66,
   "metadata": {},
   "outputs": [],
   "source": [
    "near_ids = []\n",
    "# for i in range(I.shape[0]):\n",
    "for i in range(I.shape[0]):\n",
    "    meta = col_meta_data[I[i]]\n",
    "    meta_query = new_proteins_meta.iloc[i][column]\n",
    "    # if no annotation for the query, skip\n",
    "    \n",
    "    if meta_query is np.nan:\n",
    "        continue\n",
    "    # create boolean mask for proteins that have the same annotation as the query\n",
    "    # print(meta_query)\n",
    "\n",
    "    # technically, this is a partial hit. to get exact hits, use the following line\n",
    "\n",
    "    # mask_query_in_lookup = [meta_query in meta[k] for k in range(len(meta))]\n",
    "    # kind of confusing. delineate the cases of different hits based on number of Pfam/EC/etc annotations\n",
    "\n",
    "    mask_exact = [meta_query == meta[k] for k in range(len(meta))]\n",
    "    # partial hits\n",
    "    if meta_query.count(';') > 1:\n",
    "        available_pfs = meta_query.split(';')\n",
    "        mask_partial = [[available_pfs[j] in meta[k] for j in range(len(available_pfs) - 1)] for k in range(len(meta))]\n",
    "    else:\n",
    "        mask_partial = [meta_query in meta[k] for k in range(len(meta))]\n",
    "\n",
    "    \n",
    "    # available_pfs = meta_query.split(';')\n",
    "    # mask_partial = [[available_pfs[j] in meta[k] for j in range(len(available_pfs) - 1)] for k in range(len(meta))]\n",
    "    \n",
    "    near_ids.append({\n",
    "        'meta': meta,\n",
    "        'meta_query': meta_query,\n",
    "        'exact': mask_exact,\n",
    "        'partial': mask_partial,\n",
    "        'S_i': D[i]\n",
    "    })   "
   ]
  },
  {
   "cell_type": "code",
   "execution_count": 67,
   "metadata": {},
   "outputs": [],
   "source": [
    "# np.save('/data/ron/protein-conformal/data/pfam_new_proteins.npy', near_ids)\n",
    "\n",
    "# save the results\n",
    "np.save('/data/ron/protein-conformal/data/pfam_new_proteins_all.npy', near_ids)"
   ]
  },
  {
   "cell_type": "code",
   "execution_count": null,
   "metadata": {},
   "outputs": [],
   "source": []
  }
 ],
 "metadata": {
  "kernelspec": {
   "display_name": "base",
   "language": "python",
   "name": "python3"
  },
  "language_info": {
   "codemirror_mode": {
    "name": "ipython",
    "version": 3
   },
   "file_extension": ".py",
   "mimetype": "text/x-python",
   "name": "python",
   "nbconvert_exporter": "python",
   "pygments_lexer": "ipython3",
   "version": "3.12.9"
  }
 },
 "nbformat": 4,
 "nbformat_minor": 2
}

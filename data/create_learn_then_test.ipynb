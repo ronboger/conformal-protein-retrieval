{
 "cells": [
  {
   "cell_type": "code",
   "execution_count": 4,
   "metadata": {},
   "outputs": [
    {
     "ename": "ModuleNotFoundError",
     "evalue": "No module named 'model_protein_moe'",
     "output_type": "error",
     "traceback": [
      "\u001b[0;31m---------------------------------------------------------------------------\u001b[0m",
      "\u001b[0;31mModuleNotFoundError\u001b[0m                       Traceback (most recent call last)",
      "\u001b[0;32m/tmp/ipykernel_1406371/3130816747.py\u001b[0m in \u001b[0;36m<module>\u001b[0;34m\u001b[0m\n\u001b[1;32m      2\u001b[0m \u001b[0;34m\u001b[0m\u001b[0m\n\u001b[1;32m      3\u001b[0m \u001b[0;32mimport\u001b[0m \u001b[0mtorch\u001b[0m\u001b[0;34m\u001b[0m\u001b[0;34m\u001b[0m\u001b[0m\n\u001b[0;32m----> 4\u001b[0;31m \u001b[0;32mfrom\u001b[0m \u001b[0mmodel_protein_moe\u001b[0m \u001b[0;32mimport\u001b[0m \u001b[0mtrans_basic_block\u001b[0m\u001b[0;34m,\u001b[0m \u001b[0mtrans_basic_block_Config\u001b[0m\u001b[0;34m\u001b[0m\u001b[0;34m\u001b[0m\u001b[0m\n\u001b[0m\u001b[1;32m      5\u001b[0m \u001b[0;32mfrom\u001b[0m \u001b[0mutils_search\u001b[0m \u001b[0;32mimport\u001b[0m \u001b[0;34m*\u001b[0m\u001b[0;34m\u001b[0m\u001b[0;34m\u001b[0m\u001b[0m\n\u001b[1;32m      6\u001b[0m \u001b[0;32mfrom\u001b[0m \u001b[0mtransformers\u001b[0m \u001b[0;32mimport\u001b[0m \u001b[0mT5EncoderModel\u001b[0m\u001b[0;34m,\u001b[0m \u001b[0mT5Tokenizer\u001b[0m\u001b[0;34m\u001b[0m\u001b[0;34m\u001b[0m\u001b[0m\n",
      "\u001b[0;31mModuleNotFoundError\u001b[0m: No module named 'model_protein_moe'"
     ]
    }
   ],
   "source": [
    "# conda activate protein-vec\n",
    "# TODO: this has path issues with the conda env\n",
    "\n",
    "import torch\n",
    "from model_protein_moe import trans_basic_block, trans_basic_block_Config\n",
    "from utils_search import *\n",
    "from transformers import T5EncoderModel, T5Tokenizer\n",
    "import re\n",
    "import gc\n",
    "from sklearn.manifold import TSNE\n",
    "import matplotlib.pyplot as plt\n",
    "import seaborn as sns\n",
    "import numpy as np\n",
    "import pandas as pd\n",
    "from collections import defaultdict\n",
    "import faiss\n",
    "\n",
    "\n",
    "device = torch.device('cuda:0' if torch.cuda.is_available() else 'cpu')"
   ]
  },
  {
   "cell_type": "code",
   "execution_count": null,
   "metadata": {},
   "outputs": [],
   "source": [
    "#Protein-Vec MOE model checkpoint and config\n",
    "vec_model_cpnt = 'protein_vec_models/protein_vec.ckpt'\n",
    "vec_model_config = 'protein_vec_models/protein_vec_params.json'"
   ]
  },
  {
   "cell_type": "code",
   "execution_count": 3,
   "metadata": {},
   "outputs": [
    {
     "name": "stderr",
     "output_type": "stream",
     "text": [
      "Some weights of the model checkpoint at Rostlab/prot_t5_xl_uniref50 were not used when initializing T5EncoderModel: ['decoder.block.10.layer.2.DenseReluDense.wo.weight', 'decoder.block.15.layer.1.EncDecAttention.q.weight', 'decoder.block.0.layer.1.EncDecAttention.q.weight', 'decoder.block.14.layer.1.EncDecAttention.o.weight', 'decoder.block.7.layer.0.SelfAttention.v.weight', 'decoder.block.20.layer.0.SelfAttention.q.weight', 'decoder.block.5.layer.2.DenseReluDense.wi.weight', 'decoder.block.3.layer.0.SelfAttention.v.weight', 'decoder.block.2.layer.2.DenseReluDense.wi.weight', 'decoder.block.5.layer.1.EncDecAttention.q.weight', 'decoder.block.17.layer.1.layer_norm.weight', 'decoder.block.4.layer.1.EncDecAttention.k.weight', 'decoder.block.23.layer.0.SelfAttention.k.weight', 'decoder.block.14.layer.0.SelfAttention.k.weight', 'decoder.block.2.layer.1.EncDecAttention.v.weight', 'decoder.block.5.layer.1.EncDecAttention.k.weight', 'decoder.block.3.layer.0.SelfAttention.o.weight', 'decoder.block.13.layer.0.SelfAttention.k.weight', 'decoder.block.6.layer.1.layer_norm.weight', 'decoder.block.21.layer.2.layer_norm.weight', 'decoder.block.16.layer.1.EncDecAttention.q.weight', 'decoder.block.10.layer.2.layer_norm.weight', 'decoder.block.16.layer.1.EncDecAttention.k.weight', 'decoder.block.3.layer.1.EncDecAttention.o.weight', 'decoder.block.13.layer.1.EncDecAttention.k.weight', 'decoder.block.5.layer.1.layer_norm.weight', 'decoder.block.19.layer.0.SelfAttention.k.weight', 'decoder.block.7.layer.0.SelfAttention.q.weight', 'decoder.block.11.layer.0.SelfAttention.v.weight', 'decoder.block.5.layer.0.SelfAttention.v.weight', 'decoder.block.8.layer.0.layer_norm.weight', 'decoder.block.3.layer.2.DenseReluDense.wo.weight', 'decoder.block.17.layer.0.layer_norm.weight', 'decoder.block.23.layer.1.EncDecAttention.k.weight', 'decoder.block.2.layer.0.SelfAttention.q.weight', 'decoder.block.22.layer.1.layer_norm.weight', 'decoder.block.2.layer.2.layer_norm.weight', 'decoder.final_layer_norm.weight', 'decoder.block.16.layer.1.layer_norm.weight', 'decoder.block.7.layer.2.DenseReluDense.wi.weight', 'decoder.block.21.layer.0.SelfAttention.k.weight', 'decoder.block.11.layer.2.layer_norm.weight', 'decoder.block.9.layer.1.EncDecAttention.v.weight', 'decoder.block.17.layer.1.EncDecAttention.v.weight', 'decoder.block.18.layer.1.EncDecAttention.k.weight', 'decoder.block.20.layer.2.layer_norm.weight', 'decoder.block.3.layer.1.EncDecAttention.v.weight', 'decoder.block.14.layer.1.EncDecAttention.k.weight', 'decoder.block.1.layer.2.DenseReluDense.wo.weight', 'decoder.block.23.layer.0.SelfAttention.q.weight', 'decoder.block.17.layer.2.layer_norm.weight', 'decoder.block.3.layer.2.DenseReluDense.wi.weight', 'decoder.block.22.layer.2.DenseReluDense.wo.weight', 'decoder.block.7.layer.1.EncDecAttention.o.weight', 'decoder.block.18.layer.0.SelfAttention.v.weight', 'decoder.block.13.layer.2.DenseReluDense.wi.weight', 'decoder.block.19.layer.1.EncDecAttention.o.weight', 'decoder.block.14.layer.1.layer_norm.weight', 'decoder.block.9.layer.0.SelfAttention.q.weight', 'decoder.block.6.layer.1.EncDecAttention.v.weight', 'decoder.block.17.layer.0.SelfAttention.o.weight', 'decoder.block.12.layer.0.SelfAttention.k.weight', 'decoder.block.0.layer.1.EncDecAttention.v.weight', 'decoder.block.9.layer.0.SelfAttention.v.weight', 'decoder.block.18.layer.1.EncDecAttention.q.weight', 'decoder.block.10.layer.1.layer_norm.weight', 'decoder.block.21.layer.0.SelfAttention.v.weight', 'decoder.block.1.layer.0.SelfAttention.v.weight', 'decoder.block.11.layer.2.DenseReluDense.wi.weight', 'decoder.block.13.layer.0.SelfAttention.q.weight', 'decoder.block.1.layer.2.layer_norm.weight', 'decoder.block.7.layer.0.SelfAttention.o.weight', 'decoder.block.23.layer.1.EncDecAttention.o.weight', 'decoder.block.19.layer.1.EncDecAttention.k.weight', 'decoder.block.5.layer.2.DenseReluDense.wo.weight', 'decoder.block.18.layer.0.SelfAttention.q.weight', 'decoder.block.18.layer.0.layer_norm.weight', 'decoder.block.21.layer.0.SelfAttention.o.weight', 'decoder.block.21.layer.1.EncDecAttention.q.weight', 'decoder.block.0.layer.2.DenseReluDense.wo.weight', 'decoder.block.2.layer.1.EncDecAttention.q.weight', 'decoder.block.15.layer.1.EncDecAttention.o.weight', 'decoder.block.21.layer.0.layer_norm.weight', 'decoder.block.20.layer.0.layer_norm.weight', 'decoder.block.4.layer.0.SelfAttention.o.weight', 'decoder.block.3.layer.1.EncDecAttention.k.weight', 'decoder.block.7.layer.0.SelfAttention.k.weight', 'decoder.block.20.layer.1.EncDecAttention.v.weight', 'decoder.block.15.layer.2.DenseReluDense.wo.weight', 'decoder.block.18.layer.2.DenseReluDense.wo.weight', 'decoder.block.8.layer.1.EncDecAttention.o.weight', 'decoder.block.6.layer.1.EncDecAttention.o.weight', 'decoder.block.13.layer.0.layer_norm.weight', 'decoder.block.19.layer.0.SelfAttention.q.weight', 'decoder.block.8.layer.2.DenseReluDense.wo.weight', 'decoder.block.2.layer.0.SelfAttention.o.weight', 'decoder.block.12.layer.2.DenseReluDense.wo.weight', 'decoder.block.12.layer.1.EncDecAttention.v.weight', 'decoder.block.9.layer.1.EncDecAttention.k.weight', 'decoder.block.15.layer.2.DenseReluDense.wi.weight', 'decoder.block.14.layer.0.SelfAttention.o.weight', 'decoder.block.8.layer.0.SelfAttention.k.weight', 'decoder.block.19.layer.2.DenseReluDense.wo.weight', 'decoder.block.9.layer.0.SelfAttention.o.weight', 'decoder.block.5.layer.0.SelfAttention.o.weight', 'decoder.block.11.layer.1.layer_norm.weight', 'decoder.block.14.layer.2.DenseReluDense.wi.weight', 'decoder.block.1.layer.1.EncDecAttention.q.weight', 'decoder.block.23.layer.0.layer_norm.weight', 'decoder.block.10.layer.1.EncDecAttention.q.weight', 'decoder.block.8.layer.2.DenseReluDense.wi.weight', 'decoder.block.19.layer.1.EncDecAttention.q.weight', 'decoder.block.23.layer.2.DenseReluDense.wi.weight', 'decoder.block.22.layer.0.SelfAttention.v.weight', 'decoder.block.23.layer.0.SelfAttention.o.weight', 'decoder.block.4.layer.2.layer_norm.weight', 'decoder.block.8.layer.2.layer_norm.weight', 'decoder.block.22.layer.0.layer_norm.weight', 'decoder.block.6.layer.0.SelfAttention.k.weight', 'decoder.block.21.layer.1.EncDecAttention.o.weight', 'decoder.block.16.layer.0.SelfAttention.v.weight', 'decoder.block.20.layer.2.DenseReluDense.wi.weight', 'decoder.block.3.layer.0.SelfAttention.q.weight', 'decoder.block.3.layer.0.SelfAttention.k.weight', 'decoder.block.1.layer.2.DenseReluDense.wi.weight', 'decoder.block.22.layer.2.DenseReluDense.wi.weight', 'decoder.block.17.layer.2.DenseReluDense.wo.weight', 'decoder.block.22.layer.0.SelfAttention.k.weight', 'decoder.block.2.layer.0.layer_norm.weight', 'decoder.block.6.layer.1.EncDecAttention.k.weight', 'decoder.block.2.layer.0.SelfAttention.k.weight', 'decoder.block.15.layer.0.SelfAttention.k.weight', 'decoder.block.14.layer.2.layer_norm.weight', 'decoder.block.9.layer.0.SelfAttention.k.weight', 'decoder.block.7.layer.2.layer_norm.weight', 'decoder.block.21.layer.2.DenseReluDense.wi.weight', 'decoder.block.10.layer.1.EncDecAttention.k.weight', 'decoder.block.11.layer.1.EncDecAttention.k.weight', 'decoder.block.12.layer.2.layer_norm.weight', 'decoder.block.8.layer.1.layer_norm.weight', 'decoder.block.19.layer.1.EncDecAttention.v.weight', 'decoder.block.15.layer.2.layer_norm.weight', 'decoder.block.7.layer.1.EncDecAttention.q.weight', 'decoder.block.23.layer.2.DenseReluDense.wo.weight', 'decoder.block.11.layer.1.EncDecAttention.q.weight', 'decoder.block.19.layer.0.SelfAttention.v.weight', 'decoder.block.0.layer.2.DenseReluDense.wi.weight', 'decoder.block.16.layer.2.DenseReluDense.wo.weight', 'decoder.block.1.layer.0.SelfAttention.o.weight', 'decoder.block.1.layer.1.EncDecAttention.k.weight', 'decoder.block.9.layer.0.layer_norm.weight', 'decoder.block.3.layer.1.layer_norm.weight', 'decoder.block.4.layer.0.SelfAttention.q.weight', 'decoder.block.15.layer.0.layer_norm.weight', 'decoder.block.22.layer.1.EncDecAttention.o.weight', 'decoder.block.8.layer.1.EncDecAttention.k.weight', 'decoder.block.12.layer.1.EncDecAttention.k.weight', 'decoder.block.6.layer.1.EncDecAttention.q.weight', 'decoder.block.18.layer.0.SelfAttention.k.weight', 'decoder.block.16.layer.2.layer_norm.weight', 'decoder.block.6.layer.2.DenseReluDense.wi.weight', 'decoder.block.5.layer.1.EncDecAttention.o.weight', 'decoder.block.11.layer.1.EncDecAttention.v.weight', 'decoder.block.14.layer.0.SelfAttention.q.weight', 'decoder.block.15.layer.0.SelfAttention.q.weight', 'decoder.block.10.layer.1.EncDecAttention.o.weight', 'decoder.block.1.layer.0.SelfAttention.q.weight', 'decoder.block.4.layer.1.EncDecAttention.v.weight', 'decoder.block.17.layer.0.SelfAttention.v.weight', 'decoder.block.2.layer.1.layer_norm.weight', 'decoder.block.21.layer.2.DenseReluDense.wo.weight', 'decoder.embed_tokens.weight', 'decoder.block.8.layer.1.EncDecAttention.v.weight', 'decoder.block.11.layer.0.SelfAttention.o.weight', 'decoder.block.1.layer.1.EncDecAttention.v.weight', 'decoder.block.4.layer.0.layer_norm.weight', 'decoder.block.6.layer.0.SelfAttention.q.weight', 'decoder.block.16.layer.2.DenseReluDense.wi.weight', 'decoder.block.3.layer.0.layer_norm.weight', 'decoder.block.17.layer.2.DenseReluDense.wi.weight', 'decoder.block.12.layer.2.DenseReluDense.wi.weight', 'decoder.block.14.layer.0.layer_norm.weight', 'decoder.block.18.layer.2.layer_norm.weight', 'decoder.block.1.layer.0.layer_norm.weight', 'decoder.block.1.layer.1.EncDecAttention.o.weight', 'decoder.block.10.layer.2.DenseReluDense.wi.weight', 'decoder.block.12.layer.0.SelfAttention.q.weight', 'decoder.block.20.layer.0.SelfAttention.o.weight', 'decoder.block.8.layer.0.SelfAttention.o.weight', 'decoder.block.18.layer.0.SelfAttention.o.weight', 'decoder.block.3.layer.2.layer_norm.weight', 'decoder.block.13.layer.2.layer_norm.weight', 'decoder.block.4.layer.2.DenseReluDense.wo.weight', 'decoder.block.21.layer.0.SelfAttention.q.weight', 'decoder.block.18.layer.1.layer_norm.weight', 'decoder.block.20.layer.2.DenseReluDense.wo.weight', 'decoder.block.15.layer.0.SelfAttention.o.weight', 'decoder.block.20.layer.1.EncDecAttention.k.weight', 'decoder.block.0.layer.2.layer_norm.weight', 'decoder.block.23.layer.1.layer_norm.weight', 'decoder.block.22.layer.1.EncDecAttention.q.weight', 'decoder.block.9.layer.1.EncDecAttention.q.weight', 'decoder.block.14.layer.1.EncDecAttention.v.weight', 'decoder.block.9.layer.1.layer_norm.weight', 'decoder.block.11.layer.2.DenseReluDense.wo.weight', 'decoder.block.8.layer.0.SelfAttention.q.weight', 'decoder.block.11.layer.0.layer_norm.weight', 'decoder.block.22.layer.1.EncDecAttention.k.weight', 'decoder.block.12.layer.0.layer_norm.weight', 'decoder.block.17.layer.1.EncDecAttention.o.weight', 'decoder.block.14.layer.0.SelfAttention.v.weight', 'decoder.block.14.layer.2.DenseReluDense.wo.weight', 'decoder.block.7.layer.1.EncDecAttention.k.weight', 'decoder.block.15.layer.1.EncDecAttention.k.weight', 'decoder.block.4.layer.1.layer_norm.weight', 'decoder.block.19.layer.2.layer_norm.weight', 'decoder.block.20.layer.0.SelfAttention.v.weight', 'decoder.block.0.layer.1.layer_norm.weight', 'decoder.block.6.layer.0.layer_norm.weight', 'decoder.block.17.layer.1.EncDecAttention.q.weight', 'decoder.block.12.layer.1.EncDecAttention.q.weight', 'decoder.block.10.layer.0.SelfAttention.q.weight', 'decoder.block.10.layer.1.EncDecAttention.v.weight', 'decoder.block.18.layer.1.EncDecAttention.v.weight', 'decoder.block.23.layer.2.layer_norm.weight', 'decoder.block.16.layer.1.EncDecAttention.v.weight', 'decoder.block.22.layer.0.SelfAttention.q.weight', 'decoder.block.18.layer.2.DenseReluDense.wi.weight', 'decoder.block.0.layer.1.EncDecAttention.k.weight', 'decoder.block.1.layer.1.layer_norm.weight', 'decoder.block.7.layer.0.layer_norm.weight', 'decoder.block.12.layer.0.SelfAttention.v.weight', 'decoder.block.9.layer.1.EncDecAttention.o.weight', 'decoder.block.0.layer.0.SelfAttention.relative_attention_bias.weight', 'decoder.block.22.layer.2.layer_norm.weight', 'decoder.block.11.layer.0.SelfAttention.k.weight', 'decoder.block.12.layer.1.layer_norm.weight', 'decoder.block.7.layer.1.layer_norm.weight', 'decoder.block.15.layer.1.EncDecAttention.v.weight', 'decoder.block.5.layer.0.layer_norm.weight', 'decoder.block.6.layer.2.DenseReluDense.wo.weight', 'decoder.block.9.layer.2.DenseReluDense.wi.weight', 'decoder.block.13.layer.1.layer_norm.weight', 'decoder.block.4.layer.0.SelfAttention.k.weight', 'decoder.block.8.layer.1.EncDecAttention.q.weight', 'decoder.block.22.layer.1.EncDecAttention.v.weight', 'decoder.block.16.layer.0.layer_norm.weight', 'decoder.block.20.layer.1.layer_norm.weight', 'decoder.block.6.layer.0.SelfAttention.v.weight', 'decoder.block.20.layer.1.EncDecAttention.q.weight', 'decoder.block.23.layer.1.EncDecAttention.q.weight', 'decoder.block.6.layer.2.layer_norm.weight', 'decoder.block.2.layer.1.EncDecAttention.k.weight', 'decoder.block.18.layer.1.EncDecAttention.o.weight', 'decoder.block.9.layer.2.DenseReluDense.wo.weight', 'decoder.block.10.layer.0.SelfAttention.v.weight', 'decoder.block.14.layer.1.EncDecAttention.q.weight', 'decoder.block.13.layer.1.EncDecAttention.q.weight', 'decoder.block.0.layer.1.EncDecAttention.o.weight', 'decoder.block.2.layer.1.EncDecAttention.o.weight', 'decoder.block.10.layer.0.layer_norm.weight', 'decoder.block.21.layer.1.EncDecAttention.v.weight', 'decoder.block.19.layer.0.SelfAttention.o.weight', 'decoder.block.5.layer.0.SelfAttention.q.weight', 'decoder.block.19.layer.2.DenseReluDense.wi.weight', 'decoder.block.19.layer.0.layer_norm.weight', 'decoder.block.9.layer.2.layer_norm.weight', 'decoder.block.17.layer.1.EncDecAttention.k.weight', 'decoder.block.16.layer.0.SelfAttention.o.weight', 'decoder.block.23.layer.1.EncDecAttention.v.weight', 'decoder.block.0.layer.0.SelfAttention.v.weight', 'decoder.block.2.layer.2.DenseReluDense.wo.weight', 'decoder.block.15.layer.0.SelfAttention.v.weight', 'decoder.block.1.layer.0.SelfAttention.k.weight', 'decoder.block.0.layer.0.layer_norm.weight', 'decoder.block.23.layer.0.SelfAttention.v.weight', 'decoder.block.10.layer.0.SelfAttention.o.weight', 'decoder.block.11.layer.0.SelfAttention.q.weight', 'decoder.block.6.layer.0.SelfAttention.o.weight', 'decoder.block.3.layer.1.EncDecAttention.q.weight', 'decoder.block.10.layer.0.SelfAttention.k.weight', 'decoder.block.0.layer.0.SelfAttention.k.weight', 'decoder.block.13.layer.1.EncDecAttention.v.weight', 'decoder.block.4.layer.1.EncDecAttention.o.weight', 'decoder.block.5.layer.1.EncDecAttention.v.weight', 'decoder.block.15.layer.1.layer_norm.weight', 'decoder.block.16.layer.0.SelfAttention.k.weight', 'decoder.block.17.layer.0.SelfAttention.q.weight', 'decoder.block.4.layer.0.SelfAttention.v.weight', 'decoder.block.8.layer.0.SelfAttention.v.weight', 'decoder.block.16.layer.1.EncDecAttention.o.weight', 'decoder.block.13.layer.1.EncDecAttention.o.weight', 'decoder.block.2.layer.0.SelfAttention.v.weight', 'decoder.block.7.layer.2.DenseReluDense.wo.weight', 'decoder.block.16.layer.0.SelfAttention.q.weight', 'decoder.block.13.layer.0.SelfAttention.o.weight', 'decoder.block.0.layer.0.SelfAttention.q.weight', 'decoder.block.0.layer.0.SelfAttention.o.weight', 'decoder.block.5.layer.0.SelfAttention.k.weight', 'lm_head.weight', 'decoder.block.11.layer.1.EncDecAttention.o.weight', 'decoder.block.7.layer.1.EncDecAttention.v.weight', 'decoder.block.20.layer.1.EncDecAttention.o.weight', 'decoder.block.22.layer.0.SelfAttention.o.weight', 'decoder.block.5.layer.2.layer_norm.weight', 'decoder.block.20.layer.0.SelfAttention.k.weight', 'decoder.block.13.layer.2.DenseReluDense.wo.weight', 'decoder.block.13.layer.0.SelfAttention.v.weight', 'decoder.block.12.layer.1.EncDecAttention.o.weight', 'decoder.block.17.layer.0.SelfAttention.k.weight', 'decoder.block.4.layer.2.DenseReluDense.wi.weight', 'decoder.block.19.layer.1.layer_norm.weight', 'decoder.block.12.layer.0.SelfAttention.o.weight', 'decoder.block.21.layer.1.layer_norm.weight', 'decoder.block.4.layer.1.EncDecAttention.q.weight', 'decoder.block.21.layer.1.EncDecAttention.k.weight']\n",
      "- This IS expected if you are initializing T5EncoderModel from the checkpoint of a model trained on another task or with another architecture (e.g. initializing a BertForSequenceClassification model from a BertForPreTraining model).\n",
      "- This IS NOT expected if you are initializing T5EncoderModel from the checkpoint of a model that you expect to be exactly identical (initializing a BertForSequenceClassification model from a BertForSequenceClassification model).\n"
     ]
    }
   ],
   "source": [
    "#Load the ProtTrans model and ProtTrans tokenizer\n",
    "tokenizer = T5Tokenizer.from_pretrained(\"Rostlab/prot_t5_xl_uniref50\", do_lower_case=False )\n",
    "model = T5EncoderModel.from_pretrained(\"Rostlab/prot_t5_xl_uniref50\")\n",
    "gc.collect()\n",
    "\n",
    "model = model.to(device)\n",
    "model = model.eval()"
   ]
  },
  {
   "cell_type": "code",
   "execution_count": 4,
   "metadata": {},
   "outputs": [
    {
     "name": "stderr",
     "output_type": "stream",
     "text": [
      "Lightning automatically upgraded your loaded checkpoint from v1.8.0rc0 to v1.9.5. To apply the upgrade to your files permanently, run `python -m pytorch_lightning.utilities.upgrade_checkpoint --file protein_vec_models/tm_vec_swiss_model_large.ckpt`\n"
     ]
    }
   ],
   "source": [
    "#Load the model\n",
    "vec_model_config = trans_basic_block_Config.from_json(vec_model_config)\n",
    "model_deep = trans_basic_block.load_from_checkpoint(vec_model_cpnt, config=vec_model_config)\n",
    "model_deep = model_deep.to(device)\n",
    "model_deep = model_deep.eval()"
   ]
  },
  {
   "cell_type": "code",
   "execution_count": 5,
   "metadata": {},
   "outputs": [],
   "source": [
    "# Load in uniprot meta data\n",
    "meta_data_new = pd.read_csv('data/uniprotkb_AND_reviewed_true_2023_07_03.tsv', sep='\\t')"
   ]
  },
  {
   "cell_type": "code",
   "execution_count": 6,
   "metadata": {},
   "outputs": [],
   "source": [
    "#Now filter for the proteins that were newly discovered\n",
    "new_proteins = meta_data_new[meta_data_new['Date of creation'] > '2022-05-25'].reset_index(drop=True)"
   ]
  },
  {
   "cell_type": "code",
   "execution_count": 7,
   "metadata": {},
   "outputs": [
    {
     "name": "stdout",
     "output_type": "stream",
     "text": [
      "Number of new proteins deposited after 2022-05-25\n",
      "2350\n",
      "Filtered proteins longer than 2000 amino acids\n",
      "2295\n"
     ]
    }
   ],
   "source": [
    "print('Number of new proteins deposited after 2022-05-25')\n",
    "print(len(new_proteins))\n",
    "\n",
    "# filter those proteins that are greater than 2000 amino acid residues long\n",
    "new_proteins['length'] = new_proteins['Sequence'].str.len()\n",
    "new_proteins = new_proteins[new_proteins['length'] <= 2000]\n",
    "print('Filtered proteins longer than 2000 amino acids')\n",
    "print(len(new_proteins))"
   ]
  },
  {
   "cell_type": "code",
   "execution_count": 8,
   "metadata": {},
   "outputs": [
    {
     "name": "stderr",
     "output_type": "stream",
     "text": [
      "/home/ron/miniconda3/envs/protein-vec/lib/python3.7/site-packages/torch/nn/modules/transformer.py:276: UserWarning: The PyTorch API of nested tensors is in prototype stage and will change in the near future. (Triggered internally at ../aten/src/ATen/NestedTensorImpl.cpp:175.)\n",
      "  output = torch._nested_tensor_from_mask(output, src_key_padding_mask.logical_not(), mask_check=False)\n"
     ]
    },
    {
     "name": "stdout",
     "output_type": "stream",
     "text": [
      "50\n",
      "100\n",
      "150\n",
      "200\n",
      "250\n",
      "300\n",
      "350\n",
      "400\n",
      "450\n",
      "500\n",
      "550\n",
      "600\n",
      "650\n",
      "700\n",
      "750\n",
      "800\n",
      "850\n",
      "900\n",
      "950\n",
      "1000\n",
      "1050\n",
      "1100\n",
      "1150\n",
      "1200\n",
      "1250\n",
      "1300\n",
      "1350\n",
      "1400\n",
      "1450\n",
      "1500\n",
      "1550\n",
      "1600\n",
      "1650\n",
      "1700\n",
      "1750\n",
      "1800\n",
      "1850\n",
      "1900\n",
      "1950\n",
      "2000\n",
      "2050\n",
      "2100\n",
      "2150\n",
      "2200\n",
      "2250\n"
     ]
    }
   ],
   "source": [
    "# This is a forward pass of the Protein-Vec model\n",
    "# Every aspect is turned on (therefore no masks)\n",
    "sampled_keys = np.array(['TM', 'PFAM', 'GENE3D', 'ENZYME', 'MFO', 'BPO', 'CCO'])\n",
    "all_cols = np.array(['TM', 'PFAM', 'GENE3D', 'ENZYME', 'MFO', 'BPO', 'CCO'])\n",
    "masks = [all_cols[k] in sampled_keys for k in range(len(all_cols))]\n",
    "masks = torch.logical_not(torch.tensor(masks, dtype=torch.bool))[None,:]\n",
    "\n",
    "#Pull out sequences for the new proteins\n",
    "flat_seqs = new_proteins['Sequence'].values\n",
    "\n",
    "#Loop through the sequences and embed them using protein-vec\n",
    "i = 0\n",
    "embed_all_sequences = []\n",
    "while i < len(flat_seqs): \n",
    "    protrans_sequence = featurize_prottrans(flat_seqs[i:i+1], model, tokenizer, device)\n",
    "    embedded_sequence = embed_vec(protrans_sequence, model_deep, masks, device)\n",
    "    embed_all_sequences.append(embedded_sequence)\n",
    "    i = i + 1\n",
    "    if i % 50 == 0:\n",
    "        print(i)"
   ]
  },
  {
   "cell_type": "code",
   "execution_count": 9,
   "metadata": {},
   "outputs": [],
   "source": [
    "#Combine the embedding vectors into an array\n",
    "query_embeddings = np.concatenate(embed_all_sequences)"
   ]
  },
  {
   "cell_type": "code",
   "execution_count": 10,
   "metadata": {},
   "outputs": [],
   "source": [
    "# save the query embeddings\n",
    "np.save('new_protein_embeddings.npy', query_embeddings)"
   ]
  },
  {
   "cell_type": "code",
   "execution_count": 8,
   "metadata": {},
   "outputs": [],
   "source": [
    "query_embeddings = np.load('new_protein_embeddings.npy')"
   ]
  },
  {
   "cell_type": "code",
   "execution_count": 9,
   "metadata": {},
   "outputs": [],
   "source": [
    "################## Load the lookup database of all embeddings (note that we will pull out only embeddings from proteins that were trained on)\n",
    "embeddings = np.load('protein_vec_embeddings/lookup_embeddings.npy')\n",
    "lookup_proteins_meta = pd.read_csv('protein_vec_embeddings/lookup_embeddings_meta_data.tsv', sep=\"\\t\")"
   ]
  },
  {
   "cell_type": "code",
   "execution_count": 10,
   "metadata": {},
   "outputs": [
    {
     "data": {
      "text/plain": [
       "540560"
      ]
     },
     "execution_count": 10,
     "metadata": {},
     "output_type": "execute_result"
    }
   ],
   "source": [
    "len(lookup_proteins_meta)"
   ]
  },
  {
   "cell_type": "code",
   "execution_count": 11,
   "metadata": {},
   "outputs": [
    {
     "data": {
      "text/plain": [
       "431"
      ]
     },
     "execution_count": 11,
     "metadata": {},
     "output_type": "execute_result"
    }
   ],
   "source": [
    "# see if Pfam column is empty for all proteins in new_proteins\n",
    "np.sum(new_proteins['Pfam'].isna())"
   ]
  },
  {
   "cell_type": "code",
   "execution_count": 12,
   "metadata": {},
   "outputs": [],
   "source": [
    "#Switch this for whichever aspect you want to perform search for\n",
    "############### User parameter\n",
    "column = 'Pfam'"
   ]
  },
  {
   "cell_type": "code",
   "execution_count": 13,
   "metadata": {},
   "outputs": [],
   "source": [
    "# Filter for lookup proteins with annotations for the relavant aspect (don't want to transfer null annotations)\n",
    "col_lookup = lookup_proteins_meta[~lookup_proteins_meta[column].isnull()]\n",
    "col_lookup_embeddings = embeddings[col_lookup.index]\n",
    "col_meta_data = col_lookup[column].values\n",
    "\n",
    "# load database\n",
    "lookup_database = load_database(col_lookup_embeddings)\n",
    "\n",
    "# Query for the 1st nearest neighbor\n",
    "k = 10\n",
    "D, I = query(lookup_database, query_embeddings, k)\n",
    "\n",
    "#Get metadata for the 1st nearest neighbor\n",
    "near_ids = []\n",
    "for i in range(I.shape[0]):\n",
    "    meta = col_meta_data[I[i]]\n",
    "    near_ids.append(list(meta))       \n",
    "\n",
    "near_ids = np.array(near_ids)"
   ]
  },
  {
   "cell_type": "code",
   "execution_count": 14,
   "metadata": {},
   "outputs": [
    {
     "data": {
      "text/plain": [
       "(2295, 10)"
      ]
     },
     "execution_count": 14,
     "metadata": {},
     "output_type": "execute_result"
    }
   ],
   "source": [
    "I.shape"
   ]
  },
  {
   "cell_type": "code",
   "execution_count": 15,
   "metadata": {},
   "outputs": [
    {
     "data": {
      "text/plain": [
       "array([508763, 245040, 367297, 225807, 170500, 326570, 209248, 367880,\n",
       "       218409, 209249])"
      ]
     },
     "execution_count": 15,
     "metadata": {},
     "output_type": "execute_result"
    }
   ],
   "source": [
    "I[0]"
   ]
  },
  {
   "cell_type": "code",
   "execution_count": 17,
   "metadata": {},
   "outputs": [],
   "source": [
    "meta = col_lookup.iloc[I[0]]"
   ]
  },
  {
   "cell_type": "code",
   "execution_count": 22,
   "metadata": {},
   "outputs": [
    {
     "name": "stderr",
     "output_type": "stream",
     "text": [
      "/home/ron/miniconda3/envs/protein-vec/lib/python3.7/site-packages/ipykernel_launcher.py:1: SettingWithCopyWarning: \n",
      "A value is trying to be set on a copy of a slice from a DataFrame.\n",
      "Try using .loc[row_indexer,col_indexer] = value instead\n",
      "\n",
      "See the caveats in the documentation: https://pandas.pydata.org/pandas-docs/stable/user_guide/indexing.html#returning-a-view-versus-a-copy\n",
      "  \"\"\"Entry point for launching an IPython kernel.\n"
     ]
    }
   ],
   "source": [
    "meta[\"distance\"] = D[0]"
   ]
  },
  {
   "cell_type": "code",
   "execution_count": 21,
   "metadata": {},
   "outputs": [
    {
     "name": "stderr",
     "output_type": "stream",
     "text": [
      "/home/ron/miniconda3/envs/protein-vec/lib/python3.7/site-packages/ipykernel_launcher.py:1: SettingWithCopyWarning: \n",
      "A value is trying to be set on a copy of a slice from a DataFrame.\n",
      "Try using .loc[row_indexer,col_indexer] = value instead\n",
      "\n",
      "See the caveats in the documentation: https://pandas.pydata.org/pandas-docs/stable/user_guide/indexing.html#returning-a-view-versus-a-copy\n",
      "  \"\"\"Entry point for launching an IPython kernel.\n"
     ]
    }
   ],
   "source": [
    "meta[\"query_index\"] = [0 for i in range(len(meta))]"
   ]
  },
  {
   "cell_type": "code",
   "execution_count": 23,
   "metadata": {},
   "outputs": [
    {
     "data": {
      "text/html": [
       "<div>\n",
       "<style scoped>\n",
       "    .dataframe tbody tr th:only-of-type {\n",
       "        vertical-align: middle;\n",
       "    }\n",
       "\n",
       "    .dataframe tbody tr th {\n",
       "        vertical-align: top;\n",
       "    }\n",
       "\n",
       "    .dataframe thead th {\n",
       "        text-align: right;\n",
       "    }\n",
       "</style>\n",
       "<table border=\"1\" class=\"dataframe\">\n",
       "  <thead>\n",
       "    <tr style=\"text-align: right;\">\n",
       "      <th></th>\n",
       "      <th>Unnamed: 0</th>\n",
       "      <th>Entry</th>\n",
       "      <th>Reviewed</th>\n",
       "      <th>Entry Name</th>\n",
       "      <th>Protein names</th>\n",
       "      <th>Gene Names</th>\n",
       "      <th>Organism</th>\n",
       "      <th>Length</th>\n",
       "      <th>Gene Ontology (biological process)</th>\n",
       "      <th>Gene Ontology (cellular component)</th>\n",
       "      <th>Gene Ontology (molecular function)</th>\n",
       "      <th>Gene Ontology (GO)</th>\n",
       "      <th>EC number</th>\n",
       "      <th>Sequence</th>\n",
       "      <th>Date of creation</th>\n",
       "      <th>Gene3D</th>\n",
       "      <th>Pfam</th>\n",
       "      <th>query_index</th>\n",
       "      <th>distance</th>\n",
       "    </tr>\n",
       "  </thead>\n",
       "  <tbody>\n",
       "    <tr>\n",
       "      <th>530860</th>\n",
       "      <td>530860</td>\n",
       "      <td>Q9UT45</td>\n",
       "      <td>reviewed</td>\n",
       "      <td>ENG1_SCHPO</td>\n",
       "      <td>Primary septum glucan endo-1,3-beta-D-glucosid...</td>\n",
       "      <td>eng1 SPAC821.09</td>\n",
       "      <td>Schizosaccharomyces pombe (strain 972 / ATCC 2...</td>\n",
       "      <td>1016</td>\n",
       "      <td>cell cycle [GO:0007049]; cell wall polysacchar...</td>\n",
       "      <td>cell surface [GO:0009986]; division septum [GO...</td>\n",
       "      <td>glucan endo-1,3-beta-D-glucosidase activity [G...</td>\n",
       "      <td>cell surface [GO:0009986]; division septum [GO...</td>\n",
       "      <td>3.2.1.39</td>\n",
       "      <td>MSSYLRSFIFGLLTISLAQCSPILKDTKDTKFSTGSNISLKKRDTN...</td>\n",
       "      <td>2004-03-29</td>\n",
       "      <td>1.10.287.1170;1.20.5.420;</td>\n",
       "      <td>PF10645;PF17652;PF03639;</td>\n",
       "      <td>0</td>\n",
       "      <td>0.999972</td>\n",
       "    </tr>\n",
       "    <tr>\n",
       "      <th>255285</th>\n",
       "      <td>255285</td>\n",
       "      <td>P53753</td>\n",
       "      <td>reviewed</td>\n",
       "      <td>ENG1_YEAST</td>\n",
       "      <td>Glucan endo-1,3-beta-D-glucosidase 1 (Endo-1,3...</td>\n",
       "      <td>DSE4 ENG1 YNR067C N3547</td>\n",
       "      <td>Saccharomyces cerevisiae (strain ATCC 204508 /...</td>\n",
       "      <td>1117</td>\n",
       "      <td>cell wall organization [GO:0071555]; polysacch...</td>\n",
       "      <td>cell septum [GO:0030428]; cell surface [GO:000...</td>\n",
       "      <td>glucan endo-1,3-beta-D-glucosidase activity [G...</td>\n",
       "      <td>cell septum [GO:0030428]; cell surface [GO:000...</td>\n",
       "      <td>3.2.1.39</td>\n",
       "      <td>MQLYLTLLFLLSFVECSYISFISNNADEILETDLIETLSYATLTVG...</td>\n",
       "      <td>1996-10-01</td>\n",
       "      <td>1.20.5.420;</td>\n",
       "      <td>PF17652;PF03639;</td>\n",
       "      <td>0</td>\n",
       "      <td>0.999969</td>\n",
       "    </tr>\n",
       "    <tr>\n",
       "      <th>384236</th>\n",
       "      <td>384236</td>\n",
       "      <td>Q5AIR7</td>\n",
       "      <td>reviewed</td>\n",
       "      <td>ENG1_CANAL</td>\n",
       "      <td>Glucan endo-1,3-beta-D-glucosidase 1 (Endo-1,3...</td>\n",
       "      <td>ENG1 ACF3 DSE4 CAALFM_C103680WA CaO19.10584 Ca...</td>\n",
       "      <td>Candida albicans (strain SC5314 / ATCC MYA-287...</td>\n",
       "      <td>1145</td>\n",
       "      <td>cell wall organization [GO:0071555]; polysacch...</td>\n",
       "      <td>cell septum [GO:0030428]; cell surface [GO:000...</td>\n",
       "      <td>glucan endo-1,3-beta-D-glucosidase activity [G...</td>\n",
       "      <td>cell septum [GO:0030428]; cell surface [GO:000...</td>\n",
       "      <td>3.2.1.39</td>\n",
       "      <td>MLFKSVLLSTLIAVQALAENSAHQEIVTVTKTTHISNPCLENYAKK...</td>\n",
       "      <td>2014-07-09</td>\n",
       "      <td>1.10.287.1170;1.20.5.420;</td>\n",
       "      <td>PF17652;PF03639;</td>\n",
       "      <td>0</td>\n",
       "      <td>0.999966</td>\n",
       "    </tr>\n",
       "    <tr>\n",
       "      <th>234761</th>\n",
       "      <td>234761</td>\n",
       "      <td>P29019</td>\n",
       "      <td>reviewed</td>\n",
       "      <td>GUN_BACSZ</td>\n",
       "      <td>Endoglucanase (EC 3.2.1.4) (Cellulase) (Endo-1...</td>\n",
       "      <td>NaN</td>\n",
       "      <td>Bacillus sp. (strain KSM-330)</td>\n",
       "      <td>463</td>\n",
       "      <td>cellulose catabolic process [GO:0030245]</td>\n",
       "      <td>NaN</td>\n",
       "      <td>cellulase activity [GO:0008810]</td>\n",
       "      <td>cellulase activity [GO:0008810]; cellulose cat...</td>\n",
       "      <td>3.2.1.4</td>\n",
       "      <td>MVEKRKIFTVLCACGIGFTSYTSCISAAAIDNDTLINNGHKINSSI...</td>\n",
       "      <td>1992-12-01</td>\n",
       "      <td>1.50.10.10;</td>\n",
       "      <td>PF01270;</td>\n",
       "      <td>0</td>\n",
       "      <td>0.999928</td>\n",
       "    </tr>\n",
       "    <tr>\n",
       "      <th>174689</th>\n",
       "      <td>174689</td>\n",
       "      <td>E9CXX8</td>\n",
       "      <td>reviewed</td>\n",
       "      <td>MNS1B_COCPS</td>\n",
       "      <td>Mannosyl-oligosaccharide alpha-1,2-mannosidase...</td>\n",
       "      <td>CPSG_02648</td>\n",
       "      <td>Coccidioides posadasii (strain RMSCC 757 / Sil...</td>\n",
       "      <td>519</td>\n",
       "      <td>carbohydrate metabolic process [GO:0005975]; p...</td>\n",
       "      <td>extracellular region [GO:0005576]; membrane [G...</td>\n",
       "      <td>calcium ion binding [GO:0005509]; mannosyl-oli...</td>\n",
       "      <td>extracellular region [GO:0005576]; membrane [G...</td>\n",
       "      <td>3.2.1.113</td>\n",
       "      <td>MKGSPVLAVCAAALTLIPSVVALPMIDKDLPSSISQSSDKTSQERA...</td>\n",
       "      <td>2015-04-29</td>\n",
       "      <td>1.50.10.10;</td>\n",
       "      <td>PF01532;</td>\n",
       "      <td>0</td>\n",
       "      <td>0.999926</td>\n",
       "    </tr>\n",
       "    <tr>\n",
       "      <th>341946</th>\n",
       "      <td>341946</td>\n",
       "      <td>Q2U4L7</td>\n",
       "      <td>reviewed</td>\n",
       "      <td>GTAA_ASPOR</td>\n",
       "      <td>Glutaminase A (EC 3.5.1.2)</td>\n",
       "      <td>gtaA AO090020000289</td>\n",
       "      <td>Aspergillus oryzae (strain ATCC 42149 / RIB 40...</td>\n",
       "      <td>690</td>\n",
       "      <td>carbohydrate metabolic process [GO:0005975]</td>\n",
       "      <td>extracellular region [GO:0005576]</td>\n",
       "      <td>glutaminase activity [GO:0004359]</td>\n",
       "      <td>extracellular region [GO:0005576]; glutaminase...</td>\n",
       "      <td>3.5.1.2</td>\n",
       "      <td>MMHFLSFCLSVASLVSYAGAASTFSPARPPALPLAVKSPYLSTWLS...</td>\n",
       "      <td>2015-12-09</td>\n",
       "      <td>NaN</td>\n",
       "      <td>PF08760;PF16335;PF17168;</td>\n",
       "      <td>0</td>\n",
       "      <td>0.999924</td>\n",
       "    </tr>\n",
       "    <tr>\n",
       "      <th>216385</th>\n",
       "      <td>216385</td>\n",
       "      <td>P0CZ00</td>\n",
       "      <td>reviewed</td>\n",
       "      <td>HYSA_CUTAC</td>\n",
       "      <td>Hyaluronate lyase (EC 4.2.2.1) (Hyaluronidase)...</td>\n",
       "      <td>NaN</td>\n",
       "      <td>Cutibacterium acnes (Propionibacterium acnes)</td>\n",
       "      <td>812</td>\n",
       "      <td>carbohydrate metabolic process [GO:0005975]</td>\n",
       "      <td>extracellular region [GO:0005576]</td>\n",
       "      <td>carbohydrate binding [GO:0030246]; hyaluronate...</td>\n",
       "      <td>extracellular region [GO:0005576]; carbohydrat...</td>\n",
       "      <td>4.2.2.1</td>\n",
       "      <td>MFGTPSRRTFLTASALSAMALAASPTVTDAIAAPGPDSWSALCERW...</td>\n",
       "      <td>2011-06-28</td>\n",
       "      <td>2.70.98.10;1.50.10.100;2.60.220.10;</td>\n",
       "      <td>PF02278;PF08124;</td>\n",
       "      <td>0</td>\n",
       "      <td>0.999923</td>\n",
       "    </tr>\n",
       "    <tr>\n",
       "      <th>384873</th>\n",
       "      <td>384873</td>\n",
       "      <td>Q5BF93</td>\n",
       "      <td>reviewed</td>\n",
       "      <td>MNS1B_EMENI</td>\n",
       "      <td>Mannosyl-oligosaccharide alpha-1,2-mannosidase...</td>\n",
       "      <td>mns1B msdS AN0787</td>\n",
       "      <td>Emericella nidulans (strain FGSC A4 / ATCC 381...</td>\n",
       "      <td>505</td>\n",
       "      <td>carbohydrate metabolic process [GO:0005975]; N...</td>\n",
       "      <td>cytoplasmic vesicle lumen [GO:0060205]; endopl...</td>\n",
       "      <td>calcium ion binding [GO:0005509]; mannosyl-oli...</td>\n",
       "      <td>cytoplasmic vesicle lumen [GO:0060205]; endopl...</td>\n",
       "      <td>3.2.1.113</td>\n",
       "      <td>MRTLLALAALAGFAAARVPAYAITRPVMRSDSRADAVKEAFSHAWD...</td>\n",
       "      <td>2010-06-15</td>\n",
       "      <td>1.50.10.10;</td>\n",
       "      <td>PF01532;</td>\n",
       "      <td>0</td>\n",
       "      <td>0.999922</td>\n",
       "    </tr>\n",
       "    <tr>\n",
       "      <th>226844</th>\n",
       "      <td>226844</td>\n",
       "      <td>P19254</td>\n",
       "      <td>reviewed</td>\n",
       "      <td>GUB_NIACI</td>\n",
       "      <td>Beta-glucanase (EC 3.2.1.73) (Endo-beta-1,3-1,...</td>\n",
       "      <td>bgc</td>\n",
       "      <td>Niallia circulans (Bacillus circulans)</td>\n",
       "      <td>409</td>\n",
       "      <td>carbohydrate metabolic process [GO:0005975]; o...</td>\n",
       "      <td>NaN</td>\n",
       "      <td>licheninase activity [GO:0042972]</td>\n",
       "      <td>licheninase activity [GO:0042972]; carbohydrat...</td>\n",
       "      <td>3.2.1.73</td>\n",
       "      <td>MRKNRGFSFSSKAVMMCCLAFLLIPASFAFAAPNKPFPQHTTYTSG...</td>\n",
       "      <td>1990-11-01</td>\n",
       "      <td>1.50.10.10;</td>\n",
       "      <td>PF01270;</td>\n",
       "      <td>0</td>\n",
       "      <td>0.999921</td>\n",
       "    </tr>\n",
       "    <tr>\n",
       "      <th>216386</th>\n",
       "      <td>216386</td>\n",
       "      <td>P0CZ01</td>\n",
       "      <td>reviewed</td>\n",
       "      <td>HYSA_CUTAK</td>\n",
       "      <td>Hyaluronate lyase (EC 4.2.2.1) (Hyaluronidase)...</td>\n",
       "      <td>PPA0380</td>\n",
       "      <td>Cutibacterium acnes (strain DSM 16379 / KPA171...</td>\n",
       "      <td>813</td>\n",
       "      <td>carbohydrate metabolic process [GO:0005975]</td>\n",
       "      <td>extracellular region [GO:0005576]</td>\n",
       "      <td>carbohydrate binding [GO:0030246]; hyaluronate...</td>\n",
       "      <td>extracellular region [GO:0005576]; carbohydrat...</td>\n",
       "      <td>4.2.2.1</td>\n",
       "      <td>MFGTPSRRTFLTASALSAMALAASPTVTDAIAAPGPDSWSALCERW...</td>\n",
       "      <td>2011-06-28</td>\n",
       "      <td>2.70.98.10;1.50.10.100;2.60.220.10;</td>\n",
       "      <td>PF02278;PF02884;PF08124;</td>\n",
       "      <td>0</td>\n",
       "      <td>0.999921</td>\n",
       "    </tr>\n",
       "  </tbody>\n",
       "</table>\n",
       "</div>"
      ],
      "text/plain": [
       "        Unnamed: 0   Entry  Reviewed   Entry Name  \\\n",
       "530860      530860  Q9UT45  reviewed   ENG1_SCHPO   \n",
       "255285      255285  P53753  reviewed   ENG1_YEAST   \n",
       "384236      384236  Q5AIR7  reviewed   ENG1_CANAL   \n",
       "234761      234761  P29019  reviewed    GUN_BACSZ   \n",
       "174689      174689  E9CXX8  reviewed  MNS1B_COCPS   \n",
       "341946      341946  Q2U4L7  reviewed   GTAA_ASPOR   \n",
       "216385      216385  P0CZ00  reviewed   HYSA_CUTAC   \n",
       "384873      384873  Q5BF93  reviewed  MNS1B_EMENI   \n",
       "226844      226844  P19254  reviewed    GUB_NIACI   \n",
       "216386      216386  P0CZ01  reviewed   HYSA_CUTAK   \n",
       "\n",
       "                                            Protein names  \\\n",
       "530860  Primary septum glucan endo-1,3-beta-D-glucosid...   \n",
       "255285  Glucan endo-1,3-beta-D-glucosidase 1 (Endo-1,3...   \n",
       "384236  Glucan endo-1,3-beta-D-glucosidase 1 (Endo-1,3...   \n",
       "234761  Endoglucanase (EC 3.2.1.4) (Cellulase) (Endo-1...   \n",
       "174689  Mannosyl-oligosaccharide alpha-1,2-mannosidase...   \n",
       "341946                         Glutaminase A (EC 3.5.1.2)   \n",
       "216385  Hyaluronate lyase (EC 4.2.2.1) (Hyaluronidase)...   \n",
       "384873  Mannosyl-oligosaccharide alpha-1,2-mannosidase...   \n",
       "226844  Beta-glucanase (EC 3.2.1.73) (Endo-beta-1,3-1,...   \n",
       "216386  Hyaluronate lyase (EC 4.2.2.1) (Hyaluronidase)...   \n",
       "\n",
       "                                               Gene Names  \\\n",
       "530860                                    eng1 SPAC821.09   \n",
       "255285                            DSE4 ENG1 YNR067C N3547   \n",
       "384236  ENG1 ACF3 DSE4 CAALFM_C103680WA CaO19.10584 Ca...   \n",
       "234761                                                NaN   \n",
       "174689                                         CPSG_02648   \n",
       "341946                                gtaA AO090020000289   \n",
       "216385                                                NaN   \n",
       "384873                                  mns1B msdS AN0787   \n",
       "226844                                                bgc   \n",
       "216386                                            PPA0380   \n",
       "\n",
       "                                                 Organism  Length  \\\n",
       "530860  Schizosaccharomyces pombe (strain 972 / ATCC 2...    1016   \n",
       "255285  Saccharomyces cerevisiae (strain ATCC 204508 /...    1117   \n",
       "384236  Candida albicans (strain SC5314 / ATCC MYA-287...    1145   \n",
       "234761                      Bacillus sp. (strain KSM-330)     463   \n",
       "174689  Coccidioides posadasii (strain RMSCC 757 / Sil...     519   \n",
       "341946  Aspergillus oryzae (strain ATCC 42149 / RIB 40...     690   \n",
       "216385      Cutibacterium acnes (Propionibacterium acnes)     812   \n",
       "384873  Emericella nidulans (strain FGSC A4 / ATCC 381...     505   \n",
       "226844             Niallia circulans (Bacillus circulans)     409   \n",
       "216386  Cutibacterium acnes (strain DSM 16379 / KPA171...     813   \n",
       "\n",
       "                       Gene Ontology (biological process)  \\\n",
       "530860  cell cycle [GO:0007049]; cell wall polysacchar...   \n",
       "255285  cell wall organization [GO:0071555]; polysacch...   \n",
       "384236  cell wall organization [GO:0071555]; polysacch...   \n",
       "234761           cellulose catabolic process [GO:0030245]   \n",
       "174689  carbohydrate metabolic process [GO:0005975]; p...   \n",
       "341946        carbohydrate metabolic process [GO:0005975]   \n",
       "216385        carbohydrate metabolic process [GO:0005975]   \n",
       "384873  carbohydrate metabolic process [GO:0005975]; N...   \n",
       "226844  carbohydrate metabolic process [GO:0005975]; o...   \n",
       "216386        carbohydrate metabolic process [GO:0005975]   \n",
       "\n",
       "                       Gene Ontology (cellular component)  \\\n",
       "530860  cell surface [GO:0009986]; division septum [GO...   \n",
       "255285  cell septum [GO:0030428]; cell surface [GO:000...   \n",
       "384236  cell septum [GO:0030428]; cell surface [GO:000...   \n",
       "234761                                                NaN   \n",
       "174689  extracellular region [GO:0005576]; membrane [G...   \n",
       "341946                  extracellular region [GO:0005576]   \n",
       "216385                  extracellular region [GO:0005576]   \n",
       "384873  cytoplasmic vesicle lumen [GO:0060205]; endopl...   \n",
       "226844                                                NaN   \n",
       "216386                  extracellular region [GO:0005576]   \n",
       "\n",
       "                       Gene Ontology (molecular function)  \\\n",
       "530860  glucan endo-1,3-beta-D-glucosidase activity [G...   \n",
       "255285  glucan endo-1,3-beta-D-glucosidase activity [G...   \n",
       "384236  glucan endo-1,3-beta-D-glucosidase activity [G...   \n",
       "234761                    cellulase activity [GO:0008810]   \n",
       "174689  calcium ion binding [GO:0005509]; mannosyl-oli...   \n",
       "341946                  glutaminase activity [GO:0004359]   \n",
       "216385  carbohydrate binding [GO:0030246]; hyaluronate...   \n",
       "384873  calcium ion binding [GO:0005509]; mannosyl-oli...   \n",
       "226844                  licheninase activity [GO:0042972]   \n",
       "216386  carbohydrate binding [GO:0030246]; hyaluronate...   \n",
       "\n",
       "                                       Gene Ontology (GO)  EC number  \\\n",
       "530860  cell surface [GO:0009986]; division septum [GO...   3.2.1.39   \n",
       "255285  cell septum [GO:0030428]; cell surface [GO:000...   3.2.1.39   \n",
       "384236  cell septum [GO:0030428]; cell surface [GO:000...   3.2.1.39   \n",
       "234761  cellulase activity [GO:0008810]; cellulose cat...    3.2.1.4   \n",
       "174689  extracellular region [GO:0005576]; membrane [G...  3.2.1.113   \n",
       "341946  extracellular region [GO:0005576]; glutaminase...    3.5.1.2   \n",
       "216385  extracellular region [GO:0005576]; carbohydrat...    4.2.2.1   \n",
       "384873  cytoplasmic vesicle lumen [GO:0060205]; endopl...  3.2.1.113   \n",
       "226844  licheninase activity [GO:0042972]; carbohydrat...   3.2.1.73   \n",
       "216386  extracellular region [GO:0005576]; carbohydrat...    4.2.2.1   \n",
       "\n",
       "                                                 Sequence Date of creation  \\\n",
       "530860  MSSYLRSFIFGLLTISLAQCSPILKDTKDTKFSTGSNISLKKRDTN...       2004-03-29   \n",
       "255285  MQLYLTLLFLLSFVECSYISFISNNADEILETDLIETLSYATLTVG...       1996-10-01   \n",
       "384236  MLFKSVLLSTLIAVQALAENSAHQEIVTVTKTTHISNPCLENYAKK...       2014-07-09   \n",
       "234761  MVEKRKIFTVLCACGIGFTSYTSCISAAAIDNDTLINNGHKINSSI...       1992-12-01   \n",
       "174689  MKGSPVLAVCAAALTLIPSVVALPMIDKDLPSSISQSSDKTSQERA...       2015-04-29   \n",
       "341946  MMHFLSFCLSVASLVSYAGAASTFSPARPPALPLAVKSPYLSTWLS...       2015-12-09   \n",
       "216385  MFGTPSRRTFLTASALSAMALAASPTVTDAIAAPGPDSWSALCERW...       2011-06-28   \n",
       "384873  MRTLLALAALAGFAAARVPAYAITRPVMRSDSRADAVKEAFSHAWD...       2010-06-15   \n",
       "226844  MRKNRGFSFSSKAVMMCCLAFLLIPASFAFAAPNKPFPQHTTYTSG...       1990-11-01   \n",
       "216386  MFGTPSRRTFLTASALSAMALAASPTVTDAIAAPGPDSWSALCERW...       2011-06-28   \n",
       "\n",
       "                                     Gene3D                      Pfam  \\\n",
       "530860            1.10.287.1170;1.20.5.420;  PF10645;PF17652;PF03639;   \n",
       "255285                          1.20.5.420;          PF17652;PF03639;   \n",
       "384236            1.10.287.1170;1.20.5.420;          PF17652;PF03639;   \n",
       "234761                          1.50.10.10;                  PF01270;   \n",
       "174689                          1.50.10.10;                  PF01532;   \n",
       "341946                                  NaN  PF08760;PF16335;PF17168;   \n",
       "216385  2.70.98.10;1.50.10.100;2.60.220.10;          PF02278;PF08124;   \n",
       "384873                          1.50.10.10;                  PF01532;   \n",
       "226844                          1.50.10.10;                  PF01270;   \n",
       "216386  2.70.98.10;1.50.10.100;2.60.220.10;  PF02278;PF02884;PF08124;   \n",
       "\n",
       "        query_index  distance  \n",
       "530860            0  0.999972  \n",
       "255285            0  0.999969  \n",
       "384236            0  0.999966  \n",
       "234761            0  0.999928  \n",
       "174689            0  0.999926  \n",
       "341946            0  0.999924  \n",
       "216385            0  0.999923  \n",
       "384873            0  0.999922  \n",
       "226844            0  0.999921  \n",
       "216386            0  0.999921  "
      ]
     },
     "execution_count": 23,
     "metadata": {},
     "output_type": "execute_result"
    }
   ],
   "source": [
    "meta"
   ]
  },
  {
   "cell_type": "code",
   "execution_count": 16,
   "metadata": {},
   "outputs": [
    {
     "data": {
      "text/plain": [
       "array(['PF10645;PF17652;PF03639;', 'PF17652;PF03639;', 'PF17652;PF03639;',\n",
       "       'PF01270;', 'PF01532;', 'PF08760;PF16335;PF17168;',\n",
       "       'PF02278;PF08124;', 'PF01532;', 'PF01270;',\n",
       "       'PF02278;PF02884;PF08124;'], dtype=object)"
      ]
     },
     "execution_count": 16,
     "metadata": {},
     "output_type": "execute_result"
    }
   ],
   "source": [
    "col_meta_data[I[0]]"
   ]
  },
  {
   "cell_type": "code",
   "execution_count": 42,
   "metadata": {},
   "outputs": [
    {
     "data": {
      "text/plain": [
       "'PF07380;'"
      ]
     },
     "execution_count": 42,
     "metadata": {},
     "output_type": "execute_result"
    }
   ],
   "source": [
    "meta_query"
   ]
  },
  {
   "cell_type": "code",
   "execution_count": 52,
   "metadata": {},
   "outputs": [
    {
     "data": {
      "text/plain": [
       "['PF07380', ' PF04596', '']"
      ]
     },
     "execution_count": 52,
     "metadata": {},
     "output_type": "execute_result"
    }
   ],
   "source": [
    "test[0].split(';')"
   ]
  },
  {
   "cell_type": "code",
   "execution_count": 44,
   "metadata": {},
   "outputs": [],
   "source": [
    "test = ['PF07380; PF04596;']"
   ]
  },
  {
   "cell_type": "code",
   "execution_count": 43,
   "metadata": {},
   "outputs": [
    {
     "data": {
      "text/plain": [
       "array(['PF07380;', 'PF07380;', 'PF04596;', 'PF04596;', 'PF05385;',\n",
       "       'PF04596;', 'PF04776;', 'PF04596;', 'PF03396;', 'PF01104;',\n",
       "       'PF17378;', 'PF01104;', 'PF03113;', 'PF04596;', 'PF02711;',\n",
       "       'PF10705;', 'PF01104;', 'PF00803;', 'PF03113;', 'PF07346;',\n",
       "       'PF04866;', 'PF04866;', 'PF17495;', 'PF19186;', 'PF00803;',\n",
       "       'PF01677;', 'PF01840;', 'PF07349;', 'PF02711;', 'PF05846;',\n",
       "       'PF02711;', 'PF04866;', 'PF05385;', 'PF01104;', 'PF01104;',\n",
       "       'PF00803;', 'PF17467;', 'PF17467;', 'PF01492;', 'PF02711;',\n",
       "       'PF03025;', 'PF12133;', 'PF16093;', 'PF05864;', 'PF01492;',\n",
       "       'PF10256;', 'PF01671;', 'PF17575;', 'PF17467;', 'PF08550;',\n",
       "       'PF01840;', 'PF17378;', 'PF01671;', 'PF04866;', 'PF10705;',\n",
       "       'PF10705;', 'PF10705;', 'PF05112;', 'PF11986;', 'PF07234;',\n",
       "       'PF05288;', 'PF01840;', 'PF03338;', 'PF01671;', 'PF08591;',\n",
       "       'PF04318;', 'PF03113;', 'PF17571;', 'PF04714;', 'PF10256;',\n",
       "       'PF07349;', 'PF02725;', 'PF04776;', 'PF10718;', 'PF15063;',\n",
       "       'PF05288;', 'PF04528;', 'PF03113;', 'PF08633;', 'PF02454;',\n",
       "       'PF09482;', 'PF05864;', 'PF04242;', 'PF19182;', 'PF03369;',\n",
       "       'PF03338;', 'PF04866;', 'PF01307;', 'PF15952;', 'PF17377;',\n",
       "       'PF12093;', 'PF15174;', 'PF01840;', 'PF04767;', 'PF04767;',\n",
       "       'PF15700;', 'PF04580;', 'PF07401;', 'PF04767;', 'PF10718;',\n",
       "       'PF06822;', 'PF04318;', 'PF03338;', 'PF02957;', 'PF04662;',\n",
       "       'PF09591;', 'PF06336;', 'PF02718;', 'PF03049;', 'PF02725;',\n",
       "       'PF03722;', 'PF17305;', 'PF01492;', 'PF00601;', 'PF04537;',\n",
       "       'PF04537;', 'PF17412;', 'PF07192;', 'PF02725;', 'PF03579;',\n",
       "       'PF05393;', 'PF14948;', 'PF03579;', 'PF05288;', 'PF13040;',\n",
       "       'PF17473;', 'PF04318;', 'PF03113;', 'PF07809;', 'PF19073;',\n",
       "       'PF10705;', 'PF04528;', 'PF11986;', 'PF09591;', 'PF04948;',\n",
       "       'PF01677;', 'PF04318;', 'PF17057;', 'PF17058;', 'PF03579;',\n",
       "       'PF00601;', 'PF05613;', 'PF15732;', 'PF03581;', 'PF02711;',\n",
       "       'PF17058;', 'PF08998;', 'PF06385;', 'PF15214;', 'PF06112;',\n",
       "       'PF00527;', 'PF15844;', 'PF02711;', 'PF03206;', 'PF17058;',\n",
       "       'PF07401;', 'PF06726;', 'PF06726;', 'PF06726;', 'PF06726;',\n",
       "       'PF06726;', 'PF06726;', 'PF06112;', 'PF09399;', 'PF15179;',\n",
       "       'PF03438;', 'PF17062;', 'PF17058;', 'PF17058;', 'PF17058;',\n",
       "       'PF03438;', 'PF17062;', 'PF11986;', 'PF15787;', 'PF09474;',\n",
       "       'PF02711;', 'PF09474;', 'PF05776;', 'PF09474;', 'PF09591;',\n",
       "       'PF10705;', 'PF17685;', 'PF19186;', 'PF05776;', 'PF00601;',\n",
       "       'PF04872;', 'PF00601;', 'PF05256;', 'PF08591;', 'PF02711;',\n",
       "       'PF06227;', 'PF01659;', 'PF12133;', 'PF06227;', 'PF03338;',\n",
       "       'PF03581;', 'PF15226;', 'PF05776;', 'PF05776;', 'PF06856;',\n",
       "       'PF17062;', 'PF20543;', 'PF11099;', 'PF06385;', 'PF02027;',\n",
       "       'PF03581;', 'PF08137;', 'PF00601;', 'PF04823;', 'PF03538;',\n",
       "       'PF00601;', 'PF03579;', 'PF04318;', 'PF15502;', 'PF03555;',\n",
       "       'PF17487;', 'PF04528;', 'PF15068;', 'PF03581;', 'PF03187;',\n",
       "       'PF06015;', 'PF06015;', 'PF06015;', 'PF02372;', 'PF11561;',\n",
       "       'PF06015;', 'PF11986;', 'PF05864;', 'PF15137;', 'PF00601;',\n",
       "       'PF01677;', 'PF07126;', 'PF10839;', 'PF01659;', 'PF00074;',\n",
       "       'PF00601;', 'PF10718;', 'PF05248;', 'PF03369;', 'PF00601;',\n",
       "       'PF02723;', 'PF03555;', 'PF10256;', 'PF03048;', 'PF03579;',\n",
       "       'PF03048;', 'PF03327;', 'PF08520;', 'PF10705;', 'PF03579;',\n",
       "       'PF01623;', 'PF00601;', 'PF15179;', 'PF04767;', 'PF06074;',\n",
       "       'PF00601;', 'PF03049;', 'PF04764;', 'PF05248;', 'PF03369;',\n",
       "       'PF17083;', 'PF01677;', 'PF00601;', 'PF05321;', 'PF17062;',\n",
       "       'PF02484;', 'PF09631;', 'PF14982;', 'PF03622;', 'PF09591;',\n",
       "       'PF17473;', 'PF00601;', 'PF03538;', 'PF04540;', 'PF07346;',\n",
       "       'PF02484;', 'PF08178;', 'PF15701;', 'PF06931;', 'PF04318;',\n",
       "       'PF08998;', 'PF15701;', 'PF08591;', 'PF15789;', 'PF07380;',\n",
       "       'PF06227;', 'PF10256;', 'PF03581;', 'PF04537;', 'PF01373;',\n",
       "       'PF11986;', 'PF17846;', 'PF00601;', 'PF00601;', 'PF03187;',\n",
       "       'PF00601;', 'PF00601;', 'PF00601;', 'PF11986;', 'PF15834;',\n",
       "       'PF06334;', 'PF06334;', 'PF05864;', 'PF02027;', 'PF00601;',\n",
       "       'PF00601;', 'PF02495;', 'PF00601;', 'PF03277;', 'PF00601;',\n",
       "       'PF00601;', 'PF15068;', 'PF00601;', 'PF00601;', 'PF00601;',\n",
       "       'PF00601;', 'PF12025;', 'PF03538;', 'PF00601;', 'PF00601;',\n",
       "       'PF00601;', 'PF00601;', 'PF00601;', 'PF00601;', 'PF00601;',\n",
       "       'PF00601;', 'PF00739;', 'PF10891;', 'PF02484;', 'PF02718;',\n",
       "       'PF10256;', 'PF05032;', 'PF02711;', 'PF00601;', 'PF00601;',\n",
       "       'PF01677;', 'PF10705;', 'PF05393;', 'PF00601;', 'PF00601;',\n",
       "       'PF02723;', 'PF05321;', 'PF05321;', 'PF03554;', 'PF02476;',\n",
       "       'PF05321;', 'PF05321;', 'PF03025;', 'PF05321;', 'PF05321;',\n",
       "       'PF05321;', 'PF00601;', 'PF05321;', 'PF05321;', 'PF17079;',\n",
       "       'PF05321;', 'PF02053;', 'PF00601;', 'PF04866;', 'PF15063;',\n",
       "       'PF00601;', 'PF05864;', 'PF05864;', 'PF03887;', 'PF06855;',\n",
       "       'PF00601;', 'PF00601;', 'PF08520;', 'PF02444;', 'PF00601;',\n",
       "       'PF00674;', 'PF09591;', 'PF00601;', 'PF10676;', 'PF03139;',\n",
       "       'PF01659;', 'PF00601;', 'PF05961;', 'PF15939;', 'PF04694;',\n",
       "       'PF05256;', 'PF17377;', 'PF00601;', 'PF00601;', 'PF05961;',\n",
       "       'PF17110;', 'PF15107;', 'PF06726;', 'PF04866;', 'PF15925;',\n",
       "       'PF06726;', 'PF01310;', 'PF02957;', 'PF01616;', 'PF00601;',\n",
       "       'PF01310;', 'PF03048;', 'PF01525;', 'PF05614;', 'PF03905;',\n",
       "       'PF17058;', 'PF14960;', 'PF05081;', 'PF00601;', 'PF00601;',\n",
       "       'PF04866;', 'PF00601;', 'PF02454;', 'PF17058;', 'PF03307;',\n",
       "       'PF11430;', 'PF17058;', 'PF01886;', 'PF15502;', 'PF12751;',\n",
       "       'PF17378;', 'PF03955;', 'PF03555;', 'PF03233;', 'PF03555;',\n",
       "       'PF03187;', 'PF03581;', 'PF00601;', 'PF15170;', 'PF03581;',\n",
       "       'PF05815;', 'PF15170;', 'PF00527;', 'PF00601;', 'PF05256;',\n",
       "       'PF05238;', 'PF03257;', 'PF07192;', 'PF07013;', 'PF07013;',\n",
       "       'PF01279;', 'PF03206;', 'PF05774;', 'PF15670;', 'PF06794;',\n",
       "       'PF08998;', 'PF09784;', 'PF06064;', 'PF17330;', 'PF15553;',\n",
       "       'PF06794;', 'PF06856;', 'PF06794;', 'PF05797;', 'PF03187;',\n",
       "       'PF17086;', 'PF10870;', 'PF17473;', 'PF05961;', 'PF00601;',\n",
       "       'PF17365;', 'PF00601;', 'PF17473;', 'PF00601;', 'PF00601;',\n",
       "       'PF00601;', 'PF05961;', 'PF09591;', 'PF00803;', 'PF05864;',\n",
       "       'PF09591;', 'PF00601;', 'PF12133;', 'PF02723;', 'PF01104;',\n",
       "       'PF00601;', 'PF17086;', 'PF12133;', 'PF06851;', 'PF12622;',\n",
       "       'PF17473;', 'PF15221;', 'PF03538;', 'PF09591;', 'PF00601;',\n",
       "       'PF04767;', 'PF04767;', 'PF04496;', 'PF04496;', 'PF00601;',\n",
       "       'PF00601;', 'PF10705;', 'PF11125;', 'PF06227;', 'PF10705;',\n",
       "       'PF00601;', 'PF00601;', 'PF00601;', 'PF00601;', 'PF00601;',\n",
       "       'PF00601;', 'PF00601;', 'PF03187;', 'PF00601;', 'PF10705;',\n",
       "       'PF00601;', 'PF00601;', 'PF00601;', 'PF00601;', 'PF01307;',\n",
       "       'PF05256;', 'PF17330;', 'PF05256;', 'PF05256;', 'PF01492;',\n",
       "       'PF05256;', 'PF05256;', 'PF03049;', 'PF04838;PF11792;', 'PF05256;',\n",
       "       'PF05256;', 'PF03307;', 'PF06726;', 'PF06988;', 'PF00601;',\n",
       "       'PF00601;', 'PF01492;', 'PF02711;', 'PF02027;', 'PF00601;',\n",
       "       'PF00601;', 'PF09591;', 'PF00997;', 'PF00601;', 'PF00601;',\n",
       "       'PF05308;', 'PF02398;', 'PF02711;', 'PF07190;', 'PF00601;',\n",
       "       'PF00601;', 'PF04866;', 'PF17058;', 'PF03025;', 'PF17058;',\n",
       "       'PF04318;', 'PF17058;', 'PF04318;', 'PF03555;', 'PF04866;',\n",
       "       'PF06931;', 'PF17487;', 'PF10705;', 'PF07401;', 'PF07401;',\n",
       "       'PF11986;', 'PF04866;', 'PF15460;', 'PF05393;', 'PF10705;',\n",
       "       'PF15212;', 'PF07401;', 'PF04496;', 'PF06726;', 'PF05256;',\n",
       "       'PF06198;', 'PF15068;', 'PF01840;', 'PF05824;', 'PF12133;',\n",
       "       'PF11986;', 'PF00739;', 'PF08998;', 'PF15662;', 'PF15834;',\n",
       "       'PF11986;', 'PF11986;', 'PF01840;', 'PF13040;', 'PF00918;',\n",
       "       'PF03622;', 'PF03003;', 'PF08520;', 'PF00601;', 'PF03750;',\n",
       "       'PF15068;', 'PF00601;', 'PF10909;', 'PF01775;', 'PF00601;',\n",
       "       'PF03025;', 'PF03581;', 'PF06154;', 'PF10434;', 'PF10341;',\n",
       "       'PF03139;', 'PF06227;', 'PF10256;', 'PF17502;', 'PF00601;',\n",
       "       'PF10757;', 'PF10757;', 'PF10757;', 'PF00601;', 'PF17502;',\n",
       "       'PF03396;', 'PF05418;', 'PF11986;', 'PF08633;', 'PF20543;',\n",
       "       'PF05864;', 'PF05864;', 'PF05864;', 'PF05864;', 'PF00601;',\n",
       "       'PF00601;', 'PF14156;', 'PF20543;', 'PF00601;', 'PF03438;',\n",
       "       'PF11986;', 'PF20543;', 'PF01659;', 'PF02725;', 'PF01801;',\n",
       "       'PF17718;', 'PF10664;', 'PF04785;', 'PF11986;', 'PF12622;',\n",
       "       'PF01492;', 'PF08520;', 'PF06183;', 'PF06183;', 'PF09591;',\n",
       "       'PF04948;', 'PF01307;', 'PF05214;', 'PF06569;', 'PF01893;',\n",
       "       'PF07445;', 'PF02723;', 'PF11289;', 'PF03396;', 'PF05256;',\n",
       "       'PF12494;', 'PF01775;', 'PF06256;', 'PF08135;', 'PF08135;',\n",
       "       'PF07809;', 'PF01104;', 'PF15251;', 'PF17057;', 'PF02725;',\n",
       "       'PF17672;', 'PF10256;', 'PF14313;PF13008;', 'PF02398;', 'PF10674;',\n",
       "       'PF11655;', 'PF15952;', 'PF00601;', 'PF15163;', 'PF00601;',\n",
       "       'PF15226;', 'PF06385;', 'PF01525;', 'PF15150;', 'PF08227;',\n",
       "       'PF06931;', 'PF14953;', 'PF03187;', 'PF14176;', 'PF17442;',\n",
       "       'PF17382;', 'PF02718;', 'PF03042;', 'PF04135;', 'PF05878;',\n",
       "       'PF03555;', 'PF03555;', 'PF03042;', 'PF10664;', 'PF10839;',\n",
       "       'PF11718;', 'PF00601;', 'PF04496;', 'PF02444;', 'PF00601;',\n",
       "       'PF01104;', 'PF17062;', 'PF17062;', 'PF00601;', 'PF12452;',\n",
       "       'PF00601;', 'PF01848;', 'PF01492;', 'PF17062;', 'PF00601;',\n",
       "       'PF15670;', 'PF03206;', 'PF07450;', 'PF17062;', 'PF06072;',\n",
       "       'PF05824;', 'PF17330;', 'PF15925;', 'PF17496;', 'PF06569;',\n",
       "       'PF15505;', 'PF02723;', 'PF08135;', 'PF03581;', 'PF09591;',\n",
       "       'PF15925;', 'PF00228;', 'PF04538;', 'PF03887;', 'PF06307;',\n",
       "       'PF08135;', 'PF15152;', 'PF07809;', 'PF05959;', 'PF01659;',\n",
       "       'PF00559;', 'PF15251;', 'PF05256;', 'PF00721;', 'PF04517;',\n",
       "       'PF05256;', 'PF03025;', 'PF14953;', 'PF06794;', 'PF11986;',\n",
       "       'PF08998;', 'PF02711;', 'PF06794;', 'PF00601;', 'PF14948;',\n",
       "       'PF07436;', 'PF00601;', 'PF04318;', 'PF15435;', 'PF00601;',\n",
       "       'PF17110;', 'PF08227;', 'PF04537;', 'PF03396;', 'PF09707;',\n",
       "       'PF19073;', 'PF03555;', 'PF00601;', 'PF08573;', 'PF02476;',\n",
       "       'PF15365;', 'PF11986;', 'PF06129;', 'PF06129;', 'PF06129;',\n",
       "       'PF07126;', 'PF00601;', 'PF00601;', 'PF02998;', 'PF01893;',\n",
       "       'PF01310;', 'PF04785;', 'PF03206;', 'PF03206;', 'PF15170;',\n",
       "       'PF00601;', 'PF02723;', 'PF11050;', 'PF10870;', 'PF03376;',\n",
       "       'PF01691;', 'PF01840;', 'PF11487;', 'PF15925;', 'PF15844;',\n",
       "       'PF06729;', 'PF02027;', 'PF15925;', 'PF11092;', 'PF10178;',\n",
       "       'PF05950;', 'PF07401;', 'PF00601;', 'PF03206;', 'PF04538;',\n",
       "       'PF05950;', 'PF00601;', 'PF03187;', 'PF05112;', 'PF00527;',\n",
       "       'PF10471;', 'PF19182;', 'PF03206;', 'PF02723;', 'PF10802;',\n",
       "       'PF01893;', 'PF17309;', 'PF11986;', 'PF03206;', 'PF02723;',\n",
       "       'PF10664;', 'PF11435;', 'PF15163;', 'PF05248;', 'PF11435;',\n",
       "       'PF10705;', 'PF04318;', 'PF11435;', 'PF11435;', 'PF15670;',\n",
       "       'PF11435;', 'PF05341;', 'PF04660;', 'PF11092;', 'PF01616;',\n",
       "       'PF05256;', 'PF03622;', 'PF12025;', 'PF05273;', 'PF02723;',\n",
       "       'PF15701;', 'PF05603;', 'PF05256;', 'PF05256;', 'PF09888;',\n",
       "       'PF05256;', 'PF05256;', 'PF03887;', 'PF03887;', 'PF03887;',\n",
       "       'PF03887;', 'PF03887;', 'PF03887;', 'PF03887;', 'PF03887;',\n",
       "       'PF03887;', 'PF15338;', 'PF08633;', 'PF03887;', 'PF03887;',\n",
       "       'PF03887;', 'PF03887;', 'PF03887;', 'PF03887;', 'PF03887;',\n",
       "       'PF03887;', 'PF08550;', 'PF02725;', 'PF06726;', 'PF15844;',\n",
       "       'PF10332;', 'PF04866;', 'PF03376;', 'PF10332;', 'PF20543;',\n",
       "       'PF10705;', 'PF10940;', 'PF16821;', 'PF01383;', 'PF10664;',\n",
       "       'PF04537;', 'PF01525;', 'PF08137;', 'PF00527;', 'PF10664;',\n",
       "       'PF01802;', 'PF00601;', 'PF17530;', 'PF15117;', 'PF03257;',\n",
       "       'PF04866;', 'PF13971;', 'PF04538;', 'PF03206;', 'PF08537;',\n",
       "       'PF04999;', 'PF00601;', 'PF04596;', 'PF03206;', 'PF15701;',\n",
       "       'PF03206;', 'PF04753;', 'PF04753;', 'PF11986;', 'PF00558;',\n",
       "       'PF01307;', 'PF08617;', 'PF03139;', 'PF03396;', 'PF03396;',\n",
       "       'PF02723;', 'PF03327;', 'PF01307;', 'PF06569;', 'PF06855;',\n",
       "       'PF03206;', 'PF12622;', 'PF08691;', 'PF09026;', 'PF05273;',\n",
       "       'PF05273;', 'PF10295;', 'PF10922;', 'PF05950;', 'PF04694;',\n",
       "       'PF14475;', 'PF11120;', 'PF11120;', 'PF05273;', 'PF02711;',\n",
       "       'PF08227;', 'PF15503;', 'PF02398;', 'PF05256;', 'PF15895;',\n",
       "       'PF11435;', 'PF17576;', 'PF03206;', 'PF00558;', 'PF06227;',\n",
       "       'PF04534;', 'PF00646;', 'PF04540;', 'PF04540;', 'PF12452;',\n",
       "       'PF17330;', 'PF17412;', 'PF17636;', 'PF17636;', 'PF10705;',\n",
       "       'PF05839;', 'PF16821;', 'PF12829;', 'PF15098;', 'PF15662;',\n",
       "       'PF03042;', 'PF17062;', 'PF04785;', 'PF14982;', 'PF05878;',\n",
       "       'PF12238;', 'PF15063;', 'PF01635;', 'PF10664;', 'PF04662;',\n",
       "       'PF02725;', 'PF05603;', 'PF05440;', 'PF02723;', 'PF03042;',\n",
       "       'PF17086;', 'PF05720;', 'PF03187;', 'PF06227;', 'PF05720;',\n",
       "       'PF03038;', 'PF09591;', 'PF17429;', 'PF17083;', 'PF11486;',\n",
       "       'PF03804;', 'PF17399;', 'PF00601;', 'PF00601;', 'PF00601;',\n",
       "       'PF15859;', 'PF07753;', 'PF06256;', 'PF06033;', 'PF11986;',\n",
       "       'PF15435;', 'PF05256;', 'PF15938;', 'PF11986;', 'PF05256;',\n",
       "       'PF06301;', 'PF03049;', 'PF00601;', 'PF11986;', 'PF03042;',\n",
       "       'PF01133;', 'PF00228;', 'PF06569;', 'PF06569;', 'PF06569;',\n",
       "       'PF08617;', 'PF17576;', 'PF01616;', 'PF15925;', 'PF03139;',\n",
       "       'PF10922;', 'PF04785;', 'PF03042;', 'PF04793;', 'PF02341;',\n",
       "       'PF03139;', 'PF15505;', 'PF17718;', 'PF02479;', 'PF06855;'],\n",
       "      dtype=object)"
      ]
     },
     "execution_count": 43,
     "metadata": {},
     "output_type": "execute_result"
    }
   ],
   "source": [
    "col_meta_data[I[i]]"
   ]
  },
  {
   "cell_type": "code",
   "execution_count": 37,
   "metadata": {},
   "outputs": [],
   "source": [
    "meta = col_meta_data[I[i]]"
   ]
  },
  {
   "cell_type": "code",
   "execution_count": 61,
   "metadata": {},
   "outputs": [],
   "source": [
    "#Get metadata for the 1st nearest neighbor\n",
    "near_ids = []\n",
    "for i in range(I.shape[0]):\n",
    "    meta = col_meta_data[I[i]]\n",
    "    meta_query = new_proteins.iloc[i][column]\n",
    "    # if no annotation for the query, skip\n",
    "    \n",
    "    if meta_query is np.nan:\n",
    "        continue\n",
    "    # create boolean mask for proteins that have the same annotation as the query\n",
    "    # print(meta_query)\n",
    "    mask_exact = [meta_query in meta[k] for k in range(len(meta))]\n",
    "    # partial hits\n",
    "    if meta_query.count(';') > 1:\n",
    "        available_pfs = meta_query.split(';')\n",
    "        mask_partial = [[available_pfs[j] in meta[k] for j in range(len(available_pfs) - 1)] for k in range(len(meta))]\n",
    "    near_ids.append({\n",
    "        'meta': meta,\n",
    "        'meta_query': meta_query,\n",
    "        'exact': mask_exact,\n",
    "        'partial': mask_partial,\n",
    "        'D_i': D[i]\n",
    "    })   \n",
    "\n",
    "# near_ids = np.array(near_ids)"
   ]
  },
  {
   "cell_type": "code",
   "execution_count": 78,
   "metadata": {},
   "outputs": [
    {
     "data": {
      "text/plain": [
       "126"
      ]
     },
     "execution_count": 78,
     "metadata": {},
     "output_type": "execute_result"
    }
   ],
   "source": [
    "sum(['PF14306' in near_ids[1]['meta'][k] for k in range(len(near_ids[0]['meta']))])"
   ]
  },
  {
   "cell_type": "code",
   "execution_count": 74,
   "metadata": {},
   "outputs": [
    {
     "data": {
      "text/plain": [
       "'PF01583;PF01747;PF14306;'"
      ]
     },
     "execution_count": 74,
     "metadata": {},
     "output_type": "execute_result"
    }
   ],
   "source": [
    "near_ids[1]['meta_query']"
   ]
  },
  {
   "cell_type": "code",
   "execution_count": 79,
   "metadata": {},
   "outputs": [
    {
     "data": {
      "text/plain": [
       "[False, True, True]"
      ]
     },
     "execution_count": 79,
     "metadata": {},
     "output_type": "execute_result"
    }
   ],
   "source": [
    "near_ids[1]['partial'][70]"
   ]
  },
  {
   "cell_type": "code",
   "execution_count": 64,
   "metadata": {},
   "outputs": [
    {
     "data": {
      "text/plain": [
       "16"
      ]
     },
     "execution_count": 64,
     "metadata": {},
     "output_type": "execute_result"
    }
   ],
   "source": [
    "len(near_ids[0]['meta_query'])"
   ]
  },
  {
   "cell_type": "code",
   "execution_count": 32,
   "metadata": {},
   "outputs": [
    {
     "data": {
      "text/plain": [
       "1000"
      ]
     },
     "execution_count": 32,
     "metadata": {},
     "output_type": "execute_result"
    }
   ],
   "source": [
    "len(near_ids[0])"
   ]
  },
  {
   "cell_type": "code",
   "execution_count": 16,
   "metadata": {},
   "outputs": [],
   "source": [
    "near_ids_full = []\n",
    "for i in range(I.shape[0]):\n",
    "    meta = col_lookup.iloc[I[i]]\n",
    "    near_ids_full.append(meta)"
   ]
  },
  {
   "cell_type": "code",
   "execution_count": 17,
   "metadata": {},
   "outputs": [],
   "source": [
    "df_near_ids_full = pd.DataFrame(columns=near_ids_full[0].columns)\n",
    "\n",
    "# Append each Series to the DataFrame\n",
    "for series in near_ids_full:\n",
    "    df_near_ids_full = df_near_ids_full.append(series, ignore_index=True)"
   ]
  },
  {
   "cell_type": "code",
   "execution_count": 19,
   "metadata": {},
   "outputs": [
    {
     "data": {
      "text/plain": [
       "(2295, 1000)"
      ]
     },
     "execution_count": 19,
     "metadata": {},
     "output_type": "execute_result"
    }
   ],
   "source": [
    "I.shape"
   ]
  },
  {
   "cell_type": "code",
   "execution_count": 18,
   "metadata": {},
   "outputs": [
    {
     "data": {
      "text/plain": [
       "(2295, 1000)"
      ]
     },
     "execution_count": 18,
     "metadata": {},
     "output_type": "execute_result"
    }
   ],
   "source": [
    "D.shape"
   ]
  },
  {
   "cell_type": "code",
   "execution_count": 22,
   "metadata": {},
   "outputs": [],
   "source": [
    "# flatten D so that the distances are in a single column\n",
    "D_flat = D.flatten()"
   ]
  },
  {
   "cell_type": "code",
   "execution_count": 23,
   "metadata": {},
   "outputs": [
    {
     "data": {
      "text/plain": [
       "0.9999694"
      ]
     },
     "execution_count": 23,
     "metadata": {},
     "output_type": "execute_result"
    }
   ],
   "source": [
    "D[0, 1]"
   ]
  },
  {
   "cell_type": "code",
   "execution_count": 25,
   "metadata": {},
   "outputs": [
    {
     "data": {
      "text/plain": [
       "0.9999694"
      ]
     },
     "execution_count": 25,
     "metadata": {},
     "output_type": "execute_result"
    }
   ],
   "source": [
    "D_flat[1]"
   ]
  },
  {
   "cell_type": "code",
   "execution_count": 26,
   "metadata": {},
   "outputs": [],
   "source": [
    "# in reality, we also need the D score for each of the nearest neighbors\n",
    "df_near_ids_full['D'] = D_flat"
   ]
  },
  {
   "cell_type": "code",
   "execution_count": 53,
   "metadata": {},
   "outputs": [
    {
     "data": {
      "text/plain": [
       "'PF17652;PF03639;'"
      ]
     },
     "execution_count": 53,
     "metadata": {},
     "output_type": "execute_result"
    }
   ],
   "source": [
    "df_near_ids_full.iloc[2]['Pfam']"
   ]
  },
  {
   "cell_type": "code",
   "execution_count": 51,
   "metadata": {},
   "outputs": [
    {
     "data": {
      "text/plain": [
       "1"
      ]
     },
     "execution_count": 51,
     "metadata": {},
     "output_type": "execute_result"
    }
   ],
   "source": [
    "# check if multiple pfams in the same protein\n",
    "df_near_ids_full.iloc[3]['Pfam'].count(';')"
   ]
  },
  {
   "cell_type": "code",
   "execution_count": null,
   "metadata": {},
   "outputs": [],
   "source": []
  }
 ],
 "metadata": {
  "kernelspec": {
   "display_name": "protein-vec",
   "language": "python",
   "name": "python3"
  },
  "language_info": {
   "codemirror_mode": {
    "name": "ipython",
    "version": 3
   },
   "file_extension": ".py",
   "mimetype": "text/x-python",
   "name": "python",
   "nbconvert_exporter": "python",
   "pygments_lexer": "ipython3",
   "version": "3.7.16"
  }
 },
 "nbformat": 4,
 "nbformat_minor": 2
}

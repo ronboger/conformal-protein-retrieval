{
 "cells": [
  {
   "cell_type": "code",
   "execution_count": 2,
   "metadata": {},
   "outputs": [],
   "source": [
    "from sklearn.manifold import TSNE\n",
    "import matplotlib.pyplot as plt\n",
    "import seaborn as sns\n",
    "import numpy as np\n",
    "import pandas as pd\n",
    "from collections import defaultdict\n",
    "import faiss"
   ]
  },
  {
   "cell_type": "code",
   "execution_count": 3,
   "metadata": {},
   "outputs": [],
   "source": [
    "# Load in uniprot meta data\n",
    "meta_data_new = pd.read_csv('/home/ron/protein-vec/src_run/data/uniprotkb_AND_reviewed_true_2023_07_03.tsv', sep='\\t')\n",
    "lookup_proteins_meta = pd.read_csv('/home/ron/protein-vec/src_run/protein_vec_embeddings/lookup_embeddings_meta_data.tsv', sep=\"\\t\")"
   ]
  },
  {
   "cell_type": "code",
   "execution_count": 4,
   "metadata": {},
   "outputs": [],
   "source": [
    "# Now filter for the proteins that were newly discovered\n",
    "new_proteins = meta_data_new[meta_data_new['Date of creation'] > '2022-05-25'].reset_index(drop=True)\n",
    "# verify that new protein Entry is not in the lookup database Entry\n",
    "print(f\"new proteins in lookup_proteins meta {new_proteins['Entry'].isin(lookup_proteins_meta['Entry']).sum()}\")"
   ]
  },
  {
   "cell_type": "code",
   "execution_count": 10,
   "metadata": {},
   "outputs": [],
   "source": [
    "# TODO: not sure what I was doing here\n",
    "\n",
    "# get proteins in meta_data_new that are not in lookup_proteins_meta\n",
    "new_proteins_not_in_lookup = new_proteins[~new_proteins['Entry'].isin(lookup_proteins_meta['Entry'])].reset_index(drop=True)\n",
    "len(new_proteins_not_in_lookup), len(new_proteins)"
   ]
  },
  {
   "cell_type": "code",
   "execution_count": 7,
   "metadata": {},
   "outputs": [],
   "source": [
    "lookup_embeddings = np.load('/home/ron/protein-vec/src_run/protein_vec_embeddings/lookup_embeddings.npy')"
   ]
  },
  {
   "cell_type": "code",
   "execution_count": 8,
   "metadata": {},
   "outputs": [
    {
     "ename": "FileNotFoundError",
     "evalue": "[Errno 2] No such file or directory: '/home/ron/protein-vec/src_run/protein_vec_embeddings/new_protein_embeddings.npy'",
     "output_type": "error",
     "traceback": [
      "\u001b[0;31m---------------------------------------------------------------------------\u001b[0m",
      "\u001b[0;31mFileNotFoundError\u001b[0m                         Traceback (most recent call last)",
      "\u001b[0;32m/tmp/ipykernel_4001500/1409974845.py\u001b[0m in \u001b[0;36m<module>\u001b[0;34m\u001b[0m\n\u001b[0;32m----> 1\u001b[0;31m \u001b[0mquery_embeddings\u001b[0m \u001b[0;34m=\u001b[0m \u001b[0mnp\u001b[0m\u001b[0;34m.\u001b[0m\u001b[0mload\u001b[0m\u001b[0;34m(\u001b[0m\u001b[0;34m'/home/ron/protein-vec/src_run/protein_vec_embeddings/new_protein_embeddings.npy'\u001b[0m\u001b[0;34m)\u001b[0m\u001b[0;34m\u001b[0m\u001b[0;34m\u001b[0m\u001b[0m\n\u001b[0m",
      "\u001b[0;32m~/miniconda3/envs/protein-vec/lib/python3.7/site-packages/numpy/lib/npyio.py\u001b[0m in \u001b[0;36mload\u001b[0;34m(file, mmap_mode, allow_pickle, fix_imports, encoding)\u001b[0m\n\u001b[1;32m    415\u001b[0m             \u001b[0mown_fid\u001b[0m \u001b[0;34m=\u001b[0m \u001b[0;32mFalse\u001b[0m\u001b[0;34m\u001b[0m\u001b[0;34m\u001b[0m\u001b[0m\n\u001b[1;32m    416\u001b[0m         \u001b[0;32melse\u001b[0m\u001b[0;34m:\u001b[0m\u001b[0;34m\u001b[0m\u001b[0;34m\u001b[0m\u001b[0m\n\u001b[0;32m--> 417\u001b[0;31m             \u001b[0mfid\u001b[0m \u001b[0;34m=\u001b[0m \u001b[0mstack\u001b[0m\u001b[0;34m.\u001b[0m\u001b[0menter_context\u001b[0m\u001b[0;34m(\u001b[0m\u001b[0mopen\u001b[0m\u001b[0;34m(\u001b[0m\u001b[0mos_fspath\u001b[0m\u001b[0;34m(\u001b[0m\u001b[0mfile\u001b[0m\u001b[0;34m)\u001b[0m\u001b[0;34m,\u001b[0m \u001b[0;34m\"rb\"\u001b[0m\u001b[0;34m)\u001b[0m\u001b[0;34m)\u001b[0m\u001b[0;34m\u001b[0m\u001b[0;34m\u001b[0m\u001b[0m\n\u001b[0m\u001b[1;32m    418\u001b[0m             \u001b[0mown_fid\u001b[0m \u001b[0;34m=\u001b[0m \u001b[0;32mTrue\u001b[0m\u001b[0;34m\u001b[0m\u001b[0;34m\u001b[0m\u001b[0m\n\u001b[1;32m    419\u001b[0m \u001b[0;34m\u001b[0m\u001b[0m\n",
      "\u001b[0;31mFileNotFoundError\u001b[0m: [Errno 2] No such file or directory: '/home/ron/protein-vec/src_run/protein_vec_embeddings/new_protein_embeddings.npy'"
     ]
    }
   ],
   "source": [
    "query_embeddings = np.load('/home/ron/protein-vec/src_run/protein_vec_embeddings/new_protein_embeddings.npy')"
   ]
  },
  {
   "cell_type": "code",
   "execution_count": 6,
   "metadata": {},
   "outputs": [],
   "source": [
    "column = 'Pfam'"
   ]
  },
  {
   "cell_type": "code",
   "execution_count": 10,
   "metadata": {},
   "outputs": [],
   "source": [
    "# select proteins and their embeddings only for proteins that have a Pfam domain\n",
    "col_proteins_meta = lookup_proteins_meta[~lookup_proteins_meta[column].isnull()]\n",
    "col_embeddings = embeddings[col_proteins_meta.index]\n",
    "# drop index to avoid confusion\n",
    "col_proteins_meta = col_proteins_meta.reset_index(drop=True)"
   ]
  },
  {
   "cell_type": "code",
   "execution_count": 11,
   "metadata": {},
   "outputs": [
    {
     "data": {
      "text/plain": [
       "(517951, 517951)"
      ]
     },
     "execution_count": 11,
     "metadata": {},
     "output_type": "execute_result"
    }
   ],
   "source": [
    "len(col_proteins_meta), len(col_embeddings)"
   ]
  },
  {
   "cell_type": "code",
   "execution_count": 17,
   "metadata": {},
   "outputs": [],
   "source": [
    "# split into train and test set and get the respective embeddings (using the index of the proteins)\n",
    "np.random.seed(0)\n",
    "# col_lookup = col_proteins_meta.sample(frac=0.8)\n",
    "# col_query = col_proteins_meta[~col_proteins_meta.index.isin(col_lookup.index)]\n",
    "\n",
    "# select new proteins for the query set\n",
    "col_query = new_proteins\n",
    "# select 10000 proteins for the lookup set that aren't in the query set\n",
    "col_lookup = col_proteins_meta[~col_proteins_meta['Entry'].isin(col_query['Entry'])].sample(n=10000)\n",
    "\n",
    "\n",
    "# select 10000 proteins for the query set and the rest for the lookup set\n",
    "# col_lookup = col_proteins_meta.sample(n=10000)\n",
    "# col_query = col_proteins_meta[~col_proteins_meta.index.isin(col_lookup.index)]\n",
    "\n",
    "\n",
    "\n",
    "col_lookup_embeddings = col_embeddings[col_lookup.index]\n",
    "col_query_embeddings = col_embeddings[col_query.index]\n"
   ]
  },
  {
   "cell_type": "code",
   "execution_count": 18,
   "metadata": {},
   "outputs": [],
   "source": [
    "col_meta_data = col_lookup[column].values"
   ]
  },
  {
   "cell_type": "code",
   "execution_count": 19,
   "metadata": {},
   "outputs": [],
   "source": [
    "def load_database(lookup_database):\n",
    "    # Build an indexed database\n",
    "    d = lookup_database.shape[1]\n",
    "    index = faiss.IndexFlatIP(d)\n",
    "    faiss.normalize_L2(lookup_database)\n",
    "    index.add(lookup_database)\n",
    "\n",
    "    return index\n",
    "\n",
    "def query(index, queries, k=10):\n",
    "    faiss.normalize_L2(queries)\n",
    "    D, I = index.search(queries, k)\n",
    "\n",
    "    return (D, I)"
   ]
  },
  {
   "cell_type": "code",
   "execution_count": 20,
   "metadata": {},
   "outputs": [],
   "source": [
    "# load database\n",
    "lookup_database = load_database(col_lookup_embeddings)\n",
    "\n",
    "# Query for the 1st nearest neighbor\n",
    "k = 10000\n",
    "D, I = query(lookup_database, col_query_embeddings, k)"
   ]
  },
  {
   "cell_type": "code",
   "execution_count": 23,
   "metadata": {},
   "outputs": [
    {
     "data": {
      "text/plain": [
       "(0.9997416, 6.896185e-05)"
      ]
     },
     "execution_count": 23,
     "metadata": {},
     "output_type": "execute_result"
    }
   ],
   "source": [
    "np.mean(D), np.std(D)"
   ]
  },
  {
   "cell_type": "code",
   "execution_count": 24,
   "metadata": {},
   "outputs": [],
   "source": [
    "# normalize D to a z-score\n",
    "D_z = (D - np.mean(D)) / np.std(D)"
   ]
  },
  {
   "cell_type": "code",
   "execution_count": 31,
   "metadata": {},
   "outputs": [
    {
     "data": {
      "text/plain": [
       "(2350, 10000)"
      ]
     },
     "execution_count": 31,
     "metadata": {},
     "output_type": "execute_result"
    }
   ],
   "source": [
    "I.shape"
   ]
  },
  {
   "cell_type": "code",
   "execution_count": 37,
   "metadata": {},
   "outputs": [
    {
     "data": {
      "text/plain": [
       "array([ 2.5963974,  2.413163 ,  2.3673544, ..., -2.3604398, -2.4831722,\n",
       "       -2.7804961], dtype=float32)"
      ]
     },
     "execution_count": 37,
     "metadata": {},
     "output_type": "execute_result"
    }
   ],
   "source": [
    "D_z[0]"
   ]
  },
  {
   "cell_type": "code",
   "execution_count": 32,
   "metadata": {},
   "outputs": [
    {
     "data": {
      "text/plain": [
       "(2350, 10000)"
      ]
     },
     "execution_count": 32,
     "metadata": {},
     "output_type": "execute_result"
    }
   ],
   "source": [
    "(D_z > 3).shape"
   ]
  },
  {
   "cell_type": "code",
   "execution_count": 90,
   "metadata": {},
   "outputs": [],
   "source": [
    "# look at matches with a z-score of 2 or higher, keeping the original shape I\n",
    "I_match = [I[i][D_z[i] > -1] for i in range(I.shape[0])]"
   ]
  },
  {
   "cell_type": "code",
   "execution_count": 91,
   "metadata": {},
   "outputs": [
    {
     "name": "stderr",
     "output_type": "stream",
     "text": [
      "/home/ron/miniconda3/envs/protein-vec/lib/python3.7/site-packages/ipykernel_launcher.py:11: VisibleDeprecationWarning: Creating an ndarray from ragged nested sequences (which is a list-or-tuple of lists-or-tuples-or ndarrays with different lengths or shapes) is deprecated. If you meant to do this, you must specify 'dtype=object' when creating the ndarray.\n",
      "  # This is added back by InteractiveShellApp.init_path()\n"
     ]
    }
   ],
   "source": [
    "# examine the quality of the matches\n",
    "near_ids = []\n",
    "for i in range(I.shape[0]):\n",
    "    meta = col_meta_data[I_match[i]]\n",
    "    meta_list = list(meta)\n",
    "    if len(meta_list) > 0:\n",
    "        near_ids.append(meta_list)       \n",
    "    else:\n",
    "        near_ids.append('')\n",
    "\n",
    "near_ids = np.array(near_ids)"
   ]
  },
  {
   "cell_type": "code",
   "execution_count": 92,
   "metadata": {},
   "outputs": [
    {
     "data": {
      "text/plain": [
       "'PF03171;PF14226;'"
      ]
     },
     "execution_count": 92,
     "metadata": {},
     "output_type": "execute_result"
    }
   ],
   "source": [
    "new_proteins.iloc[6]['Pfam']"
   ]
  },
  {
   "cell_type": "code",
   "execution_count": 93,
   "metadata": {},
   "outputs": [],
   "source": [
    "# get all near ids that aren't an empty list and their index\n",
    "idx_non_empty = np.where(near_ids != '')[0]\n",
    "near_ids_tmp = near_ids[idx_non_empty]\n"
   ]
  },
  {
   "cell_type": "code",
   "execution_count": 94,
   "metadata": {},
   "outputs": [
    {
     "data": {
      "text/plain": [
       "Entry                                                                        A0A218QX22\n",
       "Reviewed                                                                       reviewed\n",
       "Entry Name                                                                  KTX22_TITSE\n",
       "Protein names                         Putative potassium channel toxin Ts22 (Putativ...\n",
       "Gene Names                                                                          NaN\n",
       "Organism                                         Tityus serrulatus (Brazilian scorpion)\n",
       "Length                                                                               59\n",
       "Gene Ontology (biological process)                                                  NaN\n",
       "Gene Ontology (cellular component)                    extracellular region [GO:0005576]\n",
       "Gene Ontology (molecular function)    ion channel inhibitor activity [GO:0008200]; p...\n",
       "Gene Ontology (GO)                    extracellular region [GO:0005576]; ion channel...\n",
       "EC number                                                                           NaN\n",
       "Sequence                              MKAFYGILIIFILISMIDLSQQVFINATCTVSSQCRPKCIEAIGQA...\n",
       "Date of creation                                                             2022-08-03\n",
       "Gene3D                                                                      3.30.30.10;\n",
       "Pfam                                                                           PF00451;\n",
       "Name: 1813, dtype: object"
      ]
     },
     "execution_count": 94,
     "metadata": {},
     "output_type": "execute_result"
    }
   ],
   "source": [
    "new_proteins.iloc[1813]"
   ]
  },
  {
   "cell_type": "code",
   "execution_count": 95,
   "metadata": {},
   "outputs": [],
   "source": [
    "# compare accuracy of the matches\n",
    "total_matches = []\n",
    "for i in idx_non_empty:\n",
    "    num_matches = [new_proteins.iloc[i]['Pfam'] in near_ids[i]]\n",
    "    total_matches.append(num_matches)\n",
    "    # true_pfam = new_proteins.iloc[i]['Pfam']\n",
    "    # if true_pfam in near_ids_tmp[i]:\n",
    "    #     print('Match found')\n",
    "    # else:\n",
    "    #     print('No match found')"
   ]
  },
  {
   "cell_type": "code",
   "execution_count": 96,
   "metadata": {},
   "outputs": [
    {
     "data": {
      "text/plain": [
       "947"
      ]
     },
     "execution_count": 96,
     "metadata": {},
     "output_type": "execute_result"
    }
   ],
   "source": [
    "sum([new_proteins.iloc[i]['Pfam'] in near_ids[i] for i in idx_non_empty])"
   ]
  },
  {
   "cell_type": "code",
   "execution_count": 74,
   "metadata": {},
   "outputs": [
    {
     "data": {
      "text/plain": [
       "array([   1,    5,    6, ..., 2342, 2343, 2349])"
      ]
     },
     "execution_count": 74,
     "metadata": {},
     "output_type": "execute_result"
    }
   ],
   "source": [
    "idx_non_empty"
   ]
  },
  {
   "cell_type": "code",
   "execution_count": 76,
   "metadata": {},
   "outputs": [
    {
     "data": {
      "text/plain": [
       "['PF00228;']"
      ]
     },
     "execution_count": 76,
     "metadata": {},
     "output_type": "execute_result"
    }
   ],
   "source": [
    "near_ids[6]"
   ]
  },
  {
   "cell_type": "code",
   "execution_count": 75,
   "metadata": {},
   "outputs": [
    {
     "data": {
      "text/plain": [
       "array([list(['PF01266;', 'PF01266;']), list(['PF00228;']),\n",
       "       list(['PF00228;']), ...,\n",
       "       list(['PF00067;', 'PF00067;', 'PF00067;', 'PF00067;', 'PF00067;', 'PF00067;', 'PF00067;', 'PF00067;', 'PF00067;', 'PF00067;', 'PF00067;', 'PF00067;', 'PF00067;', 'PF00067;', 'PF00067;', 'PF00067;', 'PF00067;', 'PF00067;', 'PF00067;', 'PF00067;', 'PF00067;', 'PF00067;', 'PF00067;']),\n",
       "       list(['PF00096;PF13912;', 'PF02892;', 'PF00096;', 'PF00096;', 'PF00651;PF00096;', 'PF00096;', 'PF01352;PF02023;PF00096;', 'PF00096;PF13909;PF04704;', 'PF00096;', 'PF01352;PF00096;', 'PF00096;PF13894;PF13912;', 'PF01352;PF02023;PF00096;', 'PF07776;PF00096;PF12874;', 'PF00096;', 'PF00096;PF16622;PF13912;', 'PF00651;PF00096;PF13894;', 'PF00096;', 'PF00096;']),\n",
       "       list(['PF02458;', 'PF02458;', 'PF07428;', 'PF00668;'])],\n",
       "      dtype=object)"
      ]
     },
     "execution_count": 75,
     "metadata": {},
     "output_type": "execute_result"
    }
   ],
   "source": [
    "near_ids_tmp"
   ]
  },
  {
   "cell_type": "markdown",
   "metadata": {},
   "source": []
  },
  {
   "cell_type": "code",
   "execution_count": 44,
   "metadata": {},
   "outputs": [
    {
     "data": {
      "text/plain": [
       "(array([2.000000e+00, 1.000000e+00, 1.000000e+00, 1.000000e+00,\n",
       "        1.000000e+00, 5.000000e+00, 5.000000e+00, 5.000000e+00,\n",
       "        1.200000e+01, 2.700000e+01, 4.100000e+01, 4.800000e+01,\n",
       "        8.500000e+01, 1.160000e+02, 1.490000e+02, 1.950000e+02,\n",
       "        2.700000e+02, 3.180000e+02, 4.040000e+02, 4.580000e+02,\n",
       "        5.570000e+02, 6.660000e+02, 7.390000e+02, 1.002000e+03,\n",
       "        1.178000e+03, 1.427000e+03, 1.843000e+03, 2.247000e+03,\n",
       "        2.870000e+03, 3.553000e+03, 4.491000e+03, 5.570000e+03,\n",
       "        7.101000e+03, 8.835000e+03, 1.152800e+04, 1.440400e+04,\n",
       "        1.864400e+04, 2.348100e+04, 2.957500e+04, 3.704800e+04,\n",
       "        4.609700e+04, 5.779900e+04, 7.112000e+04, 8.779600e+04,\n",
       "        1.074150e+05, 1.285870e+05, 1.557880e+05, 1.862640e+05,\n",
       "        2.180930e+05, 2.571660e+05, 2.985550e+05, 3.458270e+05,\n",
       "        3.986830e+05, 4.456830e+05, 5.063600e+05, 5.599140e+05,\n",
       "        6.284390e+05, 6.855620e+05, 7.397410e+05, 8.014940e+05,\n",
       "        8.600630e+05, 9.036990e+05, 9.583960e+05, 9.934770e+05,\n",
       "        1.033722e+06, 1.062534e+06, 1.059400e+06, 1.069618e+06,\n",
       "        1.044121e+06, 1.026702e+06, 9.707870e+05, 9.002210e+05,\n",
       "        8.302880e+05, 7.430170e+05, 6.430370e+05, 5.527100e+05,\n",
       "        4.574500e+05, 3.742170e+05, 2.963850e+05, 2.234510e+05,\n",
       "        1.680650e+05, 1.201780e+05, 8.609600e+04, 5.911900e+04,\n",
       "        4.087300e+04, 2.848800e+04, 2.012500e+04, 1.444000e+04,\n",
       "        1.088900e+04, 8.182000e+03, 6.907000e+03, 6.359000e+03,\n",
       "        5.691000e+03, 4.793000e+03, 3.968000e+03, 2.858000e+03,\n",
       "        1.781000e+03, 1.444000e+03, 8.260000e+02, 3.370000e+02]),\n",
       " array([-7.246403  , -7.1364365 , -7.02647   , -6.9165034 , -6.8065367 ,\n",
       "        -6.6965704 , -6.5866036 , -6.476637  , -6.3666706 , -6.256704  ,\n",
       "        -6.146737  , -6.036771  , -5.926804  , -5.816838  , -5.706871  ,\n",
       "        -5.5969043 , -5.486938  , -5.3769712 , -5.2670045 , -5.157038  ,\n",
       "        -5.0470715 , -4.9371047 , -4.8271384 , -4.7171717 , -4.607205  ,\n",
       "        -4.4972386 , -4.387272  , -4.277305  , -4.167339  , -4.057372  ,\n",
       "        -3.9474056 , -3.837439  , -3.7274723 , -3.6175058 , -3.5075393 ,\n",
       "        -3.3975725 , -3.287606  , -3.1776395 , -3.067673  , -2.9577062 ,\n",
       "        -2.8477397 , -2.7377732 , -2.6278064 , -2.51784   , -2.4078734 ,\n",
       "        -2.2979069 , -2.1879401 , -2.0779736 , -1.968007  , -1.8580405 ,\n",
       "        -1.7480738 , -1.6381072 , -1.5281407 , -1.418174  , -1.3082075 ,\n",
       "        -1.1982409 , -1.0882742 , -0.9783077 , -0.8683411 , -0.7583745 ,\n",
       "        -0.64840794, -0.53844136, -0.42847475, -0.31850818, -0.20854159,\n",
       "        -0.098575  ,  0.01139159,  0.12135818,  0.23132476,  0.34129137,\n",
       "         0.45125794,  0.5612245 ,  0.6711911 ,  0.78115773,  0.8911243 ,\n",
       "         1.0010909 ,  1.1110575 ,  1.221024  ,  1.3309907 ,  1.4409572 ,\n",
       "         1.5509238 ,  1.6608905 ,  1.770857  ,  1.8808236 ,  1.9907901 ,\n",
       "         2.1007566 ,  2.2107234 ,  2.32069   ,  2.4306564 ,  2.5406232 ,\n",
       "         2.6505897 ,  2.7605562 ,  2.870523  ,  2.9804895 ,  3.090456  ,\n",
       "         3.2004228 ,  3.3103893 ,  3.4203558 ,  3.5303223 ,  3.640289  ,\n",
       "         3.7502556 ], dtype=float32),\n",
       " <BarContainer object of 100 artists>)"
      ]
     },
     "execution_count": 44,
     "metadata": {},
     "output_type": "execute_result"
    },
    {
     "data": {
      "image/png": "[encoded data removed]",
      "text/plain": [
       "<Figure size 640x480 with 1 Axes>"
      ]
     },
     "metadata": {},
     "output_type": "display_data"
    }
   ],
   "source": [
    "# plot the z-scores\n",
    "plt.hist(D_z.flatten(), bins=100)"
   ]
  },
  {
   "cell_type": "code",
   "execution_count": 29,
   "metadata": {},
   "outputs": [
    {
     "data": {
      "text/plain": [
       "(3.7502556, -7.246403)"
      ]
     },
     "execution_count": 29,
     "metadata": {},
     "output_type": "execute_result"
    }
   ],
   "source": [
    "np.max(D_z), np.min(D_z)"
   ]
  },
  {
   "cell_type": "code",
   "execution_count": 44,
   "metadata": {},
   "outputs": [],
   "source": [
    "# save D, I, col_query, col_lookup\n",
    "np.save('lookup_embeddings_faiss_query_results.npy', D)\n",
    "np.save('lookup_embeddings_faiss_query_indices.npy', I)\n",
    "col_query.to_csv('lookup_embeddings_faiss_query_meta_data.tsv', sep=\"\\t\")\n",
    "col_lookup.to_csv('lookup_embeddings_faiss_lookup_meta_data.tsv', sep=\"\\t\")\n"
   ]
  },
  {
   "cell_type": "code",
   "execution_count": 45,
   "metadata": {},
   "outputs": [
    {
     "data": {
      "text/plain": [
       "103590"
      ]
     },
     "execution_count": 45,
     "metadata": {},
     "output_type": "execute_result"
    }
   ],
   "source": [
    "I.shape[0]"
   ]
  },
  {
   "cell_type": "code",
   "execution_count": 46,
   "metadata": {},
   "outputs": [],
   "source": [
    "meta = col_meta_data[I[0]]"
   ]
  },
  {
   "cell_type": "code",
   "execution_count": 49,
   "metadata": {},
   "outputs": [],
   "source": [
    "meta_query = col_query.iloc[0][column]"
   ]
  },
  {
   "cell_type": "code",
   "execution_count": 50,
   "metadata": {},
   "outputs": [
    {
     "data": {
      "text/plain": [
       "'PF01266;'"
      ]
     },
     "execution_count": 50,
     "metadata": {},
     "output_type": "execute_result"
    }
   ],
   "source": [
    "meta_query"
   ]
  },
  {
   "cell_type": "code",
   "execution_count": 61,
   "metadata": {},
   "outputs": [],
   "source": [
    "near_ids = []\n",
    "# for i in range(I.shape[0]):\n",
    "for i in range(10000):\n",
    "    meta = col_meta_data[I[i]]\n",
    "    meta_query = col_query.iloc[i][column]\n",
    "    # if no annotation for the query, skip\n",
    "    \n",
    "    if meta_query is np.nan:\n",
    "        continue\n",
    "    # create boolean mask for proteins that have the same annotation as the query\n",
    "    # print(meta_query)\n",
    "\n",
    "    # technically, this is a partial hit. to get exact hits, use the following line\n",
    "\n",
    "    # mask_query_in_lookup = [meta_query in meta[k] for k in range(len(meta))]\n",
    "    # kind of confusing. delineate the cases of different hits based on number of Pfam/EC/etc annotations\n",
    "\n",
    "    mask_exact = [meta_query == meta[k] for k in range(len(meta))]\n",
    "    # partial hits\n",
    "    if meta_query.count(';') > 1:\n",
    "        available_pfs = meta_query.split(';')\n",
    "        mask_partial = [[available_pfs[j] in meta[k] for j in range(len(available_pfs) - 1)] for k in range(len(meta))]\n",
    "    else:\n",
    "        mask_partial = [meta_query in meta[k] for k in range(len(meta))]\n",
    "\n",
    "    \n",
    "    # available_pfs = meta_query.split(';')\n",
    "    # mask_partial = [[available_pfs[j] in meta[k] for j in range(len(available_pfs) - 1)] for k in range(len(meta))]\n",
    "    \n",
    "    near_ids.append({\n",
    "        'meta': meta,\n",
    "        'meta_query': meta_query,\n",
    "        'exact': mask_exact,\n",
    "        'partial': mask_partial,\n",
    "        'S_i': D[i]\n",
    "    })   "
   ]
  },
  {
   "cell_type": "code",
   "execution_count": 63,
   "metadata": {},
   "outputs": [],
   "source": [
    "# save the results\n",
    "np.save('conformal_pfam_with_lookup_dataset.npy', near_ids)"
   ]
  },
  {
   "cell_type": "markdown",
   "metadata": {},
   "source": [
    "### Make the same dataset but for new proteins after the cutoff date"
   ]
  },
  {
   "cell_type": "code",
   "execution_count": null,
   "metadata": {},
   "outputs": [],
   "source": [
    "query_embeddings = np.load('new_protein_embeddings.npy')"
   ]
  },
  {
   "cell_type": "code",
   "execution_count": null,
   "metadata": {},
   "outputs": [],
   "source": [
    "# Filter for lookup proteins with annotations for the relavant aspect (don't want to transfer null annotations)\n",
    "col_lookup = lookup_proteins_meta[~lookup_proteins_meta[column].isnull()]\n",
    "col_lookup_embeddings = embeddings[col_lookup.index]\n",
    "col_meta_data = col_lookup[column].values\n"
   ]
  },
  {
   "cell_type": "code",
   "execution_count": null,
   "metadata": {},
   "outputs": [],
   "source": []
  }
 ],
 "metadata": {
  "kernelspec": {
   "display_name": "protein-vec",
   "language": "python",
   "name": "python3"
  },
  "language_info": {
   "codemirror_mode": {
    "name": "ipython",
    "version": 3
   },
   "file_extension": ".py",
   "mimetype": "text/x-python",
   "name": "python",
   "nbconvert_exporter": "python",
   "pygments_lexer": "ipython3",
   "version": "3.7.16"
  }
 },
 "nbformat": 4,
 "nbformat_minor": 2
}

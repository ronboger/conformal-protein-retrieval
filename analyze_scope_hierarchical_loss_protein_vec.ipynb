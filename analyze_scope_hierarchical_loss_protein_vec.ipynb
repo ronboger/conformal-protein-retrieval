{
 "cells": [
  {
   "cell_type": "markdown",
   "metadata": {},
   "source": [
    "### Final end-to-end procedure\n",
    "\n",
    "We will now run the full conformal procedure, randomly shuffling the data into a calibration and test set, before using the best lambda found on calibration to evaluate using hierarchical loss on test. Lets see how far the test loss diverges from the best lambda's loss (which we know is within our threshold of sampling proteins with at least the same superfamily)."
   ]
  },
  {
   "cell_type": "code",
   "execution_count": 1,
   "metadata": {},
   "outputs": [
    {
     "name": "stdout",
     "output_type": "stream",
     "text": [
      "worst case loss: 3.976855924747919\n",
      "Loss threshold: 0.9900771469175069\n",
      "Best lambda: 8.000541418516514\n",
      "Loss of best lambda: 0.977361111111111\n",
      "Trial 1: Lambda: 8.00, Test loss: 1.06\n",
      "worst case loss: 3.976855924747919\n",
      "Loss threshold: 0.9900771469175069\n",
      "Best lambda: 7.00047374120195\n",
      "Loss of best lambda: 0.9645238095238097\n",
      "Trial 2: Lambda: 7.00, Test loss: 0.89\n",
      "worst case loss: 3.976855924747919\n",
      "Loss threshold: 0.9900771469175069\n",
      "Best lambda: 7.00047374120195\n",
      "Loss of best lambda: 0.9519642857142857\n",
      "Trial 3: Lambda: 7.00, Test loss: 0.93\n",
      "worst case loss: 3.976855924747919\n",
      "Loss threshold: 0.9900771469175069\n",
      "Best lambda: 8.000541418516514\n",
      "Loss of best lambda: 0.9817592592592592\n",
      "Trial 4: Lambda: 8.00, Test loss: 1.05\n",
      "worst case loss: 3.976855924747919\n",
      "Loss threshold: 0.9900771469175069\n",
      "Best lambda: 7.00047374120195\n",
      "Loss of best lambda: 0.9594642857142858\n",
      "Trial 5: Lambda: 7.00, Test loss: 0.91\n",
      "worst case loss: 3.976855924747919\n",
      "Loss threshold: 0.9900771469175069\n",
      "Best lambda: 8.000541418516514\n",
      "Loss of best lambda: 0.9831481481481482\n",
      "Trial 6: Lambda: 8.00, Test loss: 1.04\n",
      "worst case loss: 3.976855924747919\n",
      "Loss threshold: 0.9900771469175069\n",
      "Best lambda: 7.00047374120195\n",
      "Loss of best lambda: 0.9588690476190476\n",
      "Trial 7: Lambda: 7.00, Test loss: 0.91\n",
      "worst case loss: 3.976855924747919\n",
      "Loss threshold: 0.9900771469175069\n",
      "Best lambda: 8.000541418516514\n",
      "Loss of best lambda: 0.9599074074074074\n",
      "Trial 8: Lambda: 8.00, Test loss: 1.11\n",
      "worst case loss: 3.976855924747919\n",
      "Loss threshold: 0.9900771469175069\n",
      "Best lambda: 7.00047374120195\n",
      "Loss of best lambda: 0.9766071428571428\n",
      "Trial 9: Lambda: 7.00, Test loss: 0.86\n",
      "worst case loss: 3.976855924747919\n",
      "Loss threshold: 0.9900771469175069\n",
      "Best lambda: 7.00047374120195\n",
      "Loss of best lambda: 0.9727380952380952\n",
      "Trial 10: Lambda: 7.00, Test loss: 0.87\n"
     ]
    }
   ],
   "source": [
    "from scope_utils import get_sims_labels, get_thresh_hierarchical, get_hierarchical_loss\n",
    "import numpy as np\n",
    "near_ids = np.load('partial_near_ids_scope_test_v_lookup.npy', allow_pickle=True)\n",
    "\n",
    "sims, _ = get_sims_labels(near_ids, partial=False)\n",
    "sims = np.asarray(sims)\n",
    "\n",
    "# Normalize data using min-max scaling (we assume we don't have )\n",
    "min_sim, max_sim = min(sims), max(sims)\n",
    "min_row, max_row = [], []\n",
    "for query in near_ids:\n",
    "    query['Norm_S_i'] = (query['S_i'] - min_sim) / (max_sim - min_sim) # normalize each row of S_i\n",
    "    min_row.append(min(query['Norm_S_i'])) \n",
    "    max_row.append(max(query['Norm_S_i']))\n",
    "\n",
    "    # Now we cumsum the normalized S_i\n",
    "    query['Sum_Norm_S_i'] = np.cumsum(query['Norm_S_i'])\n",
    "sims_norm = (sims - min(sims)) / (max(sims) - min(sims))\n",
    "\n",
    "# Define lambda linspace, NOTE: for now we want to play around with it so we keep it here, can move it to the get_thresh_hierarchical function later.\n",
    "x = np.linspace(min(min_row)*near_ids[0]['S_i'].shape[0], max(max_row)*near_ids[0]['S_i'].shape[0], near_ids[0]['S_i'].shape[0])\n",
    "\n",
    "num_trials = 10\n",
    "alpha = 1 # max avg. loss we want (on average, each protein retrieved is at most divergent at the family level only)\n",
    "n_calib = 300 # NOTE: 300 calib, 100 test for now.\n",
    "for trial in range(num_trials):\n",
    "    # Randomly split data into calibration and test sets\n",
    "    np.random.shuffle(near_ids)\n",
    "    cal_data = near_ids[:n_calib]\n",
    "    test_data = near_ids[n_calib:]\n",
    "    lhat, _ = get_thresh_hierarchical(cal_data, x, alpha)\n",
    "\n",
    "    test_loss = get_hierarchical_loss(test_data, lhat)\n",
    "\n",
    "    print(f'Trial {trial+1}: Lambda: {lhat:.2f}, Test loss: {test_loss:.2f}')\n",
    "    \n",
    "    #error, fraction_inexact, error_partial, fraction_partial = validate_lhat(test_data, lhat)\n",
    "    #print(f'Trial {trial+1}: Ex&!Id/Ex: {error:.2f}, In/Id: {fraction_inexact:.2f}, Pa&!Id/Pa: {error_partial:.2f}, Pa&Id/Id: {fraction_partial:.2f}')\n"
   ]
  },
  {
   "cell_type": "code",
   "execution_count": 2,
   "metadata": {},
   "outputs": [
    {
     "name": "stdout",
     "output_type": "stream",
     "text": [
      "worst case loss: 3.976855924747919\n",
      "Loss threshold: 1.9934104802508403\n",
      "Best lambda: 47.00318083378452\n",
      "Loss of best lambda: 1.9814648971056037\n",
      "Trial 1: Lambda: 47.00, Test loss: 1.82\n",
      "worst case loss: 3.976855924747919\n",
      "Loss threshold: 1.9934104802508403\n",
      "Best lambda: 51.00345154304278\n",
      "Loss of best lambda: 1.9878748317831476\n",
      "Trial 2: Lambda: 51.00, Test loss: 2.03\n",
      "worst case loss: 3.976855924747919\n",
      "Loss threshold: 1.9934104802508403\n",
      "Best lambda: 50.00338386572821\n",
      "Loss of best lambda: 1.9924370855241886\n",
      "Trial 3: Lambda: 50.00, Test loss: 1.96\n",
      "worst case loss: 3.976855924747919\n",
      "Loss threshold: 1.9934104802508403\n",
      "Best lambda: 52.00351922035734\n",
      "Loss of best lambda: 1.9889176574542284\n",
      "Trial 4: Lambda: 52.00, Test loss: 2.08\n",
      "worst case loss: 3.976855924747919\n",
      "Loss threshold: 1.9934104802508403\n",
      "Best lambda: 48.00324851109909\n",
      "Loss of best lambda: 1.9892043515001705\n",
      "Trial 5: Lambda: 48.00, Test loss: 1.85\n",
      "worst case loss: 3.976855924747919\n",
      "Loss threshold: 1.9934104802508403\n",
      "Best lambda: 46.00311315646996\n",
      "Loss of best lambda: 1.9824262650531674\n",
      "Trial 6: Lambda: 46.00, Test loss: 1.76\n",
      "worst case loss: 3.976855924747919\n",
      "Loss threshold: 1.9934104802508403\n",
      "Best lambda: 52.00351922035734\n",
      "Loss of best lambda: 1.9854465381639745\n",
      "Trial 7: Lambda: 52.00, Test loss: 2.09\n",
      "worst case loss: 3.976855924747919\n",
      "Loss threshold: 1.9934104802508403\n",
      "Best lambda: 49.00331618841365\n",
      "Loss of best lambda: 1.9903553530218483\n",
      "Trial 8: Lambda: 49.00, Test loss: 1.91\n",
      "worst case loss: 3.976855924747919\n",
      "Loss threshold: 1.9934104802508403\n",
      "Best lambda: 54.00365457498647\n",
      "Loss of best lambda: 1.9845523063654293\n",
      "Trial 9: Lambda: 54.00, Test loss: 2.19\n",
      "worst case loss: 3.976855924747919\n",
      "Loss threshold: 1.9934104802508403\n",
      "Best lambda: 53.00358689767191\n",
      "Loss of best lambda: 1.9908968087873362\n",
      "Trial 10: Lambda: 53.00, Test loss: 2.12\n"
     ]
    }
   ],
   "source": [
    "num_trials = 10\n",
    "alpha = 2 # max avg. loss we want (on average, each protein retrieved is at most divergent at the family and superfamily level only)\n",
    "n_calib = 300 # NOTE: 300 calib, 100 test for now.\n",
    "for trial in range(num_trials):\n",
    "    # Randomly split data into calibration and test sets\n",
    "    np.random.shuffle(near_ids)\n",
    "    cal_data = near_ids[:n_calib]\n",
    "    test_data = near_ids[n_calib:]\n",
    "    lhat, _ = get_thresh_hierarchical(cal_data, x, alpha)\n",
    "\n",
    "    test_loss = get_hierarchical_loss(test_data, lhat)\n",
    "\n",
    "    print(f'Trial {trial+1}: Lambda: {lhat:.2f}, Test loss: {test_loss:.2f}')\n",
    "    \n",
    "    #error, fraction_inexact, error_partial, fraction_partial = validate_lhat(test_data, lhat)\n",
    "    #print(f'Trial {trial+1}: Ex&!Id/Ex: {error:.2f}, In/Id: {fraction_inexact:.2f}, Pa&!Id/Pa: {error_partial:.2f}, Pa&Id/Id: {fraction_partial:.2f}')\n"
   ]
  },
  {
   "cell_type": "code",
   "execution_count": 3,
   "metadata": {},
   "outputs": [
    {
     "name": "stdout",
     "output_type": "stream",
     "text": [
      "worst case loss: 3.976855924747919\n",
      "Loss threshold: 2.9967438135841737\n",
      "Best lambda: 281.01901732539255\n",
      "Loss of best lambda: 2.996733552292797\n",
      "Trial 1: Lambda: 281.02, Test loss: 2.99\n",
      "worst case loss: 3.976855924747919\n",
      "Loss threshold: 2.9967438135841737\n",
      "Best lambda: 284.0192203573362\n",
      "Loss of best lambda: 2.995273347815085\n",
      "Trial 2: Lambda: 284.02, Test loss: 3.01\n",
      "worst case loss: 3.976855924747919\n",
      "Loss threshold: 2.9967438135841737\n",
      "Best lambda: 280.018949648078\n",
      "Loss of best lambda: 2.9961104582926414\n",
      "Trial 3: Lambda: 280.02, Test loss: 2.98\n",
      "worst case loss: 3.9766529065439533\n",
      "Loss threshold: 2.9967444903115203\n",
      "Best lambda: 262.01773145641585\n",
      "Loss of best lambda: 2.995654782091469\n",
      "Trial 4: Lambda: 262.02, Test loss: 2.86\n",
      "worst case loss: 3.976855924747919\n",
      "Loss threshold: 2.9967438135841737\n",
      "Best lambda: 279.0188819707634\n",
      "Loss of best lambda: 2.996095503154845\n",
      "Trial 5: Lambda: 279.02, Test loss: 2.97\n",
      "worst case loss: 3.976855924747919\n",
      "Loss threshold: 2.9967438135841737\n",
      "Best lambda: 287.01942338927995\n",
      "Loss of best lambda: 2.9964587822223683\n",
      "Trial 6: Lambda: 287.02, Test loss: 3.03\n",
      "worst case loss: 3.976855924747919\n",
      "Loss threshold: 2.9967438135841737\n",
      "Best lambda: 289.01955874390904\n",
      "Loss of best lambda: 2.995952993502234\n",
      "Trial 7: Lambda: 289.02, Test loss: 3.04\n",
      "worst case loss: 3.976855924747919\n",
      "Loss threshold: 2.9967438135841737\n",
      "Best lambda: 292.01976177585277\n",
      "Loss of best lambda: 2.9959496387094067\n",
      "Trial 8: Lambda: 292.02, Test loss: 3.06\n",
      "worst case loss: 3.976855924747919\n",
      "Loss threshold: 2.9967438135841737\n",
      "Best lambda: 287.01942338927995\n",
      "Loss of best lambda: 2.995780263559117\n",
      "Trial 9: Lambda: 287.02, Test loss: 3.03\n",
      "worst case loss: 3.9766529065439533\n",
      "Loss threshold: 2.9967444903115203\n",
      "Best lambda: 285.0192880346508\n",
      "Loss of best lambda: 2.996702761583512\n",
      "Trial 10: Lambda: 285.02, Test loss: 3.01\n"
     ]
    }
   ],
   "source": [
    "num_trials = 10\n",
    "alpha = 3 # max avg. loss we want (on average, each protein retrieved is at most divergent at the family, superfamily and fold level only)\n",
    "n_calib = 300 # NOTE: 300 calib, 100 test for now.\n",
    "for trial in range(num_trials):\n",
    "    # Randomly split data into calibration and test sets\n",
    "    np.random.shuffle(near_ids)\n",
    "    cal_data = near_ids[:n_calib]\n",
    "    test_data = near_ids[n_calib:]\n",
    "    lhat, _ = get_thresh_hierarchical(cal_data, x, alpha)\n",
    "\n",
    "    test_loss = get_hierarchical_loss(test_data, lhat)\n",
    "\n",
    "    print(f'Trial {trial+1}: Lambda: {lhat:.2f}, Test loss: {test_loss:.2f}')\n",
    "    \n",
    "    #error, fraction_inexact, error_partial, fraction_partial = validate_lhat(test_data, lhat)\n",
    "    #print(f'Trial {trial+1}: Ex&!Id/Ex: {error:.2f}, In/Id: {fraction_inexact:.2f}, Pa&!Id/Pa: {error_partial:.2f}, Pa&Id/Id: {fraction_partial:.2f}')\n"
   ]
  },
  {
   "cell_type": "code",
   "execution_count": 7,
   "metadata": {},
   "outputs": [],
   "source": [
    "x = np.linspace(0, 100, 100) # max family size is ~100, assuming all retrieved proteins are max prob of 1\n",
    "\n",
    "loss = []\n",
    "for l in x:\n",
    "    loss.append(get_hierarchical_loss(near_ids, l))\n",
    "\n"
   ]
  },
  {
   "cell_type": "code",
   "execution_count": 10,
   "metadata": {},
   "outputs": [
    {
     "data": {
      "image/png": "[encoded data removed]",
      "text/plain": [
       "<Figure size 640x480 with 1 Axes>"
      ]
     },
     "metadata": {},
     "output_type": "display_data"
    }
   ],
   "source": [
    "# plot loss vs lambda\n",
    "import matplotlib.pyplot as plt\n",
    "plt.plot(x, loss)\n",
    "plt.xlabel('Lambda')\n",
    "plt.ylabel('Hierarchical loss')\n",
    "plt.title('Hierarchical loss vs Lambda (full scope test vs lookup)')\n",
    "plt.show()\n"
   ]
  },
  {
   "cell_type": "markdown",
   "metadata": {},
   "source": [
    "### Try max hierarchical loss\n",
    "Taking the max over the set of retrieved proteins within our similarity threshold may be better, as it increases monotonically."
   ]
  },
  {
   "cell_type": "code",
   "execution_count": 1,
   "metadata": {},
   "outputs": [
    {
     "data": {
      "text/plain": [
       "(0.9992992877960205, 0.9999949336051941)"
      ]
     },
     "execution_count": 1,
     "metadata": {},
     "output_type": "execute_result"
    }
   ],
   "source": [
    "from scope_utils import get_sims_labels, get_hierarchical_max_loss, get_thresh_max_hierarchical\n",
    "import numpy as np\n",
    "near_ids = np.load('partial_near_ids_scope_test_v_lookup.npy', allow_pickle=True)\n",
    "\n",
    "sims, _ = get_sims_labels(near_ids, partial=False)\n",
    "\n",
    "x = np.linspace(min(sims), max(sims), 1000)\n",
    "\n",
    "min(x), max(x)"
   ]
  },
  {
   "cell_type": "code",
   "execution_count": 2,
   "metadata": {},
   "outputs": [],
   "source": [
    "loss = []\n",
    "for l in reversed(x):\n",
    "    loss.append(get_hierarchical_max_loss(near_ids, l))\n",
    "\n"
   ]
  },
  {
   "cell_type": "code",
   "execution_count": 6,
   "metadata": {},
   "outputs": [
    {
     "data": {
      "image/png": "[encoded data removed]",
      "text/plain": [
       "<Figure size 640x480 with 1 Axes>"
      ]
     },
     "metadata": {},
     "output_type": "display_data"
    }
   ],
   "source": [
    "import matplotlib.pyplot as plt\n",
    "plt.plot(x, loss[::-1])\n",
    "plt.xlabel('Lambda (raw similarity scores)')\n",
    "plt.ylabel('Max Hierarchical loss')\n",
    "plt.title('Max Hierarchical loss vs Lambda (full scope test vs lookup)')\n",
    "plt.show()\n"
   ]
  },
  {
   "cell_type": "code",
   "execution_count": 2,
   "metadata": {},
   "outputs": [
    {
     "name": "stdout",
     "output_type": "stream",
     "text": [
      "worst case loss: 4\n",
      "Loss threshold: 0.99\n",
      "Best lambda: 0.9999524567339633\n",
      "Loss of best lambda: 0.9833333333333333\n",
      "Trial 1: Lambda: 1.00, Test loss: 0.91\n",
      "worst case loss: 4\n",
      "Loss threshold: 0.99\n",
      "Best lambda: 0.999951760391812\n",
      "Loss of best lambda: 0.97\n",
      "Trial 2: Lambda: 1.00, Test loss: 1.02\n",
      "worst case loss: 4\n",
      "Loss threshold: 0.99\n",
      "Best lambda: 0.999951760391812\n",
      "Loss of best lambda: 0.96\n",
      "Trial 3: Lambda: 1.00, Test loss: 1.05\n",
      "worst case loss: 4\n",
      "Loss threshold: 0.99\n",
      "Best lambda: 0.999951760391812\n",
      "Loss of best lambda: 0.98\n",
      "Trial 4: Lambda: 1.00, Test loss: 0.99\n",
      "worst case loss: 4\n",
      "Loss threshold: 0.99\n",
      "Best lambda: 0.999951760391812\n",
      "Loss of best lambda: 0.9733333333333334\n",
      "Trial 5: Lambda: 1.00, Test loss: 1.01\n",
      "worst case loss: 4\n",
      "Loss threshold: 0.99\n",
      "Best lambda: 0.9999510640496606\n",
      "Loss of best lambda: 0.9833333333333333\n",
      "Trial 6: Lambda: 1.00, Test loss: 1.10\n",
      "worst case loss: 4\n",
      "Loss threshold: 0.99\n",
      "Best lambda: 0.9999510640496606\n",
      "Loss of best lambda: 0.97\n",
      "Trial 7: Lambda: 1.00, Test loss: 1.14\n",
      "worst case loss: 4\n",
      "Loss threshold: 0.99\n",
      "Best lambda: 0.9999524567339633\n",
      "Loss of best lambda: 0.98\n",
      "Trial 8: Lambda: 1.00, Test loss: 0.92\n",
      "worst case loss: 4\n",
      "Loss threshold: 0.99\n",
      "Best lambda: 0.999951760391812\n",
      "Loss of best lambda: 0.9766666666666667\n",
      "Trial 9: Lambda: 1.00, Test loss: 1.00\n",
      "worst case loss: 4\n",
      "Loss threshold: 0.99\n",
      "Best lambda: 0.9999510640496606\n",
      "Loss of best lambda: 0.98\n",
      "Trial 10: Lambda: 1.00, Test loss: 1.11\n"
     ]
    }
   ],
   "source": [
    "num_trials = 10\n",
    "alpha = 1 # max avg. loss we want (on average, each protein retrieved is at most divergent at the family level only)\n",
    "n_calib = 300 # NOTE: 300 calib, 100 test for now.\n",
    "for trial in range(num_trials):\n",
    "    # Randomly split data into calibration and test sets\n",
    "    np.random.shuffle(near_ids)\n",
    "    cal_data = near_ids[:n_calib]\n",
    "    test_data = near_ids[n_calib:]\n",
    "    lhat, _ = get_thresh_max_hierarchical(cal_data, x, alpha)\n",
    "\n",
    "    test_loss = get_hierarchical_max_loss(test_data, lhat)\n",
    "\n",
    "    print(f'Trial {trial+1}: Lambda: {lhat:.2f}, Test loss: {test_loss:.2f}')\n",
    "    \n",
    "    #error, fraction_inexact, error_partial, fraction_partial = validate_lhat(test_data, lhat)\n",
    "    #print(f'Trial {trial+1}: Ex&!Id/Ex: {error:.2f}, In/Id: {fraction_inexact:.2f}, Pa&!Id/Pa: {error_partial:.2f}, Pa&Id/Id: {fraction_partial:.2f}')\n"
   ]
  },
  {
   "cell_type": "code",
   "execution_count": null,
   "metadata": {},
   "outputs": [],
   "source": []
  }
 ],
 "metadata": {
  "kernelspec": {
   "display_name": "toph",
   "language": "python",
   "name": "python3"
  },
  "language_info": {
   "codemirror_mode": {
    "name": "ipython",
    "version": 3
   },
   "file_extension": ".py",
   "mimetype": "text/x-python",
   "name": "python",
   "nbconvert_exporter": "python",
   "pygments_lexer": "ipython3",
   "version": "3.11.5"
  }
 },
 "nbformat": 4,
 "nbformat_minor": 2
}
